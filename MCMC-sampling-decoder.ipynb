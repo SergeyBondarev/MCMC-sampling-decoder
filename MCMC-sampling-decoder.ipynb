{
 "cells": [
  {
   "cell_type": "code",
   "execution_count": 3,
   "metadata": {
    "scrolled": true
   },
   "outputs": [
    {
     "name": "stdout",
     "output_type": "stream",
     "text": [
      "--2022-05-09 14:37:29--  https://www.dropbox.com/s/k23enjvr3fb40o5/corpora.zip\n",
      "Resolving www.dropbox.com (www.dropbox.com)... 2620:100:6022:18::a27d:4212, 162.125.70.18\n",
      "Connecting to www.dropbox.com (www.dropbox.com)|2620:100:6022:18::a27d:4212|:443... connected.\n",
      "HTTP request sent, awaiting response... 301 Moved Permanently\n",
      "Location: /s/raw/k23enjvr3fb40o5/corpora.zip [following]\n",
      "--2022-05-09 14:37:29--  https://www.dropbox.com/s/raw/k23enjvr3fb40o5/corpora.zip\n",
      "Reusing existing connection to [www.dropbox.com]:443.\n",
      "HTTP request sent, awaiting response... 302 Found\n",
      "Location: https://uc295d00c66186cfedb23c10e802.dl.dropboxusercontent.com/cd/0/inline/Bk-Qzui0cG0cNSueV5AzOeoN-EfDIsmZbLUTJP7GvDgF-amwCQ2v8nPKyw5rp6SDklhd-wtM_ZLkVtkghGJDHCEhSbA7ypg3blU6OaOURX7O_OvY5fK15WqM3q5oNsm_Tzxe8iOYSIdRRj2NzDMmTcz6GKIBtoDLJTLy7XaYHOvR9w/file# [following]\n",
      "--2022-05-09 14:37:30--  https://uc295d00c66186cfedb23c10e802.dl.dropboxusercontent.com/cd/0/inline/Bk-Qzui0cG0cNSueV5AzOeoN-EfDIsmZbLUTJP7GvDgF-amwCQ2v8nPKyw5rp6SDklhd-wtM_ZLkVtkghGJDHCEhSbA7ypg3blU6OaOURX7O_OvY5fK15WqM3q5oNsm_Tzxe8iOYSIdRRj2NzDMmTcz6GKIBtoDLJTLy7XaYHOvR9w/file\n",
      "Resolving uc295d00c66186cfedb23c10e802.dl.dropboxusercontent.com (uc295d00c66186cfedb23c10e802.dl.dropboxusercontent.com)... 2620:100:6022:15::a27d:420f, 162.125.70.15\n",
      "Connecting to uc295d00c66186cfedb23c10e802.dl.dropboxusercontent.com (uc295d00c66186cfedb23c10e802.dl.dropboxusercontent.com)|2620:100:6022:15::a27d:420f|:443... connected.\n",
      "HTTP request sent, awaiting response... 302 Found\n",
      "Location: /cd/0/inline2/Bk-I7XY9lrqzDeqQqd9msI3-NVSY9qWTcMQ07-zK8tBhefUJVgHtWeRmpU-go8ayyiqkSX-YBScZlNuf8EE9XGcU8GWB0GifvhLa7Rz_jF7efYPELWRjpq0B2FLEeNjZYcT7Q3d5YMHemBUJjqL0gebaY_OGVQgPTweR_plOlo8MAYqGT-fkdA_qOkJi6wPdw7xCtgikGQj3tVHT6URAj-7MrjPm_oDiM7J3Q2bZI6BZMM0ggI0uhCR89Fe_xn95T9Toex-F4DPo7lUm1Xt91fGJdvfOPWR1xzF0u58JRaXLxzH2KifT7DVzKr6a4Unj9OU3Hee2wR-K9zlpsmTtXw5P7zA1Pq81VeZ81Ywrik-SPyInRZ_dHg10N7r9FTFDemqLMgVWNdXs5lx5MFkejbt1-fFFOn90k41iqrm_LBgVXg/file [following]\n",
      "--2022-05-09 14:37:30--  https://uc295d00c66186cfedb23c10e802.dl.dropboxusercontent.com/cd/0/inline2/Bk-I7XY9lrqzDeqQqd9msI3-NVSY9qWTcMQ07-zK8tBhefUJVgHtWeRmpU-go8ayyiqkSX-YBScZlNuf8EE9XGcU8GWB0GifvhLa7Rz_jF7efYPELWRjpq0B2FLEeNjZYcT7Q3d5YMHemBUJjqL0gebaY_OGVQgPTweR_plOlo8MAYqGT-fkdA_qOkJi6wPdw7xCtgikGQj3tVHT6URAj-7MrjPm_oDiM7J3Q2bZI6BZMM0ggI0uhCR89Fe_xn95T9Toex-F4DPo7lUm1Xt91fGJdvfOPWR1xzF0u58JRaXLxzH2KifT7DVzKr6a4Unj9OU3Hee2wR-K9zlpsmTtXw5P7zA1Pq81VeZ81Ywrik-SPyInRZ_dHg10N7r9FTFDemqLMgVWNdXs5lx5MFkejbt1-fFFOn90k41iqrm_LBgVXg/file\n",
      "Reusing existing connection to [uc295d00c66186cfedb23c10e802.dl.dropboxusercontent.com]:443.\n",
      "HTTP request sent, awaiting response... 200 OK\n",
      "Length: 2434585 (2.3M) [application/zip]\n",
      "Saving to: ‘corpora.zip’\n",
      "\n",
      "corpora.zip         100%[===================>]   2.32M  12.1MB/s    in 0.2s    \n",
      "\n",
      "2022-05-09 14:37:31 (12.1 MB/s) - ‘corpora.zip’ saved [2434585/2434585]\n",
      "\n",
      "Archive:  corpora.zip\n",
      "  inflating: AnnaKarenina.txt        \n",
      "  inflating: WarAndPeace.txt         \n",
      "  inflating: WarAndPeaceEng.txt      \n"
     ]
    }
   ],
   "source": [
    "!wget https://www.dropbox.com/s/k23enjvr3fb40o5/corpora.zip\n",
    "    \n",
    "!unzip corpora.zip"
   ]
  },
  {
   "cell_type": "markdown",
   "metadata": {},
   "source": [
    "## Базовый частотный метод"
   ]
  },
  {
   "cell_type": "code",
   "execution_count": 149,
   "metadata": {},
   "outputs": [],
   "source": [
    "def read_text(file_name):\n",
    "    with open(file_name, encoding='utf-8') as f:\n",
    "        text = f.read()\n",
    "        text = text.lower()\n",
    "        text = text.replace('\\n', ' ')\n",
    "        return text\n",
    "\n",
    "\n",
    "anna_karenina = read_text('AnnaKarenina.txt')\n",
    "war_peace_ru = read_text('WarAndPeace.txt')\n",
    "war_peace_eng = read_text('WarAndPeaceEng.txt')"
   ]
  },
  {
   "cell_type": "markdown",
   "metadata": {},
   "source": [
    "Посмотрим на считанные тексты."
   ]
  },
  {
   "cell_type": "code",
   "execution_count": 150,
   "metadata": {},
   "outputs": [
    {
     "data": {
      "text/plain": [
       "'annotation   «анна каренина», один из самых знаменитых романов льва толстого, начинается ставшей афо'"
      ]
     },
     "execution_count": 150,
     "metadata": {},
     "output_type": "execute_result"
    }
   ],
   "source": [
    "anna_karenina[:100]"
   ]
  },
  {
   "cell_type": "code",
   "execution_count": 151,
   "metadata": {},
   "outputs": [
    {
     "data": {
      "text/plain": [
       "'annotation   \\t\"война и мир\" – самый известный роман льва николаевича толстого, как никакое другое пр'"
      ]
     },
     "execution_count": 151,
     "metadata": {},
     "output_type": "execute_result"
    }
   ],
   "source": [
    "war_peace_ru[:100]"
   ]
  },
  {
   "cell_type": "code",
   "execution_count": 152,
   "metadata": {},
   "outputs": [
    {
     "data": {
      "text/plain": [
       "'\\ufeffthe project gutenberg ebook of war and peace, by leo tolstoy  this ebook is for the use of anyone a'"
      ]
     },
     "execution_count": 152,
     "metadata": {},
     "output_type": "execute_result"
    }
   ],
   "source": [
    "war_peace_eng[:100]"
   ]
  },
  {
   "cell_type": "markdown",
   "metadata": {},
   "source": [
    "Видно, что требуется чистка. Уберем все ненужное и посмотрим на то, что получилось."
   ]
  },
  {
   "cell_type": "code",
   "execution_count": 153,
   "metadata": {},
   "outputs": [],
   "source": [
    "import re\n",
    "\n",
    "ru_regex = re.compile(\"[^А-Яа-яЁё ]\")\n",
    "en_regex = re.compile(\"[^A-Za-z ]\")\n",
    "\n",
    "war_peace_eng = en_regex.sub(\"\", war_peace_eng)\n",
    "war_peace_ru  = ru_regex.sub(\"\", war_peace_ru)\n",
    "anna_karenina = ru_regex.sub(\"\", anna_karenina)"
   ]
  },
  {
   "cell_type": "code",
   "execution_count": 154,
   "metadata": {},
   "outputs": [
    {
     "data": {
      "text/plain": [
       "'   анна каренина один из самых знаменитых романов льва толстого начинается ставшей афоризмом фразой '"
      ]
     },
     "execution_count": 154,
     "metadata": {},
     "output_type": "execute_result"
    }
   ],
   "source": [
    "anna_karenina[:100]"
   ]
  },
  {
   "cell_type": "code",
   "execution_count": 155,
   "metadata": {},
   "outputs": [
    {
     "data": {
      "text/plain": [
       "'   война и мир  самый известный роман льва николаевича толстого как никакое другое произведение писа'"
      ]
     },
     "execution_count": 155,
     "metadata": {},
     "output_type": "execute_result"
    }
   ],
   "source": [
    "war_peace_ru[:100]"
   ]
  },
  {
   "cell_type": "code",
   "execution_count": 156,
   "metadata": {},
   "outputs": [
    {
     "data": {
      "text/plain": [
       "'the project gutenberg ebook of war and peace by leo tolstoy  this ebook is for the use of anyone any'"
      ]
     },
     "execution_count": 156,
     "metadata": {},
     "output_type": "execute_result"
    }
   ],
   "source": [
    "war_peace_eng[:100]"
   ]
  },
  {
   "cell_type": "code",
   "execution_count": 157,
   "metadata": {},
   "outputs": [],
   "source": [
    "from collections import Counter\n",
    "\n",
    "\n",
    "cnt_anna_karenina = Counter(anna_karenina)\n",
    "cnt_war_peace_ru = Counter(war_peace_ru)\n",
    "cnt_war_peace_eng = Counter(war_peace_eng)"
   ]
  },
  {
   "cell_type": "markdown",
   "metadata": {},
   "source": [
    "Ради интереса посмотрим на частоту встречаемости букв"
   ]
  },
  {
   "cell_type": "code",
   "execution_count": 158,
   "metadata": {},
   "outputs": [
    {
     "data": {
      "text/plain": [
       "[(' ', 307969),\n",
       " ('о', 162409),\n",
       " ('е', 123650),\n",
       " ('а', 117104),\n",
       " ('н', 98139),\n",
       " ('и', 93874),\n",
       " ('т', 84639),\n",
       " ('с', 75124),\n",
       " ('л', 70914),\n",
       " ('в', 66562),\n",
       " ('р', 56289),\n",
       " ('к', 48460),\n",
       " ('д', 41632),\n",
       " ('м', 40527),\n",
       " ('у', 38129),\n",
       " ('п', 34093),\n",
       " ('я', 30444),\n",
       " ('ь', 27853),\n",
       " ('ы', 26214),\n",
       " ('г', 25693),\n",
       " ('б', 24718),\n",
       " ('ч', 23858),\n",
       " ('з', 23121),\n",
       " ('ж', 16020),\n",
       " ('й', 14862),\n",
       " ('ш', 12068),\n",
       " ('х', 10986),\n",
       " ('ю', 8812),\n",
       " ('э', 5019),\n",
       " ('щ', 4054),\n",
       " ('ц', 3993),\n",
       " ('ф', 1781),\n",
       " ('ъ', 412),\n",
       " ('ё', 31)]"
      ]
     },
     "execution_count": 158,
     "metadata": {},
     "output_type": "execute_result"
    }
   ],
   "source": [
    "cnt_anna_karenina.most_common()"
   ]
  },
  {
   "cell_type": "code",
   "execution_count": 159,
   "metadata": {},
   "outputs": [
    {
     "data": {
      "text/plain": [
       "[(' ', 117324),\n",
       " ('о', 61282),\n",
       " ('а', 45209),\n",
       " ('е', 42519),\n",
       " ('и', 35838),\n",
       " ('н', 35119),\n",
       " ('т', 30619),\n",
       " ('с', 28128),\n",
       " ('л', 27277),\n",
       " ('в', 24824),\n",
       " ('р', 24570),\n",
       " ('к', 19328),\n",
       " ('д', 16387),\n",
       " ('м', 15940),\n",
       " ('у', 15454),\n",
       " ('п', 13847),\n",
       " ('я', 12477),\n",
       " ('г', 11177),\n",
       " ('ь', 10498),\n",
       " ('ы', 10233),\n",
       " ('з', 9602),\n",
       " ('б', 9310),\n",
       " ('ч', 7349),\n",
       " ('й', 6210),\n",
       " ('ж', 5460),\n",
       " ('ш', 5090),\n",
       " ('х', 4600),\n",
       " ('ю', 3495),\n",
       " ('ц', 2179),\n",
       " ('э', 1629),\n",
       " ('щ', 1514),\n",
       " ('ф', 1209),\n",
       " ('ё', 431),\n",
       " ('ъ', 283)]"
      ]
     },
     "execution_count": 159,
     "metadata": {},
     "output_type": "execute_result"
    }
   ],
   "source": [
    "cnt_war_peace_ru.most_common()"
   ]
  },
  {
   "cell_type": "code",
   "execution_count": 160,
   "metadata": {},
   "outputs": [
    {
     "data": {
      "text/plain": [
       "[(' ', 579915),\n",
       " ('e', 315233),\n",
       " ('t', 226406),\n",
       " ('a', 205806),\n",
       " ('o', 192879),\n",
       " ('n', 184173),\n",
       " ('i', 174281),\n",
       " ('h', 167404),\n",
       " ('s', 162891),\n",
       " ('r', 148428),\n",
       " ('d', 118290),\n",
       " ('l', 96527),\n",
       " ('u', 65434),\n",
       " ('m', 61646),\n",
       " ('c', 61623),\n",
       " ('w', 59207),\n",
       " ('f', 54896),\n",
       " ('g', 51326),\n",
       " ('y', 46265),\n",
       " ('p', 45533),\n",
       " ('b', 34658),\n",
       " ('v', 27086),\n",
       " ('k', 20431),\n",
       " ('x', 4384),\n",
       " ('j', 2574),\n",
       " ('z', 2388),\n",
       " ('q', 2330)]"
      ]
     },
     "execution_count": 160,
     "metadata": {},
     "output_type": "execute_result"
    }
   ],
   "source": [
    "cnt_war_peace_eng.most_common()"
   ]
  },
  {
   "cell_type": "code",
   "execution_count": 161,
   "metadata": {},
   "outputs": [
    {
     "data": {
      "text/plain": [
       "['t',\n",
       " 'h',\n",
       " 'e',\n",
       " ' ',\n",
       " 'p',\n",
       " 'r',\n",
       " 'o',\n",
       " 'j',\n",
       " 'c',\n",
       " 'g',\n",
       " 'u',\n",
       " 'n',\n",
       " 'b',\n",
       " 'k',\n",
       " 'f',\n",
       " 'w',\n",
       " 'a',\n",
       " 'd',\n",
       " 'y',\n",
       " 'l',\n",
       " 's',\n",
       " 'i',\n",
       " 'm',\n",
       " 'v',\n",
       " 'x',\n",
       " 'z',\n",
       " 'q']"
      ]
     },
     "execution_count": 161,
     "metadata": {},
     "output_type": "execute_result"
    }
   ],
   "source": [
    "list(cnt_war_peace_eng.keys())"
   ]
  },
  {
   "cell_type": "code",
   "execution_count": 162,
   "metadata": {},
   "outputs": [
    {
     "data": {
      "text/plain": [
       "[(' ', 307969),\n",
       " ('о', 162409),\n",
       " ('е', 123650),\n",
       " ('а', 117104),\n",
       " ('н', 98139),\n",
       " ('и', 93874),\n",
       " ('т', 84639),\n",
       " ('с', 75124),\n",
       " ('л', 70914),\n",
       " ('в', 66562),\n",
       " ('р', 56289),\n",
       " ('к', 48460),\n",
       " ('д', 41632),\n",
       " ('м', 40527),\n",
       " ('у', 38129),\n",
       " ('п', 34093),\n",
       " ('я', 30444),\n",
       " ('ь', 27853),\n",
       " ('ы', 26214),\n",
       " ('г', 25693),\n",
       " ('б', 24718),\n",
       " ('ч', 23858),\n",
       " ('з', 23121),\n",
       " ('ж', 16020),\n",
       " ('й', 14862),\n",
       " ('ш', 12068),\n",
       " ('х', 10986),\n",
       " ('ю', 8812),\n",
       " ('э', 5019),\n",
       " ('щ', 4054),\n",
       " ('ц', 3993),\n",
       " ('ф', 1781),\n",
       " ('ъ', 412),\n",
       " ('ё', 31)]"
      ]
     },
     "execution_count": 162,
     "metadata": {},
     "output_type": "execute_result"
    }
   ],
   "source": [
    "cnt.most_common()"
   ]
  },
  {
   "cell_type": "code",
   "execution_count": 163,
   "metadata": {},
   "outputs": [],
   "source": [
    "def encode_text(text, random_state=42):\n",
    "    import random\n",
    "    random.seed(random_state)\n",
    "    \n",
    "    letters = list(set(text))\n",
    "    old_letters = letters.copy()\n",
    "    random.shuffle(letters)\n",
    "    mapping = dict(zip(old_letters, letters))\n",
    "    \n",
    "    return \"\".join([mapping[ch] for ch in text])\n",
    "\n",
    "\n",
    "assert(\n",
    "    sorted(Counter(encode_text(anna_karenina[:100])).values()) == sorted(Counter(anna_karenina[:100]).values())\n",
    ")\n",
    "\n",
    "\n",
    "def decode_by_frequency(encoded_text, cnt):\n",
    "    encoded_cnt = Counter(encoded_text)\n",
    "    \n",
    "    mapping = {letter1: letter2\n",
    "               for ((letter1, freq1), (letter2, freq2)) in zip(encoded_cnt.most_common(), cnt.most_common())}\n",
    "    return \"\".join([mapping[ch] for ch in encoded_text])\n",
    "\n",
    "\n",
    "def compare(text1, text2):\n",
    "    assert len(text1) == len(text2), f'{len(text1), len(text2)}'\n",
    "    s = 0\n",
    "    for ch1, ch2 in zip(text1, text2):\n",
    "        if ch1 == ch2:\n",
    "            s += 1\n",
    "    return s / len(text1)"
   ]
  },
  {
   "cell_type": "markdown",
   "metadata": {},
   "source": [
    "Исходный текст:"
   ]
  },
  {
   "cell_type": "code",
   "execution_count": 164,
   "metadata": {},
   "outputs": [
    {
     "data": {
      "text/plain": [
       "'   анна каренина один из самых знаменитых романов льва толстого начинается ставшей афоризмом фразой все счастливые семьи похожи друг на друга каждая несчастливая семья несчастлива посвоему это книга о вечных ценностях о любви о вере о семье о человеческом достоинстве            лев толстойроман широкого дыхания  часть первая   лев толстой  анна каренина     роман широкого дыхания     анна каренина поразила современников вседневностью содержания необычайная свобода раскованность повествования удивительно сочетались в этом романе с цельностью художественного взгляда автора на жизнь он выступал здесь как художник и мыслитель и назначение искусства видел не в том чтобы неоспоримо разрешить вопрос а в том чтобы заставить любить жизнь в бесчисленных никогда не истощимых всех ее проявлениях    в е годы один маститый писатель повидимому гончаров сказал достоевскому это вещь неслыханная это вещь первая кто у нас из писателей может поравняться с этим а в европе  кто представит хоть чтонибудь подобное фм достоевский находил в новом романе толстого огромную психологическую разработку души человеческой страшную глубину и силу и главное небывалый доселе у нас реализм художественного изображения  время подтвердило эту высокую оценку из статей и книг на всех языках мира посвященных анне карениной можно составить целую библиотеку я без колебаний назвал анну каренину величайшим социальным романом во всей мировой литературе  писал томас манн  значение романа толстого состоит не в эстетической ценности отдельных картин а в художественной завершенности целого         войну и мир толстой называл книгой о прошлом в начале  года он просил редактора журнала русский вестник мн каткова в оглавлении и даже в объявлении не называть его сочинение романом для меня это очень важно и потому очень прошу вас об этом   толстой мог бы обосновать свое определение жанра книга ссылкой на гегеля которого он внимательно перечитывал в годы работы над войной и миром гегель называл книгой эпические произведени'"
      ]
     },
     "execution_count": 164,
     "metadata": {},
     "output_type": "execute_result"
    }
   ],
   "source": [
    "anna_karenina[:2000]"
   ]
  },
  {
   "cell_type": "markdown",
   "metadata": {},
   "source": [
    "Раскодированный после случайной перестановки символов:"
   ]
  },
  {
   "cell_type": "code",
   "execution_count": 165,
   "metadata": {},
   "outputs": [
    {
     "data": {
      "text/plain": [
       "'   неен днраеиен омие иб тнкьж бенкаеисьж рокнеол вплн совтсояо енгиенастч тснлхаз нфорибкок фрнбоз лта тгнтсвильа такпи ыожоши мруя ен мруян дншмнч еатгнтсвилнч такпч еатгнтсвилн ыотлоаку юсо деиян о лагеьж щаееотсчж о вэйли о лара о такпа о гаволагатдок мотсоиетсла            вал совтсозрокне хиродояо мьжнеич  гнтсп ыарлнч   вал совтсоз  неен днраеиен     рокне хиродояо мьжнеич     неен днраеиен ыорнбивн толракаееидол лтамеалеотспэ томаршнеич еаойьгнзенч тлойомн рнтдолнееотсп ыолатслолнеич умилисавпео тогаснвитп л юсок рокнеа т щавпеотспэ жумошатслаееояо лбявчмн нлсорн ен шибеп ое льтсуынв бматп днд жумошеид и кьтвисавп и енбенгаеиа итдуттслн лимав еа л сок гсойь еаотыорико рнбрахисп лоырот н л сок гсойь бнтснлисп вэйисп шибеп л йатгитваееьж еидоямн еа итсоцикьж лтаж аа ырочлваеичж    л а яомь омие кнтсисьз ыитнсавп ыолимикоку яоегнрол тднбнв мотсоалтдоку юсо лацп еатвьжнеенч юсо лацп ыарлнч дсо у ент иб ыитнсаваз кошас ыорнлечсптч т юсик н л алроыа  дсо ырамтснлис жосп гсоеийумп ыомойеоа фк мотсоалтдиз енжомив л еолок рокнеа совтсояо оярокеуэ ытижовояигатдуэ рнбрнйосду мухи гаволагатдоз тсрнхеуэ явуйиеу и тиву и явнлеоа еайьлнвьз мотава у ент ранвибк жумошатслаееояо ибойрншаеич  лракч ыомслармиво юсу льтодуэ ощаеду иб тснсаз и деия ен лтаж чбьднж кирн ыотлчцаееьж нееа днраеиеоз кошео тотснлисп щавуэ йийвиосаду ч йаб довайнеиз енблнв нееу днраеиеу лавигнзхик тощинвпеьк рокнеок ло лтаз киролоз висарнсура  ыитнв сокнт кнее  бенгаеиа рокнен совтсояо тотсоис еа л ютсасигатдоз щаееотси осмавпеьж днрсие н л жумошатслаееоз бнлархаееотси щавояо         лозеу и кир совтсоз енбьлнв деияоз о ырохвок л енгнва  яомн ое ыротив рамндсорн шуренвн руттдиз латсеид ке днсдолн л оявнлваеии и мнша л ойъчлваеии еа енбьлнсп аяо тогиеаеиа рокнеок мвч каеч юсо огаеп лншео и ыосоку огаеп ыроху лнт ой юсок   совтсоз коя йь ойотеолнсп тлоа оырамаваеиа шнерн деиян ттьвдоз ен яаяавч досорояо ое леикнсавпео ыарагисьлнв л яомь рнйось енм лозеоз и кирок яаяавп енбьлнв деияоз юыигатдиа ыроибламаеи'"
      ]
     },
     "execution_count": 165,
     "metadata": {},
     "output_type": "execute_result"
    }
   ],
   "source": [
    "decode_by_frequency(encode_text(anna_karenina[:2000]), cnt_anna_karenina)"
   ]
  },
  {
   "cell_type": "markdown",
   "metadata": {},
   "source": [
    "Посмотрим какая доля символов распознается правильно в зависимости от длины текста\n",
    "- тектс длины 100 - 22% символов\n",
    "- текст длины 1000 - 29% символов\n",
    "- текст длины 10000 - 39% символов\n",
    "- текст длины 100000 - 88% символов\n",
    "\n",
    "Видно, что короткие сообщения таким способом не расшифровать (впрочем, это очевидно с самого начала)."
   ]
  },
  {
   "cell_type": "code",
   "execution_count": 166,
   "metadata": {},
   "outputs": [
    {
     "data": {
      "text/plain": [
       "0.22"
      ]
     },
     "execution_count": 166,
     "metadata": {},
     "output_type": "execute_result"
    }
   ],
   "source": [
    "compare(\n",
    "    decode_by_frequency(encode_text(anna_karenina[:100]), cnt_anna_karenina),\n",
    "    anna_karenina[:100],\n",
    ")"
   ]
  },
  {
   "cell_type": "code",
   "execution_count": 167,
   "metadata": {},
   "outputs": [
    {
     "data": {
      "text/plain": [
       "0.294"
      ]
     },
     "execution_count": 167,
     "metadata": {},
     "output_type": "execute_result"
    }
   ],
   "source": [
    "compare(\n",
    "    decode_by_frequency(encode_text(anna_karenina[:1000]), cnt_anna_karenina),\n",
    "    anna_karenina[:1000],\n",
    ")"
   ]
  },
  {
   "cell_type": "code",
   "execution_count": 168,
   "metadata": {},
   "outputs": [
    {
     "data": {
      "text/plain": [
       "0.3898"
      ]
     },
     "execution_count": 168,
     "metadata": {},
     "output_type": "execute_result"
    }
   ],
   "source": [
    "compare(\n",
    "    decode_by_frequency(encode_text(anna_karenina[:10000]), cnt_anna_karenina),\n",
    "    anna_karenina[:10000],\n",
    ")"
   ]
  },
  {
   "cell_type": "code",
   "execution_count": 169,
   "metadata": {},
   "outputs": [
    {
     "data": {
      "text/plain": [
       "0.88294"
      ]
     },
     "execution_count": 169,
     "metadata": {},
     "output_type": "execute_result"
    }
   ],
   "source": [
    "compare(\n",
    "    decode_by_frequency(encode_text(anna_karenina[:100000]), cnt_anna_karenina),\n",
    "    anna_karenina[:100000],\n",
    ")"
   ]
  },
  {
   "cell_type": "code",
   "execution_count": 170,
   "metadata": {},
   "outputs": [
    {
     "data": {
      "text/plain": [
       "'   анна каренина омин ич садыш чнаденитыш роданов льва толстого назинается ставхеж афоричдод фрачож все сзастливые седьи пошойи мруг на мруга каймая несзастливая седья несзастлива посвоеду щто книга о везныш эенностяш о любви о вере о седье о зеловезескод мостоинстве            лев толстожродан хирокого мышания  засть первая   лев толстож  анна каренина     родан хирокого мышания     анна каренина порачила совреденников всемневностью сомерйания необызажная свобома раскованность повествования уми'"
      ]
     },
     "execution_count": 170,
     "metadata": {},
     "output_type": "execute_result"
    }
   ],
   "source": [
    "decode_by_frequency(encode_text(anna_karenina[:100000]), cnt_anna_karenina)[:500]"
   ]
  },
  {
   "cell_type": "markdown",
   "metadata": {},
   "source": [
    "Посмотрим еще на войну и мир:"
   ]
  },
  {
   "cell_type": "code",
   "execution_count": 171,
   "metadata": {},
   "outputs": [
    {
     "data": {
      "text/plain": [
       "'the project gutenberg ebook of war and peace by leo tolstoy  this ebook is for the use of anyone anywhere at no cost and with almost no restrictions whatsoever  you may copy it give it away or reuse it under the terms of the project gutenberg license included with this ebook or online at wwwgutenbergorg   title war and peace  author leo tolstoy  translators louise and aylmer maude  posting date january   ebook   last updated march    language english    start of this project gutenberg ebook war and peace   an anonymous volunteer and david widger      war and peace  by leo tolstoytolstoi  contents  book one   chapter i  chapter ii  chapter iii  chapter iv  chapter v  chapter vi  chapter vii  chapter viii  chapter ix  chapter x  chapter xi  chapter xii  chapter xiii  chapter xiv  chapter xv  chapter xvi  chapter xvii  chapter xviii  chapter xix  chapter xx  chapter xxi  chapter xxii  chapter xxiii  chapter xxiv  chapter xxv  chapter xxvi  chapter xxvii  chapter xxviii  book two   chapter i  chapter ii  chapter iii  chapter iv  chapter v  chapter vi  chapter vii  chapter viii  chapter ix  chapter x  chapter xi  chapter xii  chapter xiii  chapter xiv  chapter xv  chapter xvi  chapter xvii  chapter xviii  chapter xix  chapter xx  chapter xxi  book three   chapter i  chapter ii  chapter iii  chapter iv  chapter v  chapter vi  chapter vii  chapter viii  chapter ix  chapter x  chapter xi  chapter xii  chapter xiii  chapter xiv  chapter xv  chapter xvi  chapter xvii  chapter xviii  chapter xix  book four   chapter i  chapter ii  chapter iii  chapter iv  chapter v  chapter vi  chapter vii  chapter viii  chapter ix  chapter x  chapter xi  chapter xii  chapter xiii  chapter xiv  chapter xv  chapter xvi  book five     chapter i  chapter ii  chapter iii  chapter iv  chapter v  chapter vi  chapter vii  chapter viii  chapter ix  chapter x  chapter xi  chapter xii  chapter xiii  chapter xiv  chapter xv  chapter xvi  chapter xvii  chapter xviii  chapter xix  chapter xx  chapter xxi  '"
      ]
     },
     "execution_count": 171,
     "metadata": {},
     "output_type": "execute_result"
    }
   ],
   "source": [
    "war_peace_eng[:2000]"
   ]
  },
  {
   "cell_type": "code",
   "execution_count": 172,
   "metadata": {},
   "outputs": [
    {
     "data": {
      "text/plain": [
       "'ait sndjtha ywatugtny tgddv dk pon ouf stoht gb ctd adcmadb  aiem tgddv em kdn ait wmt dk oubdut oubpitnt oa ud hdma ouf peai ocxdma ud ntmanehaedum pioamdtltn  bdw xob hdsb ea yelt ea opob dn ntwmt ea wuftn ait atnxm dk ait sndjtha ywatugtny cehtumt euhcwftf peai aiem tgddv dn duceut oa pppywatugtnydny   aeact pon ouf stoht  owaidn ctd adcmadb  anoumcoadnm cdwemt ouf obcxtn xowft  sdmaeuy foat jouwonb   tgddv   coma wsfoatf xonhi    couywoyt tuycemi    maona dk aiem sndjtha ywatugtny tgddv pon ouf stoht   ou oudubxdwm ldcwuattn ouf folef pefytn      pon ouf stoht  gb ctd adcmadbadcmade  hduatuam  gddv dut   hiosatn e  hiosatn ee  hiosatn eee  hiosatn el  hiosatn l  hiosatn le  hiosatn lee  hiosatn leee  hiosatn er  hiosatn r  hiosatn re  hiosatn ree  hiosatn reee  hiosatn rel  hiosatn rl  hiosatn rle  hiosatn rlee  hiosatn rleee  hiosatn rer  hiosatn rr  hiosatn rre  hiosatn rree  hiosatn rreee  hiosatn rrel  hiosatn rrl  hiosatn rrle  hiosatn rrlee  hiosatn rrleee  gddv apd   hiosatn e  hiosatn ee  hiosatn eee  hiosatn el  hiosatn l  hiosatn le  hiosatn lee  hiosatn leee  hiosatn er  hiosatn r  hiosatn re  hiosatn ree  hiosatn reee  hiosatn rel  hiosatn rl  hiosatn rle  hiosatn rlee  hiosatn rleee  hiosatn rer  hiosatn rr  hiosatn rre  gddv aintt   hiosatn e  hiosatn ee  hiosatn eee  hiosatn el  hiosatn l  hiosatn le  hiosatn lee  hiosatn leee  hiosatn er  hiosatn r  hiosatn re  hiosatn ree  hiosatn reee  hiosatn rel  hiosatn rl  hiosatn rle  hiosatn rlee  hiosatn rleee  hiosatn rer  gddv kdwn   hiosatn e  hiosatn ee  hiosatn eee  hiosatn el  hiosatn l  hiosatn le  hiosatn lee  hiosatn leee  hiosatn er  hiosatn r  hiosatn re  hiosatn ree  hiosatn reee  hiosatn rel  hiosatn rl  hiosatn rle  gddv kelt     hiosatn e  hiosatn ee  hiosatn eee  hiosatn el  hiosatn l  hiosatn le  hiosatn lee  hiosatn leee  hiosatn er  hiosatn r  hiosatn re  hiosatn ree  hiosatn reee  hiosatn rel  hiosatn rl  hiosatn rle  hiosatn rlee  hiosatn rleee  hiosatn rer  hiosatn rr  hiosatn rre  '"
      ]
     },
     "execution_count": 172,
     "metadata": {},
     "output_type": "execute_result"
    }
   ],
   "source": [
    "decode_by_frequency(encode_text(war_peace_eng[:2000]), cnt_war_peace_eng)"
   ]
  },
  {
   "cell_type": "markdown",
   "metadata": {},
   "source": [
    "Интересный феномен - для английского языка качество получается хуже. При переходе к более длинным текстам качество не увеличивается."
   ]
  },
  {
   "cell_type": "code",
   "execution_count": 173,
   "metadata": {},
   "outputs": [
    {
     "data": {
      "text/plain": [
       "0.32"
      ]
     },
     "execution_count": 173,
     "metadata": {},
     "output_type": "execute_result"
    }
   ],
   "source": [
    "compare(\n",
    "    decode_by_frequency(encode_text(war_peace_eng[:100]), cnt_war_peace_eng),\n",
    "    war_peace_eng[:100],\n",
    ")"
   ]
  },
  {
   "cell_type": "code",
   "execution_count": 174,
   "metadata": {},
   "outputs": [
    {
     "data": {
      "text/plain": [
       "0.53"
      ]
     },
     "execution_count": 174,
     "metadata": {},
     "output_type": "execute_result"
    }
   ],
   "source": [
    "compare(\n",
    "    decode_by_frequency(encode_text(war_peace_eng[:1000]), cnt_war_peace_eng),\n",
    "    war_peace_eng[:1000],\n",
    ")"
   ]
  },
  {
   "cell_type": "code",
   "execution_count": 175,
   "metadata": {},
   "outputs": [
    {
     "data": {
      "text/plain": [
       "0.3054"
      ]
     },
     "execution_count": 175,
     "metadata": {},
     "output_type": "execute_result"
    }
   ],
   "source": [
    "compare(\n",
    "    decode_by_frequency(encode_text(war_peace_eng[:10000]), cnt_war_peace_eng),\n",
    "    war_peace_eng[:10000],\n",
    ")"
   ]
  },
  {
   "cell_type": "code",
   "execution_count": 176,
   "metadata": {},
   "outputs": [
    {
     "data": {
      "text/plain": [
       "0.6861"
      ]
     },
     "execution_count": 176,
     "metadata": {},
     "output_type": "execute_result"
    }
   ],
   "source": [
    "compare(\n",
    "    decode_by_frequency(encode_text(war_peace_eng[:100000]), cnt_war_peace_eng),\n",
    "    war_peace_eng[:100000],\n",
    ")"
   ]
  },
  {
   "cell_type": "code",
   "execution_count": 177,
   "metadata": {},
   "outputs": [
    {
     "data": {
      "text/plain": [
       "'   война и мир  самый известный роман льва николаевича толстого как никакое другое произведение писателя отражает глубину его мироощущения и философииэта книга из разряда вечных потому что она обо всем  о жизни и смерти о любви и чести о мужестве и героизме о славе и подвиге о войне и мирепервый том знакомит с высшим обществом россии  века показаны взаимоотношения между родителями и детьми в семье ростовых сватовство у болконских интриги у безуховых вечера в салоне фрейлины апшерер балы в москве и петербурге            лев николаевич толстойчасть первая  часть орая  часть третья              лев николаевич толстой  война и мир  том      часть первая          е              поместья                                                       мой верный раб    ну что князь генуа и лукка стали не больше как поместьями фамилии бонапарте нет я вас предупреждаю если вы мне не скажете что у нас война если вы еще позволите себе защищать все гадости все ужасы этого антихриста право я верю что он антихрист  я вас больше не знаю вы уж не друг мой вы уж не мой верный раб как вы говорите ну здравствуйте здравствуйте        я вижу что я вас пугаю садитесь и рассказывайте  так говорила в июле  года известная анна павловна шерер фрейлина и приближенная императрицы марии феодоровны встречая важного и чиновного князя василия первого приехавшего на ее вечер анна павловна кашляла несколько дней у нее был грипп как она говорила грипп был тогда новое слово употреблявшееся только редкими в записочках разосланных утром с красным лакеем было написано без различия во всех             или                                    если  вас граф или князь нет в виду ничего лучшего и если перспектива вечера у бедной больной не слишком вас пугает то я буду очень рада видеть вас нынче у себя между семью и десятью часами анна шерер       о какое жестокое нападение  отвечал нисколько не смутясь такою встречей вошедший князь в придворном шитом мундире в чулках башмаках при звездах с светлым выражением плоского л'"
      ]
     },
     "execution_count": 177,
     "metadata": {},
     "output_type": "execute_result"
    }
   ],
   "source": [
    "war_peace_ru[:2000]"
   ]
  },
  {
   "cell_type": "code",
   "execution_count": 178,
   "metadata": {},
   "outputs": [
    {
     "data": {
      "text/plain": [
       "'   найте и див  седьй износлтьй вадет рбне тикареониые ларслага кек тикекао явмгао уваизнояотио уиселорп алвешеол грмчитм ога дивааэмэотип и цирасациищле ктиге из везвпяе ноытьх уаладм ыла ате ача нсод  а шизти и сдовли а рючни и ыосли а дмшослно и говаиздо а срено и уаяниго а найто и дивоуовньй лад зтекадил с ньсжид ачэослнад вассии  ноке уакезеть нзеидаалтажотип дошям ваяилорпди и яолбди н содбо васланьх снеланслна м чаркатских итлвиги м чозмханьх ноыове н серато цвойрить еужовов черь н даскно и уоловчмвго            рон тикареониы ларслайыеслб уовнеп  ыеслб авеп  ыеслб лволбп              рон тикареониы ларслай  найте и див  лад      ыеслб уовнеп          о              уадослбп                                                       дай новтьй веч    тм ыла ктпзб готме и рмкке слери то чарбжо кек уадослбпди цедирии чатеуевло тол п нес увоямувошяею осри нь дто то скешоло ыла м тес найте осри нь оэо уазнарило сочо зеэиэелб нсо геяасли нсо мшесь щлага етлихвисле увена п новю ыла ат етлихвисл  п нес чарбжо то зтею нь мш то явмг дай нь мш то дай новтьй веч кек нь ганавило тм зявенслнмйло зявенслнмйло        п нишм ыла п нес умгею сеяилосб и весскезьнейло  лек ганавире н июро  гаяе износлтеп етте уенранте жовов цвойрите и увичришоттеп идуовелвифь девии цоаяаванть нслвоыеп нештага и ыитантага ктпзп несирип уовнага увиохенжога те оо ноыов етте уенранте кежрпре тоскарбка ятой м тоо чьр гвиуу кек ате ганавире гвиуу чьр лагяе танао срана муалвочрпнжоосп ларбка воякиди н зеуисаыкех везасреттьх млвад с квестьд рекоод чьра теуисета чоз везриыип на нсох             ири                                    осри  нес гвец ири ктпзб тол н ниям тиыога рмыжога и осри уовсуоклине ноыове м чоятай чарбтай то срижкад нес умгеол ла п чмям аыотб веяе нияолб нес тьтыо м сочп дошям содбю и яосплбю ыеседи етте жовов       а кекао шослакао теуеяотио  алноыер тискарбка то сдмлпсб лекаю нслвоыой нажояжий ктпзб н увиянавтад жилад дмтяиво н ымркех чеждекех уви знозяех с снолрьд ньвешотиод ураскага р'"
      ]
     },
     "execution_count": 178,
     "metadata": {},
     "output_type": "execute_result"
    }
   ],
   "source": [
    "decode_by_frequency(encode_text(war_peace_ru[:2000]), cnt_war_peace_ru)"
   ]
  },
  {
   "cell_type": "code",
   "execution_count": 179,
   "metadata": {},
   "outputs": [
    {
     "data": {
      "text/plain": [
       "0.41"
      ]
     },
     "execution_count": 179,
     "metadata": {},
     "output_type": "execute_result"
    }
   ],
   "source": [
    "compare(\n",
    "    decode_by_frequency(encode_text(war_peace_ru[:100]), cnt_war_peace_ru),\n",
    "    war_peace_ru[:100],\n",
    ")"
   ]
  },
  {
   "cell_type": "code",
   "execution_count": 180,
   "metadata": {},
   "outputs": [
    {
     "data": {
      "text/plain": [
       "0.319"
      ]
     },
     "execution_count": 180,
     "metadata": {},
     "output_type": "execute_result"
    }
   ],
   "source": [
    "compare(\n",
    "    decode_by_frequency(encode_text(war_peace_ru[:1000]), cnt_war_peace_ru),\n",
    "    war_peace_ru[:1000],\n",
    ")"
   ]
  },
  {
   "cell_type": "code",
   "execution_count": 181,
   "metadata": {},
   "outputs": [
    {
     "data": {
      "text/plain": [
       "0.3912"
      ]
     },
     "execution_count": 181,
     "metadata": {},
     "output_type": "execute_result"
    }
   ],
   "source": [
    "compare(\n",
    "    decode_by_frequency(encode_text(war_peace_ru[:10000]), cnt_war_peace_ru),\n",
    "    war_peace_ru[:10000],\n",
    ")"
   ]
  },
  {
   "cell_type": "code",
   "execution_count": 182,
   "metadata": {},
   "outputs": [
    {
     "data": {
      "text/plain": [
       "0.81101"
      ]
     },
     "execution_count": 182,
     "metadata": {},
     "output_type": "execute_result"
    }
   ],
   "source": [
    "compare(\n",
    "    decode_by_frequency(encode_text(war_peace_ru[:100000]), cnt_war_peace_ru),\n",
    "    war_peace_ru[:100000],\n",
    ")"
   ]
  },
  {
   "cell_type": "markdown",
   "metadata": {},
   "source": [
    "## Метод, основанный на биграммах"
   ]
  },
  {
   "cell_type": "code",
   "execution_count": 183,
   "metadata": {},
   "outputs": [],
   "source": [
    "def get_ngrams(text, n=2, shift=False):\n",
    "    return [text[i:i + n] for i in range(0, len(text) - n + 1, n if shift else 1)]\n",
    "\n",
    "\n",
    "cnt_anna_karenina = Counter(get_ngrams(anna_karenina))\n",
    "cnt_war_peace_ru = Counter(get_ngrams(war_peace_ru))\n",
    "cnt_war_peace_eng = Counter(get_ngrams(war_peace_eng))"
   ]
  },
  {
   "cell_type": "code",
   "execution_count": 184,
   "metadata": {},
   "outputs": [
    {
     "data": {
      "text/plain": [
       "[('о ', 39767),\n",
       " ('е ', 31689),\n",
       " ('а ', 31528),\n",
       " ('и ', 30607),\n",
       " (' н', 27483),\n",
       " (' с', 27220),\n",
       " ('  ', 26260),\n",
       " (' в', 24998),\n",
       " ('то', 24155),\n",
       " (' п', 23725)]"
      ]
     },
     "execution_count": 184,
     "metadata": {},
     "output_type": "execute_result"
    }
   ],
   "source": [
    "cnt_anna_karenina.most_common(10)"
   ]
  },
  {
   "cell_type": "code",
   "execution_count": 185,
   "metadata": {},
   "outputs": [
    {
     "data": {
      "text/plain": [
       "[('e ', 111103),\n",
       " (' t', 87536),\n",
       " ('d ', 75864),\n",
       " ('he', 75251),\n",
       " ('th', 73770),\n",
       " (' a', 69551),\n",
       " ('s ', 62854),\n",
       " ('t ', 58260),\n",
       " (' h', 49800),\n",
       " ('in', 48429)]"
      ]
     },
     "execution_count": 185,
     "metadata": {},
     "output_type": "execute_result"
    }
   ],
   "source": [
    "cnt_war_peace_eng.most_common(10)"
   ]
  },
  {
   "cell_type": "code",
   "execution_count": 186,
   "metadata": {},
   "outputs": [
    {
     "data": {
      "text/plain": [
       "[('  ', 13916),\n",
       " ('о ', 13316),\n",
       " ('и ', 11397),\n",
       " ('а ', 10596),\n",
       " ('е ', 10039),\n",
       " (' с', 9863),\n",
       " (' п', 9767),\n",
       " (' в', 9612),\n",
       " (' н', 9347),\n",
       " ('то', 8491)]"
      ]
     },
     "execution_count": 186,
     "metadata": {},
     "output_type": "execute_result"
    }
   ],
   "source": [
    "cnt_war_peace_ru.most_common(10)"
   ]
  },
  {
   "cell_type": "markdown",
   "metadata": {},
   "source": [
    "Проверка, что все работает корректно:"
   ]
  },
  {
   "cell_type": "code",
   "execution_count": 187,
   "metadata": {},
   "outputs": [
    {
     "data": {
      "text/plain": [
       "'   анна каренина один из самых знаменитых романов льва толстого начинается ставшей афоризмом фразой '"
      ]
     },
     "execution_count": 187,
     "metadata": {},
     "output_type": "execute_result"
    }
   ],
   "source": [
    "\"\".join(get_ngrams(anna_karenina[:100], shift=True))"
   ]
  },
  {
   "cell_type": "code",
   "execution_count": 188,
   "metadata": {},
   "outputs": [
    {
     "data": {
      "text/plain": [
       "'чи ан ри  зоам зта фнав сяыха ва зроамейвшннфоноетзммамеиздистка зом зх олсяральо  аре с оний  тогты'"
      ]
     },
     "execution_count": 188,
     "metadata": {},
     "output_type": "execute_result"
    }
   ],
   "source": [
    "encode_text(get_ngrams(anna_karenina[:100], shift=True))"
   ]
  },
  {
   "cell_type": "code",
   "execution_count": 189,
   "metadata": {},
   "outputs": [
    {
     "data": {
      "text/plain": [
       "'а  сна и о сь  в  о тоо и о  в ото о нонале а каи  по  к  не пе  в опоо и о и ь  палнао алкоготонии  да а он  ень по к  о  всти  в опоне в оно на  ти  пколао сто нена ина о  а не и   ои  ви нао нае е на ня ь ь о  па нени ви ов ви  п ие  та  н внаал н   нпо втои и ст нь  в втои и ь  в  о лане  е ст нтое    н к  наа а оно я  дя  ко о я  п вь о  па нени ви ь  втоа о и о тоа тое косте  п  и о  илато о отоалпоо ов пал оо  о с т н нго палсти гоя и  с нпости я нетоо то ои  п ие  ое то оа пононаь  палпотое о кае наст в к  на сненагоо я ь а  са  са  са  са  с с ти но  ень по к  е нонао алкоале    снао о кагоа  п и  нео оно  иа  с   н к  и ко с не  с  е а  с с ти но  ень по к  е ноа  со он в о п   с пе я а лаь  ва  са  снао алкоале    снао о кагоа  п и  нео оно  иа  са  сна и о сь  в  о тоо и о  в о н ве  ки стено ь  в сь я а  ие е я и о о кании на нто т п в с о т н иа  ии  сь  с  и я о оно  ист нкае и е    не     е и  пне с н конна с в па о каа он о с т н иа  н вь  птое гоо ь  по оно  и си  нонон ни  и да готои  пал сно нов с в пи конии е го   о с в   оо оня ь е й  оо  да гото к  а  ко  дя и  н  тое гоо е я готогоа  ототоне но оннана и нлае  кь  в в ое  ва ка сстто оале ниа  к  о   ов с пе  с  лаи  п  а  ио  дя и  н  и о наи  нпоо гоя аля е нонаи ко нпо в о  и  в не я  ка о ноно  я о  к  а он ото кненонаст ня ь нии сте е на и пне к вне п в т нтоа   а  п с с ви сттоо    с иа  отопоа нао е й ь  внии сте е на и пне к вне в и к  и  тя е и когоя я  н иа е  ва ка сст ото н птое понея але я о ов пали о о као ь ь  в п во но к  а ни тне  не ото дя  палто и н внао а ко н ии о е ста  са  снии я ь гоа   алто о нонале алко к  я е о  н н в в пало нонаи котоа он н нон п са то и н н т   ннао нии но  и стов с п и т нсте и ноно     оа сте гости я не вь ст нтое й  отото о с  е е косте  отопо ни ко с не  с  е  п  сте  си ст н па о нои го к па я и  и н ие е  п стои о нитоа и на с о ня о  по я е й е го тнена и отонео я а поа я ь  п  сте  н втоо неноколаон но ни оен иа а посте и о е  пл ь  н в нстне кготоя ь е то п и т нсте и ноно  гоалст н то  нстено  отост нь  п   о с в   оо оня ь сте  н ссте гоа то ои то   о пь  ии  ои  нтоь поо  внеентое  с с ии и наоне а    кал с с п и пи  нпо ва  в  я не ва но  е нои  пал   ион пь  ии  птони иа лаа ст нпо ве  по о но и н в т с оо тост не о  се ов со  н п и т нноная ь а ст в ое й тоо ов са кае нагоност втои  к  я не о со  всти а кане ки натои и о о я  ототоо и  н н в нстгоо кото нон в  е ко п н отое  иа и о  сто о оо о  та ста каи  пколаи  ие е  нпоо о е пост нь  вна на но нь ноа   о  пали пои на н в т ня  ого и о с  нена и о ся ь   о тоо и о готое е  п с валсти  сь  к  и  тя е и ко оо  по  ии я  нтоали а и  и с с нь  н пал п п  ь пое о о онгоалст ни ста он ки о он пь  п   с пе я а лаа стя ненаа    на о  тнеи  п  ь а  п да о ове нанао алкоготое нане с ото дя е е и понао не се е наа и  ии на п нтоо а  с к па я  ки сте алкое й алко о са  с  и  в не я  ка  с в   оо онь  всте  н ссте гоа и  п т нсте я е ст ня ь нии е а и  иго н ва но  е ното не я гото к   нпо кал с   да о ов пал  о  и ва лана и отоо  дя и  н  тое гоо е я готое е  в ия не ттое я гото к   нпо оо  в  гоа а  са  са  са  с отое но пь о ноа нано и  ень по к  е ност ни ст се ов с п  и о гоа е е сти а  в со  в  е нании  в о   н н иа  сгоа оннато оале а  в т нено  с вто та  исте и нае  во по в о в т с вя о но  гоал ототое нае и   а наале   о о е ь  пь  внии о  в в то а е я  плао но п иние я ь нии не ка й о а е я  пласт ня ь  в оноа а он иа нео гоа и  пал са лае я  ка  с в   оо он   о п и но а нае я о я е гости ал се я и коа он валсти  нпотоа сте а тото о ва  сст н внао й е  ото па то оа е е го   оа  с  ень по к  е ноа нао  в н п внене к т нготоа он иа и  пне ся ь поа тоо  с   н ии о я ь нелато сь  во о е поь  в са коо о кае е  в о и нни снонао я о касте нао гоа то оале  с о тнеало нонаонтости  с нтоо понеи ь а он ки нии гоа   ал с ва    кал вне в о во не се   е ноо ноа нано и   о и нни снонаи ко в оноа а он ки о о е пое ное ко к п ва но   ка  н внао а кая не с  и о '"
      ]
     },
     "execution_count": 189,
     "metadata": {},
     "output_type": "execute_result"
    }
   ],
   "source": [
    "decode_by_frequency(\n",
    "    encode_text(get_ngrams(anna_karenina[:2000], shift=True)),\n",
    "    cnt_anna_karenina,\n",
    ")"
   ]
  },
  {
   "cell_type": "markdown",
   "metadata": {},
   "source": [
    "Видим, что считать частотность биграмм - не очень хорошая идея. Для того, чтобы эта частотность начала играть роль, требуются очень большие тексты, в чем мы убедимся ниже\n",
    "- текст длины 100 - точность 8%\n",
    "- текст длины 1000 - точность 11%\n",
    "- текст длины 10000 - точность 12%\n",
    "- текст длины 100000 - точность 18%\n",
    "- текст длины 1000000 - точность 30%"
   ]
  },
  {
   "cell_type": "code",
   "execution_count": 190,
   "metadata": {},
   "outputs": [
    {
     "data": {
      "text/plain": [
       "0.08"
      ]
     },
     "execution_count": 190,
     "metadata": {},
     "output_type": "execute_result"
    }
   ],
   "source": [
    "compare(\n",
    "    decode_by_frequency(\n",
    "        get_ngrams(encode_text(get_ngrams(anna_karenina[:100], shift=True)), shift=True),\n",
    "        cnt_anna_karenina,\n",
    "    ),\n",
    "    anna_karenina[:100]\n",
    ")"
   ]
  },
  {
   "cell_type": "code",
   "execution_count": 191,
   "metadata": {},
   "outputs": [
    {
     "data": {
      "text/plain": [
       "0.112"
      ]
     },
     "execution_count": 191,
     "metadata": {},
     "output_type": "execute_result"
    }
   ],
   "source": [
    "compare(\n",
    "    decode_by_frequency(\n",
    "        get_ngrams(encode_text(get_ngrams(anna_karenina[:1000], shift=True)), shift=True),\n",
    "        cnt_anna_karenina,\n",
    "    ),\n",
    "    anna_karenina[:1000]\n",
    ")"
   ]
  },
  {
   "cell_type": "code",
   "execution_count": 192,
   "metadata": {},
   "outputs": [
    {
     "data": {
      "text/plain": [
       "0.1221"
      ]
     },
     "execution_count": 192,
     "metadata": {},
     "output_type": "execute_result"
    }
   ],
   "source": [
    "compare(\n",
    "    decode_by_frequency(\n",
    "        get_ngrams(encode_text(get_ngrams(anna_karenina[:10000], shift=True)), shift=True),\n",
    "        cnt_anna_karenina,\n",
    "    ),\n",
    "    anna_karenina[:10000]\n",
    ")"
   ]
  },
  {
   "cell_type": "code",
   "execution_count": 193,
   "metadata": {},
   "outputs": [
    {
     "data": {
      "text/plain": [
       "0.18625"
      ]
     },
     "execution_count": 193,
     "metadata": {},
     "output_type": "execute_result"
    }
   ],
   "source": [
    "compare(\n",
    "    decode_by_frequency(\n",
    "        get_ngrams(encode_text(get_ngrams(anna_karenina[:100000], shift=True)), shift=True),\n",
    "        cnt_anna_karenina,\n",
    "    ),\n",
    "    anna_karenina[:100000]\n",
    ")"
   ]
  },
  {
   "cell_type": "code",
   "execution_count": 194,
   "metadata": {},
   "outputs": [
    {
     "data": {
      "text/plain": [
       "0.307558"
      ]
     },
     "execution_count": 194,
     "metadata": {},
     "output_type": "execute_result"
    }
   ],
   "source": [
    "compare(\n",
    "    decode_by_frequency(\n",
    "        get_ngrams(encode_text(get_ngrams(anna_karenina[:1000000], shift=True)), shift=True),\n",
    "        cnt_anna_karenina,\n",
    "    ),\n",
    "    anna_karenina[:1000000]\n",
    ")"
   ]
  },
  {
   "cell_type": "markdown",
   "metadata": {},
   "source": [
    "Посмотрим на аналогичные результаты для войны и мира:"
   ]
  },
  {
   "cell_type": "code",
   "execution_count": 195,
   "metadata": {},
   "outputs": [
    {
     "name": "stdout",
     "output_type": "stream",
     "text": [
      "War peace ENG\n",
      "----------------------------------------------------------------------------------------------------\n",
      "Accuracy on text with len 100 is 0.09\n",
      "----------------------------------------------------------------------------------------------------\n",
      "Accuracy on text with len 1000 is 0.128\n",
      "----------------------------------------------------------------------------------------------------\n",
      "Accuracy on text with len 10000 is 0.1048\n",
      "----------------------------------------------------------------------------------------------------\n",
      "Accuracy on text with len 100000 is 0.19887\n",
      "----------------------------------------------------------------------------------------------------\n",
      "Accuracy on text with len 1000000 is 0.366894\n"
     ]
    }
   ],
   "source": [
    "print('War peace ENG')\n",
    "\n",
    "for i in range(2, 7):\n",
    "    print('--'*50)\n",
    "    \n",
    "    acc = \\\n",
    "    compare(\n",
    "        decode_by_frequency(\n",
    "            get_ngrams(encode_text(get_ngrams(war_peace_eng[:10**i], shift=True)), shift=True),\n",
    "            cnt_war_peace_eng,\n",
    "        ),\n",
    "        war_peace_eng[:10**i]\n",
    "    )\n",
    "    \n",
    "    print(f'Accuracy on text with len {10 ** i} is {acc}')"
   ]
  },
  {
   "cell_type": "code",
   "execution_count": 196,
   "metadata": {},
   "outputs": [
    {
     "name": "stdout",
     "output_type": "stream",
     "text": [
      "War peace RU\n",
      "----------------------------------------------------------------------------------------------------\n",
      "Accuracy on text with len 100 is 0.12\n",
      "----------------------------------------------------------------------------------------------------\n",
      "Accuracy on text with len 1000 is 0.214\n",
      "----------------------------------------------------------------------------------------------------\n",
      "Accuracy on text with len 10000 is 0.1428\n",
      "----------------------------------------------------------------------------------------------------\n",
      "Accuracy on text with len 100000 is 0.21958\n"
     ]
    }
   ],
   "source": [
    "print('War peace RU')\n",
    "\n",
    "for i in range(2, 6):\n",
    "    print('--'*50)\n",
    "    \n",
    "    acc = \\\n",
    "    compare(\n",
    "        decode_by_frequency(\n",
    "            get_ngrams(encode_text(get_ngrams(war_peace_ru[:10**i], shift=True)), shift=True),\n",
    "            cnt_war_peace_ru,\n",
    "        ),\n",
    "        war_peace_ru[:10**i]\n",
    "    )\n",
    "    \n",
    "    print(f'Accuracy on text with len {10 ** i} is {acc}')"
   ]
  },
  {
   "cell_type": "markdown",
   "metadata": {},
   "source": [
    "В последнем случае даже на полном тексте точность всего порядка 20%"
   ]
  },
  {
   "cell_type": "markdown",
   "metadata": {},
   "source": [
    "## MCMC-семплирование"
   ]
  },
  {
   "cell_type": "code",
   "execution_count": 197,
   "metadata": {},
   "outputs": [],
   "source": [
    "def swap(seq):\n",
    "    \"\"\"\n",
    "    randomly swaps two elements in the sequence\n",
    "    \"\"\"\n",
    "    import random\n",
    "    idx1, idx2 = random.sample(range(len(seq)), 2)\n",
    "    new_seq = seq.copy()\n",
    "    new_seq[idx1], new_seq[idx2] = new_seq[idx2], new_seq[idx2]\n",
    "    return new_seq"
   ]
  },
  {
   "cell_type": "markdown",
   "metadata": {},
   "source": [
    "Напишем класс MCMCSamplingDecoder"
   ]
  },
  {
   "cell_type": "code",
   "execution_count": 266,
   "metadata": {},
   "outputs": [],
   "source": [
    "import numpy as np\n",
    "\n",
    "\n",
    "class MCMCSamplingDecoder:\n",
    "    def __init__(self, n=2):\n",
    "        self.n = n\n",
    "        \n",
    "    def _compute_freq(self, text):\n",
    "        ngrams = get_ngrams(text, n=self.n, shift=True)\n",
    "        cnt = Counter(ngrams)\n",
    "        total = sum(cnt.values())\n",
    "        freq_dict = {ngram: val / total for ngram, val in cnt.most_common()}\n",
    "        return freq_dict\n",
    "    \n",
    "\n",
    "    def compute_score(self, text):\n",
    "        freq_dict = self._compute_freq(text)\n",
    "        ngrams = get_ngrams(text, n=self.n, shift=True)\n",
    "        score = sum([freq_dict[ngram] * np.log(self.original_freq_dict.get(ngram, 1e-9))\n",
    "                     for ngram in ngrams])\n",
    "        return score\n",
    "    \n",
    "    def fit(self, text_to_train, encoded_text, max_iter=1000, validation_text=None, random_state=42):\n",
    "        \"\"\"\n",
    "        text_to_train: big text to retrieve frequences from\n",
    "        encoded_text: cyphered text\n",
    "        \"\"\"\n",
    "        random.seed(random_state)\n",
    "\n",
    "        cnt = Counter(get_ngrams(text_to_train, n=self.n, shift=True))\n",
    "\n",
    "        self.original_freq_dict = self._compute_freq(text_to_train)\n",
    "        letters = \"\".join(list(self.original_freq_dict.keys()))\n",
    "\n",
    "        seq_from = list(set(text_to_train))\n",
    "        seq_to = list(set(letters))\n",
    "        \n",
    "        score = -np.inf\n",
    "        \n",
    "        for i in range(max_iter):\n",
    "            new_seq = swap(seq_to)\n",
    "            mapping = dict(zip(seq_from, new_seq))\n",
    "            decoded_text = \"\".join([mapping[ch] for ch in encoded_text])\n",
    "            new_score = self.compute_score(decoded_text)\n",
    "            \n",
    "            if new_score > score or np.random.binomial(1, np.exp(new_score - score)) > 0:\n",
    "                score = new_score\n",
    "                seq_to = new_seq\n",
    "                \n",
    "            if (i + 1) % 100 == 0:\n",
    "                print('-'*100)\n",
    "                print('iteration', i)\n",
    "                print('score', score)\n",
    "                if validation_text is not None:\n",
    "                    print(\"\".join([mapping[ch] for ch in validation_text]))\n",
    "        \n",
    "        self.mapping = dict(zip(seq_from, seq_to))\n",
    "        \n",
    "    \n",
    "    def predict(self, text):\n",
    "        assert self.mapping is not None, \"You should apply fit before predict\"\n",
    "        assert self.original_freq_dict is not None, \"You should apply fit before predict\"\n",
    "        return \"\".join([self.mapping[ch] for ch in text])"
   ]
  },
  {
   "cell_type": "code",
   "execution_count": 267,
   "metadata": {},
   "outputs": [
    {
     "data": {
      "text/plain": [
       "'шшшхффхшчхтвфдфхшюлдфшдпшохиэршпфхивфдеэрштюихфюцшымцхшеюыоеюжюшфхздфхвеоушоехц вбшхкютдпиюишктхпюбшцовшозхоеыдцэвшовимдшйюрюьдшлтгжшфхшлтгжхшчхьлхушфвозхоеыдцхушовимушфвозхоеыдцхшйюоцювигшаеюшчфджхшюшцвзфэршсвффюоеуршюшынщцдшюшцвтвшюшовимвшюшзвыюцвзвочюишлюоеюдфоецвшшшшшшшшшшшшывцшеюыоеюбтюихфш дтючюжюшлэрхфдушшзхоемшйвтцхушшшывцшеюыоеюбшшхффхшчхтвфдфхшшшшштюихфш дтючюжюшлэрхфдушшшшшхффхшчхтвфдфхшйютхпдыхшоюцтвивффдчюцшцовлфвцфюоемншоюлвтьхфдушфвющэзхбфхушоцющюлхштхочюцхффюоемшйюцвоецюцхфдушглдцдевымфюшоюзвехыдомшцшаеюиштюихфвшошсвымфюоемншрглюьвоецвффюжюшцпжыулхшхцеютхшфхшьдпфмшюфшцэоегйхышплвомшчхчшрглюьфдчшдшиэоыдевымшдшфхпфхзвфдвшдочгооецхшцдлвышфвшцшеюишзеющэшфвюойютдиюштхптв демшцюйтюошхшцшеюишзеющэшпхоехцдемшынщдемшьдпфмшцшщвоздоывффэршфдчюжлхшфвшдоеюядиэршцовршввшйтюуцывфдуршшшшцшвшжюлэшюлдфшихоедеэбшйдохевымшйюцдлдиюигшжюфзхтюцшочхпхышлюоеювцочюигшаеюшцвямшфвоыэрхффхушаеюшцвямшйвтцхушчеюшгшфхошдпшйдохевывбшиюьвешйютхцфуемоушошаедишхшцшвцтюйвшшчеюшйтвлоехцдешрюемшзеюфдщглмшйюл'"
      ]
     },
     "execution_count": 267,
     "metadata": {},
     "output_type": "execute_result"
    }
   ],
   "source": [
    "shuffle_text(anna_karenina[:1000])"
   ]
  },
  {
   "cell_type": "code",
   "execution_count": 268,
   "metadata": {},
   "outputs": [],
   "source": [
    "decoder = MCMCSamplingDecoder()\n",
    "decoder.fit(anna_karenina, shuffle_text(anna_karenina[:1000]), max_iter=10, validation_text=anna_karenina[:1000])"
   ]
  }
 ],
 "metadata": {
  "kernelspec": {
   "display_name": "tensorflow37",
   "language": "python",
   "name": "tensorflow37"
  },
  "language_info": {
   "codemirror_mode": {
    "name": "ipython",
    "version": 3
   },
   "file_extension": ".py",
   "mimetype": "text/x-python",
   "name": "python",
   "nbconvert_exporter": "python",
   "pygments_lexer": "ipython3",
   "version": "3.7.6"
  }
 },
 "nbformat": 4,
 "nbformat_minor": 4
}
