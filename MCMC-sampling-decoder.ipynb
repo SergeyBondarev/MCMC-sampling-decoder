{
 "cells": [
  {
   "cell_type": "code",
   "execution_count": 5,
   "metadata": {
    "scrolled": true
   },
   "outputs": [
    {
     "name": "stdout",
     "output_type": "stream",
     "text": [
      "--2022-05-11 22:45:49--  https://www.dropbox.com/s/k23enjvr3fb40o5/corpora.zip\n",
      "Resolving www.dropbox.com (www.dropbox.com)... 2620:100:6022:18::a27d:4212, 162.125.70.18\n",
      "Connecting to www.dropbox.com (www.dropbox.com)|2620:100:6022:18::a27d:4212|:443... connected.\n",
      "HTTP request sent, awaiting response... 301 Moved Permanently\n",
      "Location: /s/raw/k23enjvr3fb40o5/corpora.zip [following]\n",
      "--2022-05-11 22:45:49--  https://www.dropbox.com/s/raw/k23enjvr3fb40o5/corpora.zip\n",
      "Reusing existing connection to [www.dropbox.com]:443.\n",
      "HTTP request sent, awaiting response... 302 Found\n",
      "Location: https://uc235b35586b893358c4253d2bd2.dl.dropboxusercontent.com/cd/0/inline/BlHdagYpv4oBvBdcz0dCXdtlt9k4dC6LZoxbNgYoQ_PEDmRZXhcc1kx_swY46Yg24R5jJKrSfMXx4apmcX8hIpfjCSCMTtqRR5Hk1huEz8sS9VtVr_VV-FzRzNiwZWhX1AsDdAHSwz7umamtrGTCw9CzGE6ltYJBSOHHtGX_BR_GeA/file# [following]\n",
      "--2022-05-11 22:45:50--  https://uc235b35586b893358c4253d2bd2.dl.dropboxusercontent.com/cd/0/inline/BlHdagYpv4oBvBdcz0dCXdtlt9k4dC6LZoxbNgYoQ_PEDmRZXhcc1kx_swY46Yg24R5jJKrSfMXx4apmcX8hIpfjCSCMTtqRR5Hk1huEz8sS9VtVr_VV-FzRzNiwZWhX1AsDdAHSwz7umamtrGTCw9CzGE6ltYJBSOHHtGX_BR_GeA/file\n",
      "Resolving uc235b35586b893358c4253d2bd2.dl.dropboxusercontent.com (uc235b35586b893358c4253d2bd2.dl.dropboxusercontent.com)... 2620:100:6022:15::a27d:420f, 162.125.70.15\n",
      "Connecting to uc235b35586b893358c4253d2bd2.dl.dropboxusercontent.com (uc235b35586b893358c4253d2bd2.dl.dropboxusercontent.com)|2620:100:6022:15::a27d:420f|:443... connected.\n",
      "HTTP request sent, awaiting response... 302 Found\n",
      "Location: /cd/0/inline2/BlHPlrfLpFwNSaqVKXeA7PlIsp5oT5fcSisgrZ7edXKsqSPvg7eaSWbFqX7iFcI4sjlrSxLNUxodomMT5zJjBmXfHrc4NEQ9ObuySq6cjANKDBYzXERUOvgN9Okwy5e8UJLgCRDx2VrdS8kPCHOGbRemO_G_gDXfHysBtbqx2-FGQ3m8mGb4JEXluhz3VZmmskaWOqExC14wLIxgEf9yrTHbwlrQaw_NkjLz28ODqdiTRegXidQTM_qGDHqy3fI9nZSMybUNIE_QeB1Ub-x8IxieOHvVmyE8DfZxx1TQHfRRh5LDzdA1tbXeuGSwfXBEHYS0adjwQK-TdrToEAMbhU7AGNLXJhW8QIqPWCitdAOagfSyc9XrpApqzz1QEOPfg5FpRQ4dDjskBhKfzgAog4LsbyrUeTa3IxxlJjEq6D7P_g/file [following]\n",
      "--2022-05-11 22:45:50--  https://uc235b35586b893358c4253d2bd2.dl.dropboxusercontent.com/cd/0/inline2/BlHPlrfLpFwNSaqVKXeA7PlIsp5oT5fcSisgrZ7edXKsqSPvg7eaSWbFqX7iFcI4sjlrSxLNUxodomMT5zJjBmXfHrc4NEQ9ObuySq6cjANKDBYzXERUOvgN9Okwy5e8UJLgCRDx2VrdS8kPCHOGbRemO_G_gDXfHysBtbqx2-FGQ3m8mGb4JEXluhz3VZmmskaWOqExC14wLIxgEf9yrTHbwlrQaw_NkjLz28ODqdiTRegXidQTM_qGDHqy3fI9nZSMybUNIE_QeB1Ub-x8IxieOHvVmyE8DfZxx1TQHfRRh5LDzdA1tbXeuGSwfXBEHYS0adjwQK-TdrToEAMbhU7AGNLXJhW8QIqPWCitdAOagfSyc9XrpApqzz1QEOPfg5FpRQ4dDjskBhKfzgAog4LsbyrUeTa3IxxlJjEq6D7P_g/file\n",
      "Reusing existing connection to [uc235b35586b893358c4253d2bd2.dl.dropboxusercontent.com]:443.\n",
      "HTTP request sent, awaiting response... 200 OK\n",
      "Length: 2434585 (2.3M) [application/zip]\n",
      "Saving to: ‘corpora.zip’\n",
      "\n",
      "corpora.zip         100%[===================>]   2.32M  12.5MB/s    in 0.2s    \n",
      "\n",
      "2022-05-11 22:45:51 (12.5 MB/s) - ‘corpora.zip’ saved [2434585/2434585]\n",
      "\n",
      "Archive:  corpora.zip\n",
      "  inflating: AnnaKarenina.txt        \n",
      "  inflating: WarAndPeace.txt         \n",
      "  inflating: WarAndPeaceEng.txt      \n"
     ]
    }
   ],
   "source": [
    "!wget https://www.dropbox.com/s/k23enjvr3fb40o5/corpora.zip\n",
    "    \n",
    "!unzip corpora.zip"
   ]
  },
  {
   "cell_type": "markdown",
   "metadata": {},
   "source": [
    "## Базовый частотный метод"
   ]
  },
  {
   "cell_type": "code",
   "execution_count": 6,
   "metadata": {},
   "outputs": [],
   "source": [
    "def read_text(file_name):\n",
    "    with open(file_name, encoding='utf-8') as f:\n",
    "        text = f.read()\n",
    "        text = text.lower()\n",
    "        text = text.replace('\\n', ' ')\n",
    "        return text\n",
    "\n",
    "\n",
    "anna_karenina = read_text('AnnaKarenina.txt')\n",
    "war_peace_ru = read_text('WarAndPeace.txt')\n",
    "war_peace_eng = read_text('WarAndPeaceEng.txt')"
   ]
  },
  {
   "cell_type": "markdown",
   "metadata": {},
   "source": [
    "Посмотрим на считанные тексты."
   ]
  },
  {
   "cell_type": "code",
   "execution_count": 7,
   "metadata": {},
   "outputs": [
    {
     "data": {
      "text/plain": [
       "'annotation   «анна каренина», один из самых знаменитых романов льва толстого, начинается ставшей афо'"
      ]
     },
     "execution_count": 7,
     "metadata": {},
     "output_type": "execute_result"
    }
   ],
   "source": [
    "anna_karenina[:100]"
   ]
  },
  {
   "cell_type": "code",
   "execution_count": 8,
   "metadata": {},
   "outputs": [
    {
     "data": {
      "text/plain": [
       "'annotation   \\t\"война и мир\" – самый известный роман льва николаевича толстого, как никакое другое пр'"
      ]
     },
     "execution_count": 8,
     "metadata": {},
     "output_type": "execute_result"
    }
   ],
   "source": [
    "war_peace_ru[:100]"
   ]
  },
  {
   "cell_type": "code",
   "execution_count": 9,
   "metadata": {},
   "outputs": [
    {
     "data": {
      "text/plain": [
       "'\\ufeffthe project gutenberg ebook of war and peace, by leo tolstoy  this ebook is for the use of anyone a'"
      ]
     },
     "execution_count": 9,
     "metadata": {},
     "output_type": "execute_result"
    }
   ],
   "source": [
    "war_peace_eng[:100]"
   ]
  },
  {
   "cell_type": "markdown",
   "metadata": {},
   "source": [
    "Видно, что требуется чистка. Уберем все ненужное и посмотрим на то, что получилось."
   ]
  },
  {
   "cell_type": "code",
   "execution_count": 10,
   "metadata": {},
   "outputs": [],
   "source": [
    "import re\n",
    "\n",
    "ru_regex = re.compile(\"[^А-Яа-яЁё ]\")\n",
    "en_regex = re.compile(\"[^A-Za-z ]\")\n",
    "\n",
    "war_peace_eng = en_regex.sub(\"\", war_peace_eng)\n",
    "war_peace_ru  = ru_regex.sub(\"\", war_peace_ru)\n",
    "anna_karenina = ru_regex.sub(\"\", anna_karenina)"
   ]
  },
  {
   "cell_type": "code",
   "execution_count": 11,
   "metadata": {},
   "outputs": [
    {
     "data": {
      "text/plain": [
       "'   анна каренина один из самых знаменитых романов льва толстого начинается ставшей афоризмом фразой '"
      ]
     },
     "execution_count": 11,
     "metadata": {},
     "output_type": "execute_result"
    }
   ],
   "source": [
    "anna_karenina[:100]"
   ]
  },
  {
   "cell_type": "code",
   "execution_count": 12,
   "metadata": {},
   "outputs": [
    {
     "data": {
      "text/plain": [
       "'   война и мир  самый известный роман льва николаевича толстого как никакое другое произведение писа'"
      ]
     },
     "execution_count": 12,
     "metadata": {},
     "output_type": "execute_result"
    }
   ],
   "source": [
    "war_peace_ru[:100]"
   ]
  },
  {
   "cell_type": "code",
   "execution_count": 13,
   "metadata": {},
   "outputs": [
    {
     "data": {
      "text/plain": [
       "'the project gutenberg ebook of war and peace by leo tolstoy  this ebook is for the use of anyone any'"
      ]
     },
     "execution_count": 13,
     "metadata": {},
     "output_type": "execute_result"
    }
   ],
   "source": [
    "war_peace_eng[:100]"
   ]
  },
  {
   "cell_type": "code",
   "execution_count": 14,
   "metadata": {},
   "outputs": [],
   "source": [
    "from collections import Counter\n",
    "\n",
    "\n",
    "cnt_anna_karenina = Counter(anna_karenina)\n",
    "cnt_war_peace_ru = Counter(war_peace_ru)\n",
    "cnt_war_peace_eng = Counter(war_peace_eng)"
   ]
  },
  {
   "cell_type": "markdown",
   "metadata": {},
   "source": [
    "Ради интереса посмотрим на частоту встречаемости букв"
   ]
  },
  {
   "cell_type": "code",
   "execution_count": 15,
   "metadata": {},
   "outputs": [
    {
     "data": {
      "text/plain": [
       "[(' ', 307969),\n",
       " ('о', 162409),\n",
       " ('е', 123650),\n",
       " ('а', 117104),\n",
       " ('н', 98139),\n",
       " ('и', 93874),\n",
       " ('т', 84639),\n",
       " ('с', 75124),\n",
       " ('л', 70914),\n",
       " ('в', 66562),\n",
       " ('р', 56289),\n",
       " ('к', 48460),\n",
       " ('д', 41632),\n",
       " ('м', 40527),\n",
       " ('у', 38129),\n",
       " ('п', 34093),\n",
       " ('я', 30444),\n",
       " ('ь', 27853),\n",
       " ('ы', 26214),\n",
       " ('г', 25693),\n",
       " ('б', 24718),\n",
       " ('ч', 23858),\n",
       " ('з', 23121),\n",
       " ('ж', 16020),\n",
       " ('й', 14862),\n",
       " ('ш', 12068),\n",
       " ('х', 10986),\n",
       " ('ю', 8812),\n",
       " ('э', 5019),\n",
       " ('щ', 4054),\n",
       " ('ц', 3993),\n",
       " ('ф', 1781),\n",
       " ('ъ', 412),\n",
       " ('ё', 31)]"
      ]
     },
     "execution_count": 15,
     "metadata": {},
     "output_type": "execute_result"
    }
   ],
   "source": [
    "cnt_anna_karenina.most_common()"
   ]
  },
  {
   "cell_type": "code",
   "execution_count": 16,
   "metadata": {},
   "outputs": [
    {
     "data": {
      "text/plain": [
       "[(' ', 117324),\n",
       " ('о', 61282),\n",
       " ('а', 45209),\n",
       " ('е', 42519),\n",
       " ('и', 35838),\n",
       " ('н', 35119),\n",
       " ('т', 30619),\n",
       " ('с', 28128),\n",
       " ('л', 27277),\n",
       " ('в', 24824),\n",
       " ('р', 24570),\n",
       " ('к', 19328),\n",
       " ('д', 16387),\n",
       " ('м', 15940),\n",
       " ('у', 15454),\n",
       " ('п', 13847),\n",
       " ('я', 12477),\n",
       " ('г', 11177),\n",
       " ('ь', 10498),\n",
       " ('ы', 10233),\n",
       " ('з', 9602),\n",
       " ('б', 9310),\n",
       " ('ч', 7349),\n",
       " ('й', 6210),\n",
       " ('ж', 5460),\n",
       " ('ш', 5090),\n",
       " ('х', 4600),\n",
       " ('ю', 3495),\n",
       " ('ц', 2179),\n",
       " ('э', 1629),\n",
       " ('щ', 1514),\n",
       " ('ф', 1209),\n",
       " ('ё', 431),\n",
       " ('ъ', 283)]"
      ]
     },
     "execution_count": 16,
     "metadata": {},
     "output_type": "execute_result"
    }
   ],
   "source": [
    "cnt_war_peace_ru.most_common()"
   ]
  },
  {
   "cell_type": "code",
   "execution_count": 17,
   "metadata": {},
   "outputs": [
    {
     "data": {
      "text/plain": [
       "[(' ', 579915),\n",
       " ('e', 315233),\n",
       " ('t', 226406),\n",
       " ('a', 205806),\n",
       " ('o', 192879),\n",
       " ('n', 184173),\n",
       " ('i', 174281),\n",
       " ('h', 167404),\n",
       " ('s', 162891),\n",
       " ('r', 148428),\n",
       " ('d', 118290),\n",
       " ('l', 96527),\n",
       " ('u', 65434),\n",
       " ('m', 61646),\n",
       " ('c', 61623),\n",
       " ('w', 59207),\n",
       " ('f', 54896),\n",
       " ('g', 51326),\n",
       " ('y', 46265),\n",
       " ('p', 45533),\n",
       " ('b', 34658),\n",
       " ('v', 27086),\n",
       " ('k', 20431),\n",
       " ('x', 4384),\n",
       " ('j', 2574),\n",
       " ('z', 2388),\n",
       " ('q', 2330)]"
      ]
     },
     "execution_count": 17,
     "metadata": {},
     "output_type": "execute_result"
    }
   ],
   "source": [
    "cnt_war_peace_eng.most_common()"
   ]
  },
  {
   "cell_type": "code",
   "execution_count": 18,
   "metadata": {},
   "outputs": [
    {
     "data": {
      "text/plain": [
       "['t',\n",
       " 'h',\n",
       " 'e',\n",
       " ' ',\n",
       " 'p',\n",
       " 'r',\n",
       " 'o',\n",
       " 'j',\n",
       " 'c',\n",
       " 'g',\n",
       " 'u',\n",
       " 'n',\n",
       " 'b',\n",
       " 'k',\n",
       " 'f',\n",
       " 'w',\n",
       " 'a',\n",
       " 'd',\n",
       " 'y',\n",
       " 'l',\n",
       " 's',\n",
       " 'i',\n",
       " 'm',\n",
       " 'v',\n",
       " 'x',\n",
       " 'z',\n",
       " 'q']"
      ]
     },
     "execution_count": 18,
     "metadata": {},
     "output_type": "execute_result"
    }
   ],
   "source": [
    "list(cnt_war_peace_eng.keys())"
   ]
  },
  {
   "cell_type": "code",
   "execution_count": 250,
   "metadata": {},
   "outputs": [],
   "source": [
    "def encode_text(text, random_state=42):\n",
    "    import random\n",
    "    random.seed(random_state)\n",
    "    \n",
    "    letters = list(set(text))\n",
    "    old_letters = letters.copy()\n",
    "    random.shuffle(letters)\n",
    "    mapping = dict(zip(old_letters, letters))\n",
    "    \n",
    "    return \"\".join([mapping[ch] for ch in text])\n",
    "\n",
    "\n",
    "assert(\n",
    "    sorted(Counter(encode_text(anna_karenina[:100])).values()) == sorted(Counter(anna_karenina[:100]).values())\n",
    ")\n",
    "\n",
    "\n",
    "def decode_by_frequency(encoded_text, cnt):\n",
    "    encoded_cnt = Counter(encoded_text)\n",
    "    \n",
    "    mapping = {letter1: letter2\n",
    "               for ((letter1, freq1), (letter2, freq2)) in zip(encoded_cnt.most_common(), cnt.most_common())}\n",
    "    return \"\".join([mapping[ch] for ch in encoded_text])\n",
    "\n",
    "\n",
    "def compare(text1, text2):\n",
    "    assert len(text1) == len(text2), f'{len(text1), len(text2)}'\n",
    "    s = 0\n",
    "    for ch1, ch2 in zip(text1, text2):\n",
    "        if ch1 == ch2:\n",
    "            s += 1\n",
    "    return s / len(text1)"
   ]
  },
  {
   "cell_type": "markdown",
   "metadata": {},
   "source": [
    "Исходный текст:"
   ]
  },
  {
   "cell_type": "code",
   "execution_count": 21,
   "metadata": {},
   "outputs": [
    {
     "data": {
      "text/plain": [
       "'   анна каренина один из самых знаменитых романов льва толстого начинается ставшей афоризмом фразой все счастливые семьи похожи друг на друга каждая несчастливая семья несчастлива посвоему это книга о вечных ценностях о любви о вере о семье о человеческом достоинстве            лев толстойроман широкого дыхания  часть первая   лев толстой  анна каренина     роман широкого дыхания     анна каренина поразила современников вседневностью содержания необычайная свобода раскованность повествования удивительно сочетались в этом романе с цельностью художественного взгляда автора на жизнь он выступал здесь как художник и мыслитель и назначение искусства видел не в том чтобы неоспоримо разрешить вопрос а в том чтобы заставить любить жизнь в бесчисленных никогда не истощимых всех ее проявлениях    в е годы один маститый писатель повидимому гончаров сказал достоевскому это вещь неслыханная это вещь первая кто у нас из писателей может поравняться с этим а в европе  кто представит хоть чтонибудь подобное фм достоевский находил в новом романе толстого огромную психологическую разработку души человеческой страшную глубину и силу и главное небывалый доселе у нас реализм художественного изображения  время подтвердило эту высокую оценку из статей и книг на всех языках мира посвященных анне карениной можно составить целую библиотеку я без колебаний назвал анну каренину величайшим социальным романом во всей мировой литературе  писал томас манн  значение романа толстого состоит не в эстетической ценности отдельных картин а в художественной завершенности целого         войну и мир толстой называл книгой о прошлом в начале  года он просил редактора журнала русский вестник мн каткова в оглавлении и даже в объявлении не называть его сочинение романом для меня это очень важно и потому очень прошу вас об этом   толстой мог бы обосновать свое определение жанра книга ссылкой на гегеля которого он внимательно перечитывал в годы работы над войной и миром гегель называл книгой эпические произведени'"
      ]
     },
     "execution_count": 21,
     "metadata": {},
     "output_type": "execute_result"
    }
   ],
   "source": [
    "anna_karenina[:2000]"
   ]
  },
  {
   "cell_type": "markdown",
   "metadata": {},
   "source": [
    "Раскодированный после случайной перестановки символов:"
   ]
  },
  {
   "cell_type": "code",
   "execution_count": 22,
   "metadata": {},
   "outputs": [
    {
     "data": {
      "text/plain": [
       "'   неен днраеиен омие иб тнкьж бенкаеисьж рокнеол вплн совтсояо енгиенастч тснлхаз нфорибкок фрнбоз лта тгнтсвильа такпи ыожоши мруя ен мруян дншмнч еатгнтсвилнч такпч еатгнтсвилн ыотлоаку юсо деиян о лагеьж щаееотсчж о вэйли о лара о такпа о гаволагатдок мотсоиетсла            вал совтсозрокне хиродояо мьжнеич  гнтсп ыарлнч   вал совтсоз  неен днраеиен     рокне хиродояо мьжнеич     неен днраеиен ыорнбивн толракаееидол лтамеалеотспэ томаршнеич еаойьгнзенч тлойомн рнтдолнееотсп ыолатслолнеич умилисавпео тогаснвитп л юсок рокнеа т щавпеотспэ жумошатслаееояо лбявчмн нлсорн ен шибеп ое льтсуынв бматп днд жумошеид и кьтвисавп и енбенгаеиа итдуттслн лимав еа л сок гсойь еаотыорико рнбрахисп лоырот н л сок гсойь бнтснлисп вэйисп шибеп л йатгитваееьж еидоямн еа итсоцикьж лтаж аа ырочлваеичж    л а яомь омие кнтсисьз ыитнсавп ыолимикоку яоегнрол тднбнв мотсоалтдоку юсо лацп еатвьжнеенч юсо лацп ыарлнч дсо у ент иб ыитнсаваз кошас ыорнлечсптч т юсик н л алроыа  дсо ырамтснлис жосп гсоеийумп ыомойеоа фк мотсоалтдиз енжомив л еолок рокнеа совтсояо оярокеуэ ытижовояигатдуэ рнбрнйосду мухи гаволагатдоз тсрнхеуэ явуйиеу и тиву и явнлеоа еайьлнвьз мотава у ент ранвибк жумошатслаееояо ибойрншаеич  лракч ыомслармиво юсу льтодуэ ощаеду иб тснсаз и деия ен лтаж чбьднж кирн ыотлчцаееьж нееа днраеиеоз кошео тотснлисп щавуэ йийвиосаду ч йаб довайнеиз енблнв нееу днраеиеу лавигнзхик тощинвпеьк рокнеок ло лтаз киролоз висарнсура  ыитнв сокнт кнее  бенгаеиа рокнен совтсояо тотсоис еа л ютсасигатдоз щаееотси осмавпеьж днрсие н л жумошатслаееоз бнлархаееотси щавояо         лозеу и кир совтсоз енбьлнв деияоз о ырохвок л енгнва  яомн ое ыротив рамндсорн шуренвн руттдиз латсеид ке днсдолн л оявнлваеии и мнша л ойъчлваеии еа енбьлнсп аяо тогиеаеиа рокнеок мвч каеч юсо огаеп лншео и ыосоку огаеп ыроху лнт ой юсок   совтсоз коя йь ойотеолнсп тлоа оырамаваеиа шнерн деиян ттьвдоз ен яаяавч досорояо ое леикнсавпео ыарагисьлнв л яомь рнйось енм лозеоз и кирок яаяавп енбьлнв деияоз юыигатдиа ыроибламаеи'"
      ]
     },
     "execution_count": 22,
     "metadata": {},
     "output_type": "execute_result"
    }
   ],
   "source": [
    "decode_by_frequency(encode_text(anna_karenina[:2000]), cnt_anna_karenina)"
   ]
  },
  {
   "cell_type": "markdown",
   "metadata": {},
   "source": [
    "Посмотрим какая доля символов распознается правильно в зависимости от длины текста\n",
    "- тектс длины 100 - 22% символов\n",
    "- текст длины 1000 - 29% символов\n",
    "- текст длины 10000 - 39% символов\n",
    "- текст длины 100000 - 88% символов\n",
    "\n",
    "Видно, что короткие сообщения таким способом не расшифровать (впрочем, это очевидно с самого начала)."
   ]
  },
  {
   "cell_type": "code",
   "execution_count": 23,
   "metadata": {},
   "outputs": [
    {
     "data": {
      "text/plain": [
       "0.22"
      ]
     },
     "execution_count": 23,
     "metadata": {},
     "output_type": "execute_result"
    }
   ],
   "source": [
    "compare(\n",
    "    decode_by_frequency(encode_text(anna_karenina[:100]), cnt_anna_karenina),\n",
    "    anna_karenina[:100],\n",
    ")"
   ]
  },
  {
   "cell_type": "code",
   "execution_count": 24,
   "metadata": {},
   "outputs": [
    {
     "data": {
      "text/plain": [
       "0.294"
      ]
     },
     "execution_count": 24,
     "metadata": {},
     "output_type": "execute_result"
    }
   ],
   "source": [
    "compare(\n",
    "    decode_by_frequency(encode_text(anna_karenina[:1000]), cnt_anna_karenina),\n",
    "    anna_karenina[:1000],\n",
    ")"
   ]
  },
  {
   "cell_type": "code",
   "execution_count": 25,
   "metadata": {},
   "outputs": [
    {
     "data": {
      "text/plain": [
       "0.3898"
      ]
     },
     "execution_count": 25,
     "metadata": {},
     "output_type": "execute_result"
    }
   ],
   "source": [
    "compare(\n",
    "    decode_by_frequency(encode_text(anna_karenina[:10000]), cnt_anna_karenina),\n",
    "    anna_karenina[:10000],\n",
    ")"
   ]
  },
  {
   "cell_type": "code",
   "execution_count": 26,
   "metadata": {},
   "outputs": [
    {
     "data": {
      "text/plain": [
       "0.88294"
      ]
     },
     "execution_count": 26,
     "metadata": {},
     "output_type": "execute_result"
    }
   ],
   "source": [
    "compare(\n",
    "    decode_by_frequency(encode_text(anna_karenina[:100000]), cnt_anna_karenina),\n",
    "    anna_karenina[:100000],\n",
    ")"
   ]
  },
  {
   "cell_type": "code",
   "execution_count": 27,
   "metadata": {},
   "outputs": [
    {
     "data": {
      "text/plain": [
       "'   анна каренина омин ич садыш чнаденитыш роданов льва толстого назинается ставхеж афоричдод фрачож все сзастливые седьи пошойи мруг на мруга каймая несзастливая седья несзастлива посвоеду щто книга о везныш эенностяш о любви о вере о седье о зеловезескод мостоинстве            лев толстожродан хирокого мышания  засть первая   лев толстож  анна каренина     родан хирокого мышания     анна каренина порачила совреденников всемневностью сомерйания необызажная свобома раскованность повествования уми'"
      ]
     },
     "execution_count": 27,
     "metadata": {},
     "output_type": "execute_result"
    }
   ],
   "source": [
    "decode_by_frequency(encode_text(anna_karenina[:100000]), cnt_anna_karenina)[:500]"
   ]
  },
  {
   "cell_type": "markdown",
   "metadata": {},
   "source": [
    "Посмотрим еще на войну и мир:"
   ]
  },
  {
   "cell_type": "code",
   "execution_count": 28,
   "metadata": {},
   "outputs": [
    {
     "data": {
      "text/plain": [
       "'the project gutenberg ebook of war and peace by leo tolstoy  this ebook is for the use of anyone anywhere at no cost and with almost no restrictions whatsoever  you may copy it give it away or reuse it under the terms of the project gutenberg license included with this ebook or online at wwwgutenbergorg   title war and peace  author leo tolstoy  translators louise and aylmer maude  posting date january   ebook   last updated march    language english    start of this project gutenberg ebook war and peace   an anonymous volunteer and david widger      war and peace  by leo tolstoytolstoi  contents  book one   chapter i  chapter ii  chapter iii  chapter iv  chapter v  chapter vi  chapter vii  chapter viii  chapter ix  chapter x  chapter xi  chapter xii  chapter xiii  chapter xiv  chapter xv  chapter xvi  chapter xvii  chapter xviii  chapter xix  chapter xx  chapter xxi  chapter xxii  chapter xxiii  chapter xxiv  chapter xxv  chapter xxvi  chapter xxvii  chapter xxviii  book two   chapter i  chapter ii  chapter iii  chapter iv  chapter v  chapter vi  chapter vii  chapter viii  chapter ix  chapter x  chapter xi  chapter xii  chapter xiii  chapter xiv  chapter xv  chapter xvi  chapter xvii  chapter xviii  chapter xix  chapter xx  chapter xxi  book three   chapter i  chapter ii  chapter iii  chapter iv  chapter v  chapter vi  chapter vii  chapter viii  chapter ix  chapter x  chapter xi  chapter xii  chapter xiii  chapter xiv  chapter xv  chapter xvi  chapter xvii  chapter xviii  chapter xix  book four   chapter i  chapter ii  chapter iii  chapter iv  chapter v  chapter vi  chapter vii  chapter viii  chapter ix  chapter x  chapter xi  chapter xii  chapter xiii  chapter xiv  chapter xv  chapter xvi  book five     chapter i  chapter ii  chapter iii  chapter iv  chapter v  chapter vi  chapter vii  chapter viii  chapter ix  chapter x  chapter xi  chapter xii  chapter xiii  chapter xiv  chapter xv  chapter xvi  chapter xvii  chapter xviii  chapter xix  chapter xx  chapter xxi  '"
      ]
     },
     "execution_count": 28,
     "metadata": {},
     "output_type": "execute_result"
    }
   ],
   "source": [
    "war_peace_eng[:2000]"
   ]
  },
  {
   "cell_type": "code",
   "execution_count": 29,
   "metadata": {},
   "outputs": [
    {
     "data": {
      "text/plain": [
       "'ait sndjtha ywatugtny tgddv dk pon ouf stoht gb ctd adcmadb  aiem tgddv em kdn ait wmt dk oubdut oubpitnt oa ud hdma ouf peai ocxdma ud ntmanehaedum pioamdtltn  bdw xob hdsb ea yelt ea opob dn ntwmt ea wuftn ait atnxm dk ait sndjtha ywatugtny cehtumt euhcwftf peai aiem tgddv dn duceut oa pppywatugtnydny   aeact pon ouf stoht  owaidn ctd adcmadb  anoumcoadnm cdwemt ouf obcxtn xowft  sdmaeuy foat jouwonb   tgddv   coma wsfoatf xonhi    couywoyt tuycemi    maona dk aiem sndjtha ywatugtny tgddv pon ouf stoht   ou oudubxdwm ldcwuattn ouf folef pefytn      pon ouf stoht  gb ctd adcmadbadcmade  hduatuam  gddv dut   hiosatn e  hiosatn ee  hiosatn eee  hiosatn el  hiosatn l  hiosatn le  hiosatn lee  hiosatn leee  hiosatn er  hiosatn r  hiosatn re  hiosatn ree  hiosatn reee  hiosatn rel  hiosatn rl  hiosatn rle  hiosatn rlee  hiosatn rleee  hiosatn rer  hiosatn rr  hiosatn rre  hiosatn rree  hiosatn rreee  hiosatn rrel  hiosatn rrl  hiosatn rrle  hiosatn rrlee  hiosatn rrleee  gddv apd   hiosatn e  hiosatn ee  hiosatn eee  hiosatn el  hiosatn l  hiosatn le  hiosatn lee  hiosatn leee  hiosatn er  hiosatn r  hiosatn re  hiosatn ree  hiosatn reee  hiosatn rel  hiosatn rl  hiosatn rle  hiosatn rlee  hiosatn rleee  hiosatn rer  hiosatn rr  hiosatn rre  gddv aintt   hiosatn e  hiosatn ee  hiosatn eee  hiosatn el  hiosatn l  hiosatn le  hiosatn lee  hiosatn leee  hiosatn er  hiosatn r  hiosatn re  hiosatn ree  hiosatn reee  hiosatn rel  hiosatn rl  hiosatn rle  hiosatn rlee  hiosatn rleee  hiosatn rer  gddv kdwn   hiosatn e  hiosatn ee  hiosatn eee  hiosatn el  hiosatn l  hiosatn le  hiosatn lee  hiosatn leee  hiosatn er  hiosatn r  hiosatn re  hiosatn ree  hiosatn reee  hiosatn rel  hiosatn rl  hiosatn rle  gddv kelt     hiosatn e  hiosatn ee  hiosatn eee  hiosatn el  hiosatn l  hiosatn le  hiosatn lee  hiosatn leee  hiosatn er  hiosatn r  hiosatn re  hiosatn ree  hiosatn reee  hiosatn rel  hiosatn rl  hiosatn rle  hiosatn rlee  hiosatn rleee  hiosatn rer  hiosatn rr  hiosatn rre  '"
      ]
     },
     "execution_count": 29,
     "metadata": {},
     "output_type": "execute_result"
    }
   ],
   "source": [
    "decode_by_frequency(encode_text(war_peace_eng[:2000]), cnt_war_peace_eng)"
   ]
  },
  {
   "cell_type": "markdown",
   "metadata": {},
   "source": [
    "Интересный феномен - для английского языка качество получается хуже. При переходе к более длинным текстам качество не увеличивается."
   ]
  },
  {
   "cell_type": "code",
   "execution_count": 30,
   "metadata": {},
   "outputs": [
    {
     "data": {
      "text/plain": [
       "0.32"
      ]
     },
     "execution_count": 30,
     "metadata": {},
     "output_type": "execute_result"
    }
   ],
   "source": [
    "compare(\n",
    "    decode_by_frequency(encode_text(war_peace_eng[:100]), cnt_war_peace_eng),\n",
    "    war_peace_eng[:100],\n",
    ")"
   ]
  },
  {
   "cell_type": "code",
   "execution_count": 31,
   "metadata": {},
   "outputs": [
    {
     "data": {
      "text/plain": [
       "0.53"
      ]
     },
     "execution_count": 31,
     "metadata": {},
     "output_type": "execute_result"
    }
   ],
   "source": [
    "compare(\n",
    "    decode_by_frequency(encode_text(war_peace_eng[:1000]), cnt_war_peace_eng),\n",
    "    war_peace_eng[:1000],\n",
    ")"
   ]
  },
  {
   "cell_type": "code",
   "execution_count": 32,
   "metadata": {},
   "outputs": [
    {
     "data": {
      "text/plain": [
       "0.3054"
      ]
     },
     "execution_count": 32,
     "metadata": {},
     "output_type": "execute_result"
    }
   ],
   "source": [
    "compare(\n",
    "    decode_by_frequency(encode_text(war_peace_eng[:10000]), cnt_war_peace_eng),\n",
    "    war_peace_eng[:10000],\n",
    ")"
   ]
  },
  {
   "cell_type": "code",
   "execution_count": 33,
   "metadata": {},
   "outputs": [
    {
     "data": {
      "text/plain": [
       "0.6861"
      ]
     },
     "execution_count": 33,
     "metadata": {},
     "output_type": "execute_result"
    }
   ],
   "source": [
    "compare(\n",
    "    decode_by_frequency(encode_text(war_peace_eng[:100000]), cnt_war_peace_eng),\n",
    "    war_peace_eng[:100000],\n",
    ")"
   ]
  },
  {
   "cell_type": "code",
   "execution_count": 34,
   "metadata": {},
   "outputs": [
    {
     "data": {
      "text/plain": [
       "'   война и мир  самый известный роман льва николаевича толстого как никакое другое произведение писателя отражает глубину его мироощущения и философииэта книга из разряда вечных потому что она обо всем  о жизни и смерти о любви и чести о мужестве и героизме о славе и подвиге о войне и мирепервый том знакомит с высшим обществом россии  века показаны взаимоотношения между родителями и детьми в семье ростовых сватовство у болконских интриги у безуховых вечера в салоне фрейлины апшерер балы в москве и петербурге            лев николаевич толстойчасть первая  часть орая  часть третья              лев николаевич толстой  война и мир  том      часть первая          е              поместья                                                       мой верный раб    ну что князь генуа и лукка стали не больше как поместьями фамилии бонапарте нет я вас предупреждаю если вы мне не скажете что у нас война если вы еще позволите себе защищать все гадости все ужасы этого антихриста право я верю что он антихрист  я вас больше не знаю вы уж не друг мой вы уж не мой верный раб как вы говорите ну здравствуйте здравствуйте        я вижу что я вас пугаю садитесь и рассказывайте  так говорила в июле  года известная анна павловна шерер фрейлина и приближенная императрицы марии феодоровны встречая важного и чиновного князя василия первого приехавшего на ее вечер анна павловна кашляла несколько дней у нее был грипп как она говорила грипп был тогда новое слово употреблявшееся только редкими в записочках разосланных утром с красным лакеем было написано без различия во всех             или                                    если  вас граф или князь нет в виду ничего лучшего и если перспектива вечера у бедной больной не слишком вас пугает то я буду очень рада видеть вас нынче у себя между семью и десятью часами анна шерер       о какое жестокое нападение  отвечал нисколько не смутясь такою встречей вошедший князь в придворном шитом мундире в чулках башмаках при звездах с светлым выражением плоского л'"
      ]
     },
     "execution_count": 34,
     "metadata": {},
     "output_type": "execute_result"
    }
   ],
   "source": [
    "war_peace_ru[:2000]"
   ]
  },
  {
   "cell_type": "code",
   "execution_count": 35,
   "metadata": {},
   "outputs": [
    {
     "data": {
      "text/plain": [
       "'   найте и див  седьй износлтьй вадет рбне тикареониые ларслага кек тикекао явмгао уваизнояотио уиселорп алвешеол грмчитм ога дивааэмэотип и цирасациищле ктиге из везвпяе ноытьх уаладм ыла ате ача нсод  а шизти и сдовли а рючни и ыосли а дмшослно и говаиздо а срено и уаяниго а найто и дивоуовньй лад зтекадил с ньсжид ачэослнад вассии  ноке уакезеть нзеидаалтажотип дошям ваяилорпди и яолбди н содбо васланьх снеланслна м чаркатских итлвиги м чозмханьх ноыове н серато цвойрить еужовов черь н даскно и уоловчмвго            рон тикареониы ларслайыеслб уовнеп  ыеслб авеп  ыеслб лволбп              рон тикареониы ларслай  найте и див  лад      ыеслб уовнеп          о              уадослбп                                                       дай новтьй веч    тм ыла ктпзб готме и рмкке слери то чарбжо кек уадослбпди цедирии чатеуевло тол п нес увоямувошяею осри нь дто то скешоло ыла м тес найте осри нь оэо уазнарило сочо зеэиэелб нсо геяасли нсо мшесь щлага етлихвисле увена п новю ыла ат етлихвисл  п нес чарбжо то зтею нь мш то явмг дай нь мш то дай новтьй веч кек нь ганавило тм зявенслнмйло зявенслнмйло        п нишм ыла п нес умгею сеяилосб и весскезьнейло  лек ганавире н июро  гаяе износлтеп етте уенранте жовов цвойрите и увичришоттеп идуовелвифь девии цоаяаванть нслвоыеп нештага и ыитантага ктпзп несирип уовнага увиохенжога те оо ноыов етте уенранте кежрпре тоскарбка ятой м тоо чьр гвиуу кек ате ганавире гвиуу чьр лагяе танао срана муалвочрпнжоосп ларбка воякиди н зеуисаыкех везасреттьх млвад с квестьд рекоод чьра теуисета чоз везриыип на нсох             ири                                    осри  нес гвец ири ктпзб тол н ниям тиыога рмыжога и осри уовсуоклине ноыове м чоятай чарбтай то срижкад нес умгеол ла п чмям аыотб веяе нияолб нес тьтыо м сочп дошям содбю и яосплбю ыеседи етте жовов       а кекао шослакао теуеяотио  алноыер тискарбка то сдмлпсб лекаю нслвоыой нажояжий ктпзб н увиянавтад жилад дмтяиво н ымркех чеждекех уви знозяех с снолрьд ньвешотиод ураскага р'"
      ]
     },
     "execution_count": 35,
     "metadata": {},
     "output_type": "execute_result"
    }
   ],
   "source": [
    "decode_by_frequency(encode_text(war_peace_ru[:2000]), cnt_war_peace_ru)"
   ]
  },
  {
   "cell_type": "code",
   "execution_count": 36,
   "metadata": {},
   "outputs": [
    {
     "data": {
      "text/plain": [
       "0.41"
      ]
     },
     "execution_count": 36,
     "metadata": {},
     "output_type": "execute_result"
    }
   ],
   "source": [
    "compare(\n",
    "    decode_by_frequency(encode_text(war_peace_ru[:100]), cnt_war_peace_ru),\n",
    "    war_peace_ru[:100],\n",
    ")"
   ]
  },
  {
   "cell_type": "code",
   "execution_count": 37,
   "metadata": {},
   "outputs": [
    {
     "data": {
      "text/plain": [
       "0.319"
      ]
     },
     "execution_count": 37,
     "metadata": {},
     "output_type": "execute_result"
    }
   ],
   "source": [
    "compare(\n",
    "    decode_by_frequency(encode_text(war_peace_ru[:1000]), cnt_war_peace_ru),\n",
    "    war_peace_ru[:1000],\n",
    ")"
   ]
  },
  {
   "cell_type": "code",
   "execution_count": 38,
   "metadata": {},
   "outputs": [
    {
     "data": {
      "text/plain": [
       "0.3912"
      ]
     },
     "execution_count": 38,
     "metadata": {},
     "output_type": "execute_result"
    }
   ],
   "source": [
    "compare(\n",
    "    decode_by_frequency(encode_text(war_peace_ru[:10000]), cnt_war_peace_ru),\n",
    "    war_peace_ru[:10000],\n",
    ")"
   ]
  },
  {
   "cell_type": "code",
   "execution_count": 39,
   "metadata": {},
   "outputs": [
    {
     "data": {
      "text/plain": [
       "0.81101"
      ]
     },
     "execution_count": 39,
     "metadata": {},
     "output_type": "execute_result"
    }
   ],
   "source": [
    "compare(\n",
    "    decode_by_frequency(encode_text(war_peace_ru[:100000]), cnt_war_peace_ru),\n",
    "    war_peace_ru[:100000],\n",
    ")"
   ]
  },
  {
   "cell_type": "markdown",
   "metadata": {},
   "source": [
    "## Метод, основанный на биграммах"
   ]
  },
  {
   "cell_type": "code",
   "execution_count": 251,
   "metadata": {},
   "outputs": [],
   "source": [
    "def get_ngrams(text, n=2, shift=False):\n",
    "    return [text[i:i + n] for i in range(0, len(text) - n + 1, n if shift else 1)]\n",
    "\n",
    "\n",
    "cnt_anna_karenina = Counter(get_ngrams(anna_karenina))\n",
    "cnt_war_peace_ru = Counter(get_ngrams(war_peace_ru))\n",
    "cnt_war_peace_eng = Counter(get_ngrams(war_peace_eng))"
   ]
  },
  {
   "cell_type": "code",
   "execution_count": 41,
   "metadata": {},
   "outputs": [
    {
     "data": {
      "text/plain": [
       "[('о ', 39767),\n",
       " ('е ', 31689),\n",
       " ('а ', 31528),\n",
       " ('и ', 30607),\n",
       " (' н', 27483),\n",
       " (' с', 27220),\n",
       " ('  ', 26260),\n",
       " (' в', 24998),\n",
       " ('то', 24155),\n",
       " (' п', 23725)]"
      ]
     },
     "execution_count": 41,
     "metadata": {},
     "output_type": "execute_result"
    }
   ],
   "source": [
    "cnt_anna_karenina.most_common(10)"
   ]
  },
  {
   "cell_type": "code",
   "execution_count": 42,
   "metadata": {},
   "outputs": [
    {
     "data": {
      "text/plain": [
       "[('e ', 111103),\n",
       " (' t', 87536),\n",
       " ('d ', 75864),\n",
       " ('he', 75251),\n",
       " ('th', 73770),\n",
       " (' a', 69551),\n",
       " ('s ', 62854),\n",
       " ('t ', 58260),\n",
       " (' h', 49800),\n",
       " ('in', 48429)]"
      ]
     },
     "execution_count": 42,
     "metadata": {},
     "output_type": "execute_result"
    }
   ],
   "source": [
    "cnt_war_peace_eng.most_common(10)"
   ]
  },
  {
   "cell_type": "code",
   "execution_count": 43,
   "metadata": {},
   "outputs": [
    {
     "data": {
      "text/plain": [
       "[('  ', 13916),\n",
       " ('о ', 13316),\n",
       " ('и ', 11397),\n",
       " ('а ', 10596),\n",
       " ('е ', 10039),\n",
       " (' с', 9863),\n",
       " (' п', 9767),\n",
       " (' в', 9612),\n",
       " (' н', 9347),\n",
       " ('то', 8491)]"
      ]
     },
     "execution_count": 43,
     "metadata": {},
     "output_type": "execute_result"
    }
   ],
   "source": [
    "cnt_war_peace_ru.most_common(10)"
   ]
  },
  {
   "cell_type": "markdown",
   "metadata": {},
   "source": [
    "Проверка, что все работает корректно:"
   ]
  },
  {
   "cell_type": "code",
   "execution_count": 44,
   "metadata": {},
   "outputs": [
    {
     "data": {
      "text/plain": [
       "'   анна каренина один из самых знаменитых романов льва толстого начинается ставшей афоризмом фразой '"
      ]
     },
     "execution_count": 44,
     "metadata": {},
     "output_type": "execute_result"
    }
   ],
   "source": [
    "\"\".join(get_ngrams(anna_karenina[:100], shift=True))"
   ]
  },
  {
   "cell_type": "code",
   "execution_count": 45,
   "metadata": {},
   "outputs": [
    {
     "data": {
      "text/plain": [
       "'чизмревшнитыогомейльрися смаетстомх ог фрао а ых ано  фоол тна оомизомванн срон мезмв й зотаамдика з'"
      ]
     },
     "execution_count": 45,
     "metadata": {},
     "output_type": "execute_result"
    }
   ],
   "source": [
    "encode_text(get_ngrams(anna_karenina[:100], shift=True))"
   ]
  },
  {
   "cell_type": "code",
   "execution_count": 46,
   "metadata": {},
   "outputs": [
    {
     "data": {
      "text/plain": [
       "'ь я и  и впост в п н  о нест ки  нгоно не оннаа о и  с по   ь ко ки ние нест н но  д н са  итонае ь а   я а  ве о  п оо  в   н в ки  д с ки о ние нао и гои поо онтои  ист  а гои он с ва  н но  оа  ои ноо а алнинео кае ове гоо ь о и ь о о  сто   птоь ст итоо  о  е и о ст во  о  е ст в п ннани не и о а  о т   оо и ния а лае о готонелае  стонинео кае ове гост ва лая  ннена ви  ии е  с иа нест ня  нго пе   а    оо  дна н впокаа е а о  д н ва  ве е  ито н в п о  о  нгоо и ь о ное  нго ва  се я о   а а  оон ви го п п оо о  ии на   на аль я ь я ь я ь я ь я  си нено ве о  п оо о на н са  ие ононо  н сон в ко я сто    отои  сь я  т   оо  со е не пно не ь я  си нено ве о  п оо о наь я  ото ки  иа  инотоал  ност вь я ь я  н са  ие ононо  н сон в ко я сто    отои  сь я ь я и  и впост в п н  о нест ки то  а он с нене ст вкои я ноь о тоалнестон ве ь ноо а на стоя токаа  сноо енкои ал н ио  отои  си о о  т  по т  кая  не о и е лагое  ий    со каон вя а  впокаа  сното  я о а  о   ня о  отои  ся и но н пнанеа а   тонао и ов по ни тна ие  со е ь  ни  с в   с с в отоа ало е на на   тона оо а ов  гое   ь ста  о   нтоалтона ко  пе  т на  к ий и  иово а онст в ки он инаа  н п нгое онлано оо  са  тнаь коал н в п иа го с  гое   ь стнесто  к итоо она конае  се  со  ито ки  снаа ентоали  вто тнее  нь  оо я а  пе  н о се и о а але ь е  си го ипоно  коне стокаа а лаа го на    с с н  о оно  сно пе а  т н со е ст ве ь е  си го ипоно  конел по оо сте нае  со а  в и н сноон инаа  н п пе неи а  о д са котоал   оо  днестон ва я ст в стото т оо  пи    во    пе о гоо  д по то   н с во ь и несто поь я ь я е ь а ал ко той  нгоно не она  и оо нае   и то   ие токо се  со а ла пнано н на  ви  вст кто т   н се ь нее  с н тная сткаа е  сненонее  с в спо ни  н в п опо си о а  о в сне   впо не  ии е  с пе  н и со е не пно не  иа е  ся и и о о като то ко с ое  инеа ь и  ои  на е кост иа ла но я то    оваллае о е  ни    ви  и пе е я я ноа  та ал иа е  сто    о на вгои  пнаст ие  к сно ва е  снест с исто то  я е но  тонаа ало тоя сткаа е  сненонее нео и о о нея е ене  пе и о я о  с в   с с в отоа але  со я е  с ко  нгои я  с внии о еннаал ннао  п в  не на  онаи о ен но о а  нкои  пнаи я сти ь  итоа о  в и п оа о нее о нао и  д  о  внии о ен ка  вна  но спо итост ке  пто т вст и  я тоненаи о алто в н тна  и я сткаа  се а ал спо ки о е   о  тнанаа и гоной  п пе ко оо  п о впо в   н внаа но   но е конестлае  пе   о конато  я е    н те но н в и ии а  п пе тоон па ь а  нгона н н к спонаа о и гои неа  ои  итои   ни пи о ст вноо я поа нино п п но  ди  о но то  каа и  ко  н впоо   и  и впоа ал п н  о несттона ои  на го н н вкои  оо сте нае  со на не  по ен и н та  валнеа наи а нинеи  пст иа о  палто отонео и о  с ня а а е  отонии  иа  инотоал  но спо п ои ни т  ко и   во и  исте о а      ои го н са  итонаи гое ла пе о го ои и  о н се ла ои и нинеа  но а  п  о ь я  с ое  иа е е  са  ио е а  и впоь я  снаа ентоали  в   с с в отост ве  со я е  с ко о и каа е  снае и о а але ь коа неа а неа о нее о наа  стоалтона оо  итои  пал на      оо  д п нй о   нои  и пе   гое   ь ста  о   нтоалтона ои л по п о   итоалтона оо  итона н в и ко ь я ь я ь я ь я  пе о нании то т о пь на ве о  п оо о наи о  с н в н тна иа нест ко  ои  н в н  и по в ии гое ь  ки  т  ь и ь я  ко  ий  нгое он н  каа ене    са наго се  с но он и нпо ки  и     с нь нее нео  пе а  о ннео о  о пе он п нпо вя о ст ве ь  в   и  она тоал сстто тя сти ала але ь но   новона тоал ссти о а ал ки но пя а  сное я  ко о и ов п  нотоали  в   с с в ото с вя ста  к о птоаллае  ни  н вов птоал со я а го н н в итоа лае  с ви  нгоа о  н пто   н стоо  пе о ка нгопо к ни  с вь я  ве о  п оо о на о п в  неи конено  каа тоная а  сноо и е лаа ала  т  о ал нь и неста ална сстовст ви   ни пст вонстон нон в ои  ки  вст п   се лае он ве  с н с ко  нгое оня то   втоко се е  в н ве не  о  д с н ня а а е е ь  ко той    с нкои  пконе ки ь  пе лакая о нато т о пь на с в вст п   се  со  ки но пя а а е и   ни по на ии  с оа о нее и  вто   н снаа  п оал ннест'"
      ]
     },
     "execution_count": 46,
     "metadata": {},
     "output_type": "execute_result"
    }
   ],
   "source": [
    "decode_by_frequency(\n",
    "    encode_text(get_ngrams(anna_karenina[:2000], shift=True)),\n",
    "    cnt_anna_karenina,\n",
    ")"
   ]
  },
  {
   "cell_type": "markdown",
   "metadata": {},
   "source": [
    "Видим, что считать частотность биграмм - не очень хорошая идея. Для того, чтобы эта частотность начала играть роль, требуются очень большие тексты, в чем мы убедимся ниже\n",
    "- текст длины 100 - точность 8%\n",
    "- текст длины 1000 - точность 11%\n",
    "- текст длины 10000 - точность 12%\n",
    "- текст длины 100000 - точность 18%\n",
    "- текст длины 1000000 - точность 30%"
   ]
  },
  {
   "cell_type": "code",
   "execution_count": 47,
   "metadata": {},
   "outputs": [
    {
     "data": {
      "text/plain": [
       "0.08"
      ]
     },
     "execution_count": 47,
     "metadata": {},
     "output_type": "execute_result"
    }
   ],
   "source": [
    "compare(\n",
    "    decode_by_frequency(\n",
    "        get_ngrams(encode_text(get_ngrams(anna_karenina[:100], shift=True)), shift=True),\n",
    "        cnt_anna_karenina,\n",
    "    ),\n",
    "    anna_karenina[:100]\n",
    ")"
   ]
  },
  {
   "cell_type": "code",
   "execution_count": 48,
   "metadata": {},
   "outputs": [
    {
     "data": {
      "text/plain": [
       "0.112"
      ]
     },
     "execution_count": 48,
     "metadata": {},
     "output_type": "execute_result"
    }
   ],
   "source": [
    "compare(\n",
    "    decode_by_frequency(\n",
    "        get_ngrams(encode_text(get_ngrams(anna_karenina[:1000], shift=True)), shift=True),\n",
    "        cnt_anna_karenina,\n",
    "    ),\n",
    "    anna_karenina[:1000]\n",
    ")"
   ]
  },
  {
   "cell_type": "code",
   "execution_count": 49,
   "metadata": {},
   "outputs": [
    {
     "data": {
      "text/plain": [
       "0.1221"
      ]
     },
     "execution_count": 49,
     "metadata": {},
     "output_type": "execute_result"
    }
   ],
   "source": [
    "compare(\n",
    "    decode_by_frequency(\n",
    "        get_ngrams(encode_text(get_ngrams(anna_karenina[:10000], shift=True)), shift=True),\n",
    "        cnt_anna_karenina,\n",
    "    ),\n",
    "    anna_karenina[:10000]\n",
    ")"
   ]
  },
  {
   "cell_type": "code",
   "execution_count": 50,
   "metadata": {},
   "outputs": [
    {
     "data": {
      "text/plain": [
       "0.18625"
      ]
     },
     "execution_count": 50,
     "metadata": {},
     "output_type": "execute_result"
    }
   ],
   "source": [
    "compare(\n",
    "    decode_by_frequency(\n",
    "        get_ngrams(encode_text(get_ngrams(anna_karenina[:100000], shift=True)), shift=True),\n",
    "        cnt_anna_karenina,\n",
    "    ),\n",
    "    anna_karenina[:100000]\n",
    ")"
   ]
  },
  {
   "cell_type": "code",
   "execution_count": 51,
   "metadata": {},
   "outputs": [
    {
     "data": {
      "text/plain": [
       "0.307558"
      ]
     },
     "execution_count": 51,
     "metadata": {},
     "output_type": "execute_result"
    }
   ],
   "source": [
    "compare(\n",
    "    decode_by_frequency(\n",
    "        get_ngrams(encode_text(get_ngrams(anna_karenina[:1000000], shift=True)), shift=True),\n",
    "        cnt_anna_karenina,\n",
    "    ),\n",
    "    anna_karenina[:1000000]\n",
    ")"
   ]
  },
  {
   "cell_type": "markdown",
   "metadata": {},
   "source": [
    "Посмотрим на аналогичные результаты для войны и мира:"
   ]
  },
  {
   "cell_type": "code",
   "execution_count": 52,
   "metadata": {},
   "outputs": [
    {
     "name": "stdout",
     "output_type": "stream",
     "text": [
      "War peace ENG\n",
      "----------------------------------------------------------------------------------------------------\n",
      "Accuracy on text with len 100 is 0.09\n",
      "----------------------------------------------------------------------------------------------------\n",
      "Accuracy on text with len 1000 is 0.128\n",
      "----------------------------------------------------------------------------------------------------\n",
      "Accuracy on text with len 10000 is 0.1048\n",
      "----------------------------------------------------------------------------------------------------\n",
      "Accuracy on text with len 100000 is 0.19887\n",
      "----------------------------------------------------------------------------------------------------\n",
      "Accuracy on text with len 1000000 is 0.366894\n"
     ]
    }
   ],
   "source": [
    "print('War peace ENG')\n",
    "\n",
    "for i in range(2, 7):\n",
    "    print('--'*50)\n",
    "    \n",
    "    acc = \\\n",
    "    compare(\n",
    "        decode_by_frequency(\n",
    "            get_ngrams(encode_text(get_ngrams(war_peace_eng[:10**i], shift=True)), shift=True),\n",
    "            cnt_war_peace_eng,\n",
    "        ),\n",
    "        war_peace_eng[:10**i]\n",
    "    )\n",
    "    \n",
    "    print(f'Accuracy on text with len {10 ** i} is {acc}')"
   ]
  },
  {
   "cell_type": "code",
   "execution_count": 53,
   "metadata": {},
   "outputs": [
    {
     "name": "stdout",
     "output_type": "stream",
     "text": [
      "War peace RU\n",
      "----------------------------------------------------------------------------------------------------\n",
      "Accuracy on text with len 100 is 0.12\n",
      "----------------------------------------------------------------------------------------------------\n",
      "Accuracy on text with len 1000 is 0.214\n",
      "----------------------------------------------------------------------------------------------------\n",
      "Accuracy on text with len 10000 is 0.1428\n",
      "----------------------------------------------------------------------------------------------------\n",
      "Accuracy on text with len 100000 is 0.21958\n"
     ]
    }
   ],
   "source": [
    "print('War peace RU')\n",
    "\n",
    "for i in range(2, 6):\n",
    "    print('--'*50)\n",
    "    \n",
    "    acc = \\\n",
    "    compare(\n",
    "        decode_by_frequency(\n",
    "            get_ngrams(encode_text(get_ngrams(war_peace_ru[:10**i], shift=True)), shift=True),\n",
    "            cnt_war_peace_ru,\n",
    "        ),\n",
    "        war_peace_ru[:10**i]\n",
    "    )\n",
    "    \n",
    "    print(f'Accuracy on text with len {10 ** i} is {acc}')"
   ]
  },
  {
   "cell_type": "markdown",
   "metadata": {},
   "source": [
    "В последнем случае даже на полном тексте точность всего порядка 20%"
   ]
  },
  {
   "cell_type": "markdown",
   "metadata": {},
   "source": [
    "## MCMC-семплирование"
   ]
  },
  {
   "cell_type": "code",
   "execution_count": 505,
   "metadata": {},
   "outputs": [],
   "source": [
    "def swap(seq):\n",
    "    \"\"\"\n",
    "    randomly swaps two elements in the sequence\n",
    "    \"\"\"\n",
    "    import random\n",
    "    idx1, idx2 = random.sample(range(len(seq)), 2)\n",
    "    new_seq = seq.copy()\n",
    "    new_seq[idx1], new_seq[idx2] = new_seq[idx2], new_seq[idx1]\n",
    "    return new_seq"
   ]
  },
  {
   "cell_type": "markdown",
   "metadata": {},
   "source": [
    "Напишем класс MCMCSamplingDecoder.\n",
    "\n",
    "Запишем правдоподобие как\n",
    "$$\n",
    "\\log \\prod_i P(c_i \\rightarrow c_{i + 1}) = \\sum_i \\log Fr(c_i c_{i + 1}),\n",
    "$$\n",
    "где через Fr обозначим частоту встречаемости биграммы $c_i c_{i+1}$.\n",
    "\n",
    "Реализуем алгоритм Метрополиса-Гастингса: на каждом шаге будем случайным образом менять два символа и либо переходить в новое состояние, если скор увеличился, либо в соответсвии с алгоритмом с определенной вероятностью оставаться и с определенной вероятностью переходить."
   ]
  },
  {
   "cell_type": "markdown",
   "metadata": {},
   "source": [
    "Этот алгоритм оказался очень капризным - тексты долгое время получались не осмысленными. Пока наконец эмпирическим путем не была подобрана константа из метода compute_score. Потом уже стало понятно, что логично брать ее порядка -7 степени, поскольку именно такого порядка вероятности самых редких биграмм."
   ]
  },
  {
   "cell_type": "code",
   "execution_count": 578,
   "metadata": {},
   "outputs": [],
   "source": [
    "import numpy as np\n",
    "\n",
    "\n",
    "class MCMCSamplingDecoder:\n",
    "    def __init__(self, n=2):\n",
    "        self.n = n\n",
    "        \n",
    "    def _compute_freq(self, text, shift=True):\n",
    "        ngrams = get_ngrams(text, n=self.n, shift=shift)\n",
    "        cnt = Counter(ngrams)\n",
    "        total = sum(cnt.values())\n",
    "        freq_dict = {ngram: val / total for ngram, val in cnt.most_common()}\n",
    "        return freq_dict\n",
    "    \n",
    "\n",
    "    def compute_score(self, text):\n",
    "        ngrams = get_ngrams(text, n=self.n, shift=False)\n",
    "        freq_dict = Counter(ngrams)\n",
    "        # 1e-7 was found empirically during the experiments\n",
    "        score = sum([freq_dict[ngram] * np.log(self.original_freq_dict.get(ngram, 1e-7))\n",
    "                     for ngram in ngrams])\n",
    "        return score\n",
    "    \n",
    "    def fit(self,\n",
    "            text_to_train,\n",
    "            encoded_text,\n",
    "            max_iter=1000,\n",
    "            validation_text=None,\n",
    "            random_state=42,\n",
    "           ):\n",
    "        \"\"\"\n",
    "        text_to_train: big text to retrieve frequences from\n",
    "        encoded_text: cyphered text\n",
    "        \"\"\"\n",
    "        import random\n",
    "        random.seed(random_state)\n",
    "\n",
    "        # dictionary with bigramm frequencies\n",
    "        self.original_freq_dict = self._compute_freq(text_to_train, shift=False)\n",
    "        \n",
    "        letters = \"\".join(list(self.original_freq_dict.keys()))\n",
    "\n",
    "        seq_from = list(set(encoded_text))\n",
    "        seq_to = list(set(letters))\n",
    "        \n",
    "        score = -np.inf\n",
    "        mapping = dict(zip(seq_from.copy(), seq_to.copy()))\n",
    "        \n",
    "        for i in range(max_iter):\n",
    "            new_seq = swap(seq_to.copy())\n",
    "            mapping = dict(zip(seq_from.copy(), new_seq.copy()))\n",
    "            decoded_text = \"\".join([mapping[ch] for ch in encoded_text])\n",
    "            new_score = self.compute_score(decoded_text)\n",
    "            \n",
    "            if new_score > score or np.random.binomial(1, np.exp(new_score - score)):\n",
    "                score = new_score\n",
    "                seq_to = new_seq.copy()\n",
    "                \n",
    "            if (i + 1) % 10000 == 0:\n",
    "                print('-' * 100)\n",
    "                print('iteration', i + 1)\n",
    "                print('score', score)\n",
    "                if validation_text is not None:\n",
    "                    print(\"Validation text: \")\n",
    "                    print(\"\".join([mapping[ch] for ch in encoded_text]))\n",
    "        \n",
    "        self.mapping = dict(zip(seq_from, seq_to))\n",
    "        \n",
    "    \n",
    "    def predict(self, text):\n",
    "        assert self.mapping is not None, \"You should apply fit before predict\"\n",
    "        assert self.original_freq_dict is not None, \"You should apply fit before predict\"\n",
    "        return \"\".join([self.mapping.get(ch, '?') for ch in text])"
   ]
  },
  {
   "cell_type": "code",
   "execution_count": 566,
   "metadata": {},
   "outputs": [
    {
     "data": {
      "text/plain": [
       "'гггыррыгоыажрчрыгцпчргчягдыьхигярыьжрчйхигацьырц гзм ыгйцздйцсцгрыкчрыжйдугдйы щжнгыбцачяьцьгбаыяцнг джгдкыдйзч хжгджьмчгтцицшчгпавсгрыгпавсыгоышпыугрждкыдйзч ыугджьмугрждкыдйзч ыгтцд цжьвглйцгорчсыгцг жкрхигфжррцдйуигцгзею чгцг жажгцгджьмжгцгкжзц жкждоцьгпцдйцчрдй жггггггггггггзж гйцздйцнацьыргщчацоцсцгпхиырчуггкыдймгтжа ыугггзж гйцздйцнггыррыгоыажрчрыгггггацьыргщчацоцсцгпхиырчугггггыррыгоыажрчрыгтцаыячзыгдц ажьжррчоц г джпрж рцдймегдцпжашырчугржцюхкынрыугд цюцпыгаыдоц ыррцдймгтц ждй ц ырчугвпч чйжзмрцгдцкжйызчдмг глйцьгацьыржгдгфжзмрцдймегивпцшждй жррцсцг ясзупыгы йцаыгрыгшчярмгцрг хдйвтызгяпждмгоыогивпцшрчогчгьхдзчйжзмгчгрыярыкжрчжгчдовддй ыг чпжзгржг гйцьгкйцюхгржцдтцачьцгаыяажщчймг цтацдгыг гйцьгкйцюхгяыдйы чймгзеючймгшчярмг гюждкчдзжррхигрчоцспыгржгчдйцэчьхиг джигжжгтацу зжрчуигггг гжгсцпхгцпчргьыдйчйхнгтчдыйжзмгтц чпчьцьвгсцркыац гдоыяызгпцдйцж доцьвглйцг жэмгрждзхиыррыуглйцг жэмгтжа ыугойцгвгрыдгчягтчдыйжзжнгьцшжйгтцаы руймдугдглйчьгыг гж ацтжггойцгтажпдйы чйгицймгкйцрчювпмгтцп'"
      ]
     },
     "execution_count": 566,
     "metadata": {},
     "output_type": "execute_result"
    }
   ],
   "source": [
    "encode_text(anna_karenina[:1000])"
   ]
  },
  {
   "cell_type": "markdown",
   "metadata": {},
   "source": [
    "Объяснение почему логично брать именно 1e-7 - вероятности самых редких биграмм имеют как раз такой порядок."
   ]
  },
  {
   "cell_type": "code",
   "execution_count": 567,
   "metadata": {},
   "outputs": [
    {
     "data": {
      "text/plain": [
       "{'  ': 0.02120016453131427,\n",
       " 'о ': 0.020286101674258466,\n",
       " 'и ': 0.017362623969774987,\n",
       " 'а ': 0.016142350055605492,\n",
       " 'е ': 0.015293795036638686,\n",
       " ' с': 0.015025669931902318,\n",
       " ' п': 0.014879419874773389,\n",
       " ' в': 0.014643286970033973,\n",
       " ' н': 0.014239575874834326,\n",
       " 'то': 0.012935512865434713,\n",
       " ' о': 0.011704574884599564,\n",
       " 'я ': 0.01081031672277997,\n",
       " ' к': 0.010732621379930227,\n",
       " ' и': 0.010411175941865603,\n",
       " 'ст': 0.010162855532365442,\n",
       " 'ь ': 0.010059261741899118,\n",
       " 'на': 0.009972425770478816,\n",
       " 'го': 0.008768909675355341,\n",
       " 'ал': 0.008642464313462623,\n",
       " 'не': 0.008444417361100532,\n",
       " 'по': 0.008308831370637254,\n",
       " 'но': 0.008130589113511373,\n",
       " 'ра': 0.008122971923035908,\n",
       " 'ко': 0.008014807818284304,\n",
       " 'ов': 0.007818284304017306,\n",
       " 'л ': 0.007662893618317819,\n",
       " 'й ': 0.00744504197071952,\n",
       " 'ка': 0.007329260675492452,\n",
       " ' б': 0.007160159046937128,\n",
       " 'м ': 0.007112932465989244,\n",
       " 'во': 0.0068158620374461085,\n",
       " ' д': 0.0066939869898386675,\n",
       " 'ро': 0.0066817994850779236,\n",
       " 'ер': 0.00660867445651346,\n",
       " ' т': 0.006601057266037994,\n",
       " 'ол': 0.006575158818421413,\n",
       " 'ен': 0.0065416431803293675,\n",
       " 'он': 0.006526408799378438,\n",
       " 'от': 0.006521838485093159,\n",
       " 'ни': 0.0064136743803415545,\n",
       " 'ос': 0.006331408723206532,\n",
       " 'у ': 0.006302463399399765,\n",
       " 'ла': 0.006258283694642069,\n",
       " 'ли': 0.006168400847031581,\n",
       " 'ло': 0.006092228942276931,\n",
       " 'ор': 0.00601605703752228,\n",
       " 'в ': 0.005958166389908746,\n",
       " 'ел': 0.005795158513733794,\n",
       " 'ре': 0.005795158513733794,\n",
       " 'пр': 0.00578297100897305,\n",
       " 'ва': 0.005644338142319587,\n",
       " ' м': 0.005574259989945309,\n",
       " 'за': 0.005295470818543289,\n",
       " 'та': 0.005239103609024847,\n",
       " 'ри': 0.0050654316661842445,\n",
       " ' г': 0.00501211133285599,\n",
       " 'ан': 0.004989259761429594,\n",
       " ' ч': 0.004986212885239408,\n",
       " 'ил': 0.00477902530430676,\n",
       " 'к ': 0.004777501866211667,\n",
       " 'ть': 0.004774454990021481,\n",
       " 'ом': 0.004716564342407946,\n",
       " 'ат': 0.004558126780518273,\n",
       " 'ск': 0.004544415837662436,\n",
       " 'ог': 0.0045200408281409485,\n",
       " 'т ': 0.004448439237671577,\n",
       " 'те': 0.004440822047196112,\n",
       " 'н ': 0.004352462637680718,\n",
       " 'од': 0.004335704818634695,\n",
       " ' р': 0.004229064151978185,\n",
       " 'ы ': 0.004192501637695952,\n",
       " 'ак': 0.004181837571030301,\n",
       " 'де': 0.004172696942459743,\n",
       " 'ве': 0.004087384409134535,\n",
       " ' з': 0.0039761734281927455,\n",
       " 'да': 0.003925899971054676,\n",
       " 'аз': 0.00389238433296263,\n",
       " ' е': 0.0037202358282171204,\n",
       " ' у': 0.0036821498758397952,\n",
       " 'ем': 0.003642540485367377,\n",
       " 'ас': 0.003641017047272284,\n",
       " 'же': 0.003616642037750796,\n",
       " 'ле': 0.0035617982663274476,\n",
       " 'ой': 0.0034978138663335416,\n",
       " 'ет': 0.0034749622949071463,\n",
       " 'бы': 0.0034688685425267743,\n",
       " 'мо': 0.003423165399673984,\n",
       " 'до': 0.0034094544568181472,\n",
       " 'ми': 0.00336527475206045,\n",
       " 'ль': 0.003362227875870264,\n",
       " 'ес': 0.003351563809204613,\n",
       " 'ав': 0.003337852866348776,\n",
       " 'чт': 0.003325665361588032,\n",
       " 'ти': 0.0032677747139744978,\n",
       " 'ю ': 0.003260157523499033,\n",
       " 'ег': 0.0032586340854039394,\n",
       " 'ня': 0.0032555872092137534,\n",
       " 'ит': 0.0032159778187413357,\n",
       " 'сь': 0.0032129309425511492,\n",
       " 'ви': 0.0031961731235051263,\n",
       " 'ин': 0.003107813713989732,\n",
       " 'х ': 0.003043829313995826,\n",
       " 'ру': 0.0029767980378117335,\n",
       " 'об': 0.0029737511616215475,\n",
       " 'ны': 0.0029676574092411755,\n",
       " 'ся': 0.0029585167806706176,\n",
       " 'с ': 0.0029569933425755246,\n",
       " 'вс': 0.002902149571152176,\n",
       " 'че': 0.002876251123535595,\n",
       " ' а': 0.0028655870568699443,\n",
       " 'нн': 0.002786368275925108,\n",
       " 'им': 0.0027498057616428756,\n",
       " 'тр': 0.0027376182568821317,\n",
       " 'ис': 0.0027178135616459224,\n",
       " 'ая': 0.0027117198092655504,\n",
       " 'ма': 0.0026842979235538766,\n",
       " 'ди': 0.0026553525997471093,\n",
       " 'ме': 0.0026355479045109,\n",
       " 'ар': 0.002617266647369784,\n",
       " 'ам': 0.002614219771179598,\n",
       " 'се': 0.002612696333084505,\n",
       " 'вы': 0.002592891637848296,\n",
       " 'ну': 0.00257461038070718,\n",
       " ' л': 0.002565469752136622,\n",
       " 'ив': 0.0025273837997592968,\n",
       " 'ки': 0.0024405478283389954,\n",
       " ' э': 0.0024024618759616702,\n",
       " 'со': 0.0023887509331058333,\n",
       " 'пе': 0.002370469675964717,\n",
       " 'ед': 0.002355235295013787,\n",
       " 'ие': 0.0022790633902591366,\n",
       " 'сл': 0.002242500875976905,\n",
       " 'ей': 0.0022348836855014395,\n",
       " 'кн': 0.0022105086759799516,\n",
       " 'хо': 0.0021937508569339283,\n",
       " 'бо': 0.0021556649045566035,\n",
       " 'ыл': 0.0021267195807498362,\n",
       " 'му': 0.0021251961426547433,\n",
       " 'ше': 0.0021114851997989063,\n",
       " 'эт': 0.0021099617617038133,\n",
       " 'ча': 0.002071875809326488,\n",
       " 'ад': 0.002065782056946116,\n",
       " 'тв': 0.002058164866470651,\n",
       " 'ое': 0.002052071114090279,\n",
       " 'др': 0.001983516399811094,\n",
       " 'бе': 0.0019271491902926525,\n",
       " 'ши': 0.0018692585426791182,\n",
       " 'уд': 0.0018677351045840252,\n",
       " 'ту': 0.0017062506665041666,\n",
       " 'ля': 0.0016742584665072136,\n",
       " 'ид': 0.0016742584665072136,\n",
       " 'кр': 0.0016727350284121204,\n",
       " 'св': 0.0016681647141268414,\n",
       " 'сп': 0.0016376959522249814,\n",
       " 'их': 0.0016316021998446094,\n",
       " 'ок': 0.0016300787617495164,\n",
       " ' ж': 0.0016255084474642372,\n",
       " 'ик': 0.0016194146950838653,\n",
       " 'из': 0.0016148443807985863,\n",
       " 'си': 0.0016087506284182143,\n",
       " 'дн': 0.0015965631236574702,\n",
       " 'гл': 0.00158132874270654,\n",
       " 'ду': 0.0015660943617556101,\n",
       " 'ож': 0.00155085998080468,\n",
       " 'ия': 0.0015356255998537499,\n",
       " ' я': 0.001531055285568471,\n",
       " 'ты': 0.0015036333998567969,\n",
       " 'яз': 0.0014899224570009597,\n",
       " 'ку': 0.0014807818284304018,\n",
       " 'зн': 0.0014777349522402158,\n",
       " 'ый': 0.0014609771331941927,\n",
       " 'ул': 0.0014518365046236345,\n",
       " 'ым': 0.0014152739903414025,\n",
       " 'ее': 0.0014076567998659373,\n",
       " 'ры': 0.0013924224189150074,\n",
       " 'ут': 0.0013893755427248214,\n",
       " 'иц': 0.0013832817903444493,\n",
       " 'ий': 0.0013817583522493563,\n",
       " 'са': 0.0013726177236787983,\n",
       " 'ят': 0.0013695708474886123,\n",
       " 'ус': 0.0013543364665376822,\n",
       " 'ша': 0.0013345317713014731,\n",
       " 'лс': 0.00131777395225545,\n",
       " 'гр': 0.001316250514160357,\n",
       " 'вн': 0.001311680199875078,\n",
       " 'жа': 0.001307109885589799,\n",
       " 'ев': 0.001290352066543776,\n",
       " 'оч': 0.00128730519035359,\n",
       " 'ош': 0.001258359866546823,\n",
       " 'р ': 0.0012416020475007998,\n",
       " 'уж': 0.0012248442284547767,\n",
       " 'вш': 0.0012111332855989398,\n",
       " 'уг': 0.0011989457808381956,\n",
       " 'лы': 0.0011852348379823585,\n",
       " 'бр': 0.0011684770189363356,\n",
       " 'аж': 0.0011639067046510564,\n",
       " 'ще': 0.0011547660760804985,\n",
       " 'лу': 0.0011471488856050335,\n",
       " 'ич': 0.0011395316951295683,\n",
       " 'чи': 0.0011364848189393823,\n",
       " 'па': 0.0011273441903688244,\n",
       " 'бу': 0.0011212504379884524,\n",
       " 'ба': 0.0011166801237031732,\n",
       " ' х': 0.0010983988665620574,\n",
       " 'з ': 0.0010968754284669641,\n",
       " 'нд': 0.0010938285522767782,\n",
       " 'мн': 0.0010923051141816852,\n",
       " 'жи': 0.00106945354275529,\n",
       " 'оп': 0.00106945354275529,\n",
       " 'ьк': 0.0010648832284700111,\n",
       " 'д ': 0.0010648832284700111,\n",
       " 'зь': 0.0010603129141847321,\n",
       " 'ез': 0.0010572660379945462,\n",
       " 'це': 0.001048125409423988,\n",
       " 'ыв': 0.00103898478085343,\n",
       " 'ря': 0.001031367590377965,\n",
       " 'еб': 0.001019180085617221,\n",
       " 'га': 0.0010069925808564768,\n",
       " 'ех': 0.0010069925808564768,\n",
       " 'жн': 0.0009978519522859189,\n",
       " 'ьн': 0.0009810941332398957,\n",
       " 'нь': 0.0009719535046693378,\n",
       " 'ую': 0.0009719535046693378,\n",
       " 'ук': 0.0009658597522889657,\n",
       " 'ек': 0.0009628128760987797,\n",
       " ' ш': 0.0009597659999085938,\n",
       " 'ум': 0.0009582425618135007,\n",
       " 'см': 0.0009491019332429427,\n",
       " 'аш': 0.0009491019332429427,\n",
       " 'ах': 0.0009460550570527566,\n",
       " 'ха': 0.0009445316189576636,\n",
       " 'аг': 0.0009277737999116406,\n",
       " 'еп': 0.0009171097332459896,\n",
       " 'еж': 0.0009094925427705245,\n",
       " 'вл': 0.0009094925427705245,\n",
       " 'ье': 0.0008988284761048735,\n",
       " 'дв': 0.0008942581618195945,\n",
       " 'еч': 0.0008744534665833854,\n",
       " 'ые': 0.0008698831522981063,\n",
       " 'тн': 0.0008561722094422693,\n",
       " 'ял': 0.0008546487713471763,\n",
       " 'оз': 0.0008531253332520833,\n",
       " 'ьс': 0.0008531253332520833,\n",
       " 'яс': 0.0008455081427766182,\n",
       " 'гд': 0.0008424612665864323,\n",
       " 'уз': 0.0008394143903962463,\n",
       " 'ае': 0.0008363675142060602,\n",
       " 'ых': 0.0008363675142060602,\n",
       " 'г ': 0.0008226565713502232,\n",
       " 'ув': 0.0008135159427796651,\n",
       " 'лю': 0.0008028518761140141,\n",
       " 'ги': 0.0007937112475434561,\n",
       " 'тс': 0.000787617495163084,\n",
       " 'рь': 0.000780000304687619,\n",
       " 'ву': 0.000773906552307247,\n",
       " 'лк': 0.000764765923736689,\n",
       " 'гу': 0.000763242485641596,\n",
       " 'ои': 0.000761719047546503,\n",
       " ' ф': 0.0007586721713563169,\n",
       " 'аю': 0.0007571487332612239,\n",
       " 'ыс': 0.0007556252951661309,\n",
       " 'ай': 0.0007419143523102939,\n",
       " 'бл': 0.0007358205999299218,\n",
       " 'уш': 0.0007358205999299218,\n",
       " 'зв': 0.0007327737237397358,\n",
       " 'пи': 0.0007297268475495498,\n",
       " 'сс': 0.0007282034094544569,\n",
       " 'би': 0.0007175393427888058,\n",
       " 'ою': 0.0007160159046937128,\n",
       " 'ач': 0.0007129690285035267,\n",
       " 'ап': 0.0007114455904084337,\n",
       " 'еш': 0.0007007815237427827,\n",
       " 'су': 0.0007007815237427827,\n",
       " 'яд': 0.0006946877713624107,\n",
       " 'пл': 0.0006931643332673177,\n",
       " 'сн': 0.0006870705808869457,\n",
       " 'уч': 0.0006733596380311086,\n",
       " 'зо': 0.0006703127618409225,\n",
       " 'пу': 0.0006642190094605506,\n",
       " 'ир': 0.0006520315046998065,\n",
       " 'аб': 0.0006474611904145275,\n",
       " 'зд': 0.0006474611904145275,\n",
       " 'сё': 0.0006444143142243415,\n",
       " 'ды': 0.0006398439999390625,\n",
       " 'йс': 0.0006352736856537834,\n",
       " 'щи': 0.0006307033713685045,\n",
       " 'ещ': 0.0006291799332734115,\n",
       " 'рн': 0.0006276564951783185,\n",
       " 'рт': 0.0006246096189881324,\n",
       " 'фи': 0.0006169924285126674,\n",
       " 'ии': 0.0006124221142273883,\n",
       " 'ё ': 0.0006124221142273883,\n",
       " 'жд': 0.0006108986761322954,\n",
       " 'мы': 0.0006063283618470164,\n",
       " 'оя': 0.0006017580475617373,\n",
       " 'дл': 0.0005956642951813653,\n",
       " 'ян': 0.0005880471047059003,\n",
       " 'нт': 0.0005819533523255282,\n",
       " 'пь': 0.0005712892856598773,\n",
       " 'чу': 0.0005575783428040401,\n",
       " 'ге': 0.0005560549047089471,\n",
       " 'ур': 0.0005560549047089471,\n",
       " 'нц': 0.0005530080285187612,\n",
       " 'ца': 0.0005499611523285752,\n",
       " 'уп': 0.000533203333282552,\n",
       " 'ох': 0.0005271095809021801,\n",
       " 'ыт': 0.000519492390426715,\n",
       " 'зы': 0.000517968952331622,\n",
       " 'ыш': 0.0005042580094757849,\n",
       " 'вз': 0.0004996876951905059,\n",
       " 'зя': 0.0004966408190003199,\n",
       " 'яж': 0.0004966408190003199,\n",
       " 'уб': 0.000495117380905227,\n",
       " 'аф': 0.000495117380905227,\n",
       " 'ыб': 0.00048445331423957585,\n",
       " 'тя': 0.00047683612376411084,\n",
       " 'цу': 0.00047531268566901785,\n",
       " 'иб': 0.0004722658094788318,\n",
       " 'дь': 0.0004722658094788318,\n",
       " 'иг': 0.0004676954951935528,\n",
       " 'фр': 0.0004676954951935528,\n",
       " 'ке': 0.0004600783047180878,\n",
       " 'вр': 0.0004585548666229948,\n",
       " 'оф': 0.00045550799043280875,\n",
       " 'бя': 0.00045398455233771576,\n",
       " 'чн': 0.00044789079995734374,\n",
       " 'шл': 0.0004448439237671577,\n",
       " 'ющ': 0.00042046891424566963,\n",
       " 'мя': 0.00042046891424566963,\n",
       " 'зг': 0.00042046891424566963,\n",
       " 'ют': 0.0004098048475800186,\n",
       " 'цо': 0.00040066421900946054,\n",
       " 'шк': 0.00039914078091436754,\n",
       " 'ща': 0.0003960939047241815,\n",
       " 'ьш': 0.0003945704666290885,\n",
       " 'нс': 0.00039152359043890253,\n",
       " 'рд': 0.0003884767142487165,\n",
       " 'сы': 0.0003869532761536235,\n",
       " 'кт': 0.0003854298380585305,\n",
       " 'иж': 0.00037628920948797246,\n",
       " 'ья': 0.0003732423332977864,\n",
       " 'ея': 0.0003595313904419494,\n",
       " 'рж': 0.00035648451425176336,\n",
       " 'дя': 0.00035191419996648434,\n",
       " 'ух': 0.00034886732377629835,\n",
       " 'кл': 0.00034734388568120536,\n",
       " 'иш': 0.0003458204475861123,\n",
       " 'ью': 0.0003458204475861123,\n",
       " 'пя': 0.0003458204475861123,\n",
       " 'ыр': 0.0003382032571106473,\n",
       " 'ын': 0.0003366798190155543,\n",
       " 'тк': 0.0003366798190155543,\n",
       " 'юд': 0.0003366798190155543,\n",
       " 'йн': 0.00033515638092046127,\n",
       " 'ею': 0.00033515638092046127,\n",
       " 'ьм': 0.0003321095047302753,\n",
       " 'лж': 0.00032296887615971724,\n",
       " 'шн': 0.00032144543806462424,\n",
       " 'шо': 0.00031992199996953125,\n",
       " 'лд': 0.00031992199996953125,\n",
       " 'ям': 0.0003183985618744382,\n",
       " 'шь': 0.00031382824758915924,\n",
       " 'сч': 0.0003107813713989732,\n",
       " 'зи': 0.0003046876190186012,\n",
       " 'юб': 0.00030011730473332215,\n",
       " 'сд': 0.00029859386663822916,\n",
       " 'вп': 0.00029859386663822916,\n",
       " 'ун': 0.0002955469904480431,\n",
       " 'йт': 0.00029250011425785714,\n",
       " ' ц': 0.0002894532380676711,\n",
       " 'яг': 0.0002894532380676711,\n",
       " 'гн': 0.0002864063618774851,\n",
       " 'дт': 0.0002833594856872991,\n",
       " 'ию': 0.0002818360475922061,\n",
       " 'шу': 0.00027878917140202006,\n",
       " 'дъ': 0.00027726573330692707,\n",
       " 'рг': 0.00027269541902164804,\n",
       " 'вд': 0.000266601666641276,\n",
       " 'тл': 0.00026355479045109004,\n",
       " 'ио': 0.00026355479045109004,\n",
       " 'ец': 0.00026355479045109004,\n",
       " 'ц ': 0.00026355479045109004,\n",
       " 'дс': 0.000258984476165811,\n",
       " 'яв': 0.00025746103807071797,\n",
       " 'рв': 0.000252890723785439,\n",
       " 'зу': 0.000252890723785439,\n",
       " 'ср': 0.000252890723785439,\n",
       " 'зм': 0.00025136728569034595,\n",
       " 'рк': 0.000246796971405067,\n",
       " 'лн': 0.00024375009521488094,\n",
       " 'бн': 0.00024375009521488094,\n",
       " 'бк': 0.00024070321902469494,\n",
       " 'ео': 0.00023917978092960192,\n",
       " 'б ': 0.00023460946664432292,\n",
       " 'ащ': 0.0002300391523590439,\n",
       " 'рс': 0.0002300391523590439,\n",
       " 'рш': 0.00022699227616885788,\n",
       " 'рм': 0.00022546883807376486,\n",
       " 'йл': 0.00022089852378848586,\n",
       " 'мп': 0.00021785164759829985,\n",
       " 'чк': 0.00021785164759829985,\n",
       " 'ци': 0.00021785164759829985,\n",
       " 'ъе': 0.00021632820950320684,\n",
       " 'нк': 0.00021328133331302083,\n",
       " 'ип': 0.0002117578952179278,\n",
       " 'лч': 0.0002056641428375558,\n",
       " 'рю': 0.00020261726664736978,\n",
       " 'зе': 0.00020261726664736978,\n",
       " 'дк': 0.0002010938285522768,\n",
       " 'ж ': 0.00019957039045718377,\n",
       " 'вт': 0.00019652351426699776,\n",
       " 'яя': 0.00019500007617190474,\n",
       " 'пы': 0.00019042976188662574,\n",
       " 'ущ': 0.00018890632379153273,\n",
       " 'чь': 0.00018890632379153273,\n",
       " 'оо': 0.00018433600950625373,\n",
       " 'жу': 0.00018433600950625373,\n",
       " 'нч': 0.00018433600950625373,\n",
       " 'ф ': 0.0001797656952209747,\n",
       " 'ык': 0.00017824225712588168,\n",
       " 'сх': 0.00017824225712588168,\n",
       " 'йд': 0.00017519538093569567,\n",
       " 'фа': 0.00017367194284060268,\n",
       " 'зл': 0.00017214850474550966,\n",
       " 'зж': 0.00016757819046023064,\n",
       " 'цк': 0.00016757819046023064,\n",
       " 'ъю': 0.00016605475236513764,\n",
       " 'кв': 0.00016453131427004463,\n",
       " 'нг': 0.00016148443807985862,\n",
       " 'бщ': 0.00015996099998476563,\n",
       " 'вь': 0.0001584375618896726,\n",
       " 'еи': 0.0001584375618896726,\n",
       " 'зк': 0.0001584375618896726,\n",
       " 'дц': 0.0001584375618896726,\n",
       " 'ч ': 0.00015691412379457962,\n",
       " 'тч': 0.00015691412379457962,\n",
       " 'шт': 0.0001553906856994866,\n",
       " 'хи': 0.00014929693331911458,\n",
       " 'ню': 0.00014625005712892857,\n",
       " 'хн': 0.00014472661903383555,\n",
       " 'лг': 0.00014472661903383555,\n",
       " 'зр': 0.00014320318093874256,\n",
       " 'зс': 0.00014320318093874256,\n",
       " 'уе': 0.00014320318093874256,\n",
       " 'юс': 0.00014167974284364954,\n",
       " 'ящ': 0.00014167974284364954,\n",
       " 'зб': 0.00014015630474855655,\n",
       " 'нщ': 0.00014015630474855655,\n",
       " 'вм': 0.00013710942855837052,\n",
       " 'ях': 0.00013558599046327753,\n",
       " 'фе': 0.0001340625523681845,\n",
       " 'ау': 0.00013253911427309152,\n",
       " 'рх': 0.0001279687999878125,\n",
       " 'мс': 0.0001279687999878125,\n",
       " 'ыч': 0.0001264453618927195,\n",
       " 'тд': 0.0001264453618927195,\n",
       " 'ьз': 0.0001264453618927195,\n",
       " 'сю': 0.00012492192379762648,\n",
       " 'хв': 0.00012492192379762648,\n",
       " 'ощ': 0.00012187504760744047,\n",
       " 'вя': 0.00012187504760744047,\n",
       " 'вк': 0.00012187504760744047,\n",
       " 'рб': 0.00012035160951234747,\n",
       " 'ып': 0.00012035160951234747,\n",
       " 'аи': 0.00011882817141725446,\n",
       " 'ху': 0.00011730473332216146,\n",
       " 'яч': 0.00011578129522706845,\n",
       " 'тц': 0.00011578129522706845,\n",
       " 'цы': 0.00011425785713197544,\n",
       " 'лл': 0.00011273441903688243,\n",
       " 'ьт': 0.00010968754284669642,\n",
       " 'зю': 0.00010968754284669642,\n",
       " 'ш ': 0.00010816410475160342,\n",
       " 'ыг': 0.00010816410475160342,\n",
       " 'тт': 0.0001035937904663244,\n",
       " 'ищ': 0.0001020703523712314,\n",
       " 'ьб': 0.0001020703523712314,\n",
       " 'гк': 0.0001020703523712314,\n",
       " 'дш': 0.0001005469142761384,\n",
       " 'лп': 0.0001005469142761384,\n",
       " 'яе': 9.292972380067336e-05,\n",
       " 'рц': 9.292972380067336e-05,\n",
       " 'дп': 9.292972380067336e-05,\n",
       " 'чо': 9.140628570558035e-05,\n",
       " 'оц': 8.988284761048735e-05,\n",
       " 'фл': 8.988284761048735e-05,\n",
       " 'уй': 8.835940951539435e-05,\n",
       " 'ац': 8.531253332520834e-05,\n",
       " 'дм': 8.531253332520834e-05,\n",
       " 'яю': 8.378909523011532e-05,\n",
       " 'ьц': 8.378909523011532e-05,\n",
       " 'жк': 8.226565713502231e-05,\n",
       " 'йш': 7.92187809448363e-05,\n",
       " 'эл': 7.92187809448363e-05,\n",
       " 'юн': 7.92187809448363e-05,\n",
       " 'пп': 7.76953428497433e-05,\n",
       " 'рч': 7.76953428497433e-05,\n",
       " 'ыд': 7.76953428497433e-05,\n",
       " 'зз': 7.61719047546503e-05,\n",
       " 'гв': 7.464846665955729e-05,\n",
       " 'мл': 7.312502856446429e-05,\n",
       " 'як': 7.312502856446429e-05,\n",
       " 'ьи': 7.312502856446429e-05,\n",
       " 'хр': 7.160159046937128e-05,\n",
       " ' щ': 7.160159046937128e-05,\n",
       " 'юш': 7.007815237427828e-05,\n",
       " 'чш': 6.855471427918526e-05,\n",
       " 'иа': 6.855471427918526e-05,\n",
       " 'кс': 6.855471427918526e-05,\n",
       " 'бъ': 6.855471427918526e-05,\n",
       " 'фу': 6.855471427918526e-05,\n",
       " 'эс': 6.855471427918526e-05,\n",
       " 'бс': 6.703127618409225e-05,\n",
       " 'щу': 6.550783808899925e-05,\n",
       " 'мк': 6.550783808899925e-05,\n",
       " 'уя': 6.550783808899925e-05,\n",
       " 'еу': 6.398439999390625e-05,\n",
       " 'юр': 6.398439999390625e-05,\n",
       " 'рщ': 6.246096189881324e-05,\n",
       " ' ю': 6.246096189881324e-05,\n",
       " 'бм': 6.0937523803720236e-05,\n",
       " 'рл': 5.941408570862723e-05,\n",
       " 'хл': 5.941408570862723e-05,\n",
       " 'пк': 5.941408570862723e-05,\n",
       " 'мг': 5.941408570862723e-05,\n",
       " 'тп': 5.941408570862723e-05,\n",
       " 'мю': 5.941408570862723e-05,\n",
       " 'тю': 5.789064761353423e-05,\n",
       " 'юч': 5.6367209518441216e-05,\n",
       " 'фо': 5.6367209518441216e-05,\n",
       " 'йч': 5.484377142334821e-05,\n",
       " 'мт': 5.484377142334821e-05,\n",
       " 'йр': 5.484377142334821e-05,\n",
       " 'шп': 5.332033332825521e-05,\n",
       " 'хм': 5.332033332825521e-05,\n",
       " 'оу': 5.17968952331622e-05,\n",
       " 'сш': 5.02734571380692e-05,\n",
       " 'дх': 5.02734571380692e-05,\n",
       " 'пн': 5.02734571380692e-05,\n",
       " 'эк': 5.02734571380692e-05,\n",
       " 'жб': 4.8750019042976186e-05,\n",
       " 'сз': 4.8750019042976186e-05,\n",
       " 'рр': 4.8750019042976186e-05,\n",
       " 'ъя': 4.722658094788318e-05,\n",
       " 'пт': 4.722658094788318e-05,\n",
       " 'тм': 4.570314285279018e-05,\n",
       " 'эн': 4.570314285279018e-05,\n",
       " 'йм': 4.570314285279018e-05,\n",
       " 'жч': 4.570314285279018e-05,\n",
       " 'бх': 4.570314285279018e-05,\n",
       " 'ыз': 4.570314285279018e-05,\n",
       " 'бь': 4.570314285279018e-05,\n",
       " 'юц': 4.417970475769717e-05,\n",
       " 'эр': 4.417970475769717e-05,\n",
       " 'рп': 4.265626666260417e-05,\n",
       " 'ьч': 4.265626666260417e-05,\n",
       " 'ьо': 4.265626666260417e-05,\n",
       " 'мр': 4.113282856751116e-05,\n",
       " 'сб': 4.113282856751116e-05,\n",
       " 'лт': 4.113282856751116e-05,\n",
       " 'э ': 4.113282856751116e-05,\n",
       " 'йк': 3.960939047241815e-05,\n",
       " 'ьг': 3.960939047241815e-05,\n",
       " 'бв': 3.808595237732515e-05,\n",
       " 'юл': 3.808595237732515e-05,\n",
       " 'нр': 3.808595237732515e-05,\n",
       " 'хс': 3.808595237732515e-05,\n",
       " 'яр': 3.808595237732515e-05,\n",
       " 'вх': 3.808595237732515e-05,\n",
       " 'тъ': 3.808595237732515e-05,\n",
       " 'хе': 3.808595237732515e-05,\n",
       " 'гс': 3.656251428223214e-05,\n",
       " 'йц': 3.503907618713914e-05,\n",
       " 'юю': 3.503907618713914e-05,\n",
       " 'ьд': 3.503907618713914e-05,\n",
       " 'чл': 3.503907618713914e-05,\n",
       " 'ёт': 3.503907618713914e-05,\n",
       " 'нш': 3.503907618713914e-05,\n",
       " 'жо': 3.351563809204613e-05,\n",
       " 'дб': 3.351563809204613e-05,\n",
       " 'жь': 3.351563809204613e-05,\n",
       " 'зп': 3.351563809204613e-05,\n",
       " 'мц': 3.351563809204613e-05,\n",
       " 'п ': 3.199219999695312e-05,\n",
       " 'рз': 3.199219999695312e-05,\n",
       " 'яц': 3.199219999695312e-05,\n",
       " 'яб': 3.199219999695312e-05,\n",
       " 'вч': 2.8945323806767114e-05,\n",
       " 'ыж': 2.8945323806767114e-05,\n",
       " 'щн': 2.7421885711674106e-05,\n",
       " 'тб': 2.7421885711674106e-05,\n",
       " 'мч': 2.58984476165811e-05,\n",
       " 'юз': 2.58984476165811e-05,\n",
       " ' й': 2.58984476165811e-05,\n",
       " 'цн': 2.58984476165811e-05,\n",
       " 'цг': 2.58984476165811e-05,\n",
       " 'нж': 2.58984476165811e-05,\n",
       " 'мь': 2.4375009521488093e-05,\n",
       " 'бб': 2.4375009521488093e-05,\n",
       " 'юм': 2.4375009521488093e-05,\n",
       " 'бч': 2.4375009521488093e-05,\n",
       " 'хт': 2.4375009521488093e-05,\n",
       " 'лб': 2.285157142639509e-05,\n",
       " 'жг': 2.285157142639509e-05,\n",
       " 'сж': 2.1328133331302084e-05,\n",
       " 'тх': 2.1328133331302084e-05,\n",
       " 'гч': 2.1328133331302084e-05,\n",
       " 'дч': 2.1328133331302084e-05,\n",
       " 'вв': 2.1328133331302084e-05,\n",
       " 'вг': 2.1328133331302084e-05,\n",
       " 'рф': 2.1328133331302084e-05,\n",
       " 'оэ': 2.1328133331302084e-05,\n",
       " 'гт': 2.1328133331302084e-05,\n",
       " 'уэ': 2.1328133331302084e-05,\n",
       " 'шм': 1.9804695236209076e-05,\n",
       " 'чр': 1.9804695236209076e-05,\n",
       " 'жс': 1.9804695236209076e-05,\n",
       " 'сц': 1.9804695236209076e-05,\n",
       " 'дд': 1.9804695236209076e-05,\n",
       " 'жю': 1.9804695236209076e-05,\n",
       " 'уа': 1.828125714111607e-05,\n",
       " 'яй': 1.828125714111607e-05,\n",
       " 'щь': 1.828125714111607e-05,\n",
       " 'цв': 1.828125714111607e-05,\n",
       " 'фы': 1.828125714111607e-05,\n",
       " 'кд': 1.828125714111607e-05,\n",
       " 'тщ': 1.828125714111607e-05,\n",
       " 'бг': 1.828125714111607e-05,\n",
       " 'иф': 1.6757819046023064e-05,\n",
       " 'уи': 1.6757819046023064e-05,\n",
       " 'сф': 1.6757819046023064e-05,\n",
       " 'нз': 1.6757819046023064e-05,\n",
       " 'мм': 1.5234380950930059e-05,\n",
       " 'кю': 1.5234380950930059e-05,\n",
       " 'зъ': 1.5234380950930059e-05,\n",
       " 'яп': 1.5234380950930059e-05,\n",
       " 'шв': 1.5234380950930059e-05,\n",
       " 'въ': 1.5234380950930059e-05,\n",
       " 'аа': 1.5234380950930059e-05,\n",
       " 'пш': 1.3710942855837053e-05,\n",
       " 'яи': 1.3710942855837053e-05,\n",
       " 'бд': 1.3710942855837053e-05,\n",
       " 'ыи': 1.3710942855837053e-05,\n",
       " 'йб': 1.3710942855837053e-05,\n",
       " 'вц': 1.3710942855837053e-05,\n",
       " 'дю': 1.3710942855837053e-05,\n",
       " 'тф': 1.3710942855837053e-05,\n",
       " 'еф': 1.3710942855837053e-05,\n",
       " 'пг': 1.3710942855837053e-05,\n",
       " 'йе': 1.2187504760744047e-05,\n",
       " 'уо': 1.2187504760744047e-05,\n",
       " 'зш': 1.2187504760744047e-05,\n",
       " 'зч': 1.2187504760744047e-05,\n",
       " 'зт': 1.2187504760744047e-05,\n",
       " 'дж': 1.2187504760744047e-05,\n",
       " 'ьа': 1.2187504760744047e-05,\n",
       " 'съ': 1.2187504760744047e-05,\n",
       " 'нп': 1.2187504760744047e-05,\n",
       " 'жж': 1.2187504760744047e-05,\n",
       " 'йо': 1.2187504760744047e-05,\n",
       " 'дф': 1.2187504760744047e-05,\n",
       " 'нб': 1.0664066665651042e-05,\n",
       " 'жм': 1.0664066665651042e-05,\n",
       " 'сг': 1.0664066665651042e-05,\n",
       " 'щ ': 1.0664066665651042e-05,\n",
       " 'кж': 1.0664066665651042e-05,\n",
       " 'гм': 1.0664066665651042e-05,\n",
       " 'кц': 1.0664066665651042e-05,\n",
       " 'фк': 1.0664066665651042e-05,\n",
       " 'ьв': 9.140628570558036e-06,\n",
       " 'кк': 9.140628570558036e-06,\n",
       " 'вб': 9.140628570558036e-06,\n",
       " 'тг': 9.140628570558036e-06,\n",
       " 'еа': 9.140628570558036e-06,\n",
       " 'тэ': 9.140628570558036e-06,\n",
       " 'нв': 9.140628570558036e-06,\n",
       " 'нф': 9.140628570558036e-06,\n",
       " 'эп': 9.140628570558036e-06,\n",
       " 'лв': 9.140628570558036e-06,\n",
       " 'дг': 9.140628570558036e-06,\n",
       " 'гю': 9.140628570558036e-06,\n",
       " 'гш': 9.140628570558036e-06,\n",
       " 'лм': 9.140628570558036e-06,\n",
       " 'эм': 7.6171904754650295e-06,\n",
       " 'пч': 7.6171904754650295e-06,\n",
       " 'оа': 7.6171904754650295e-06,\n",
       " 'эг': 7.6171904754650295e-06,\n",
       " 'лф': 7.6171904754650295e-06,\n",
       " 'ьщ': 7.6171904754650295e-06,\n",
       " 'эй': 7.6171904754650295e-06,\n",
       " 'кз': 7.6171904754650295e-06,\n",
       " 'фт': 7.6171904754650295e-06,\n",
       " 'бт': 7.6171904754650295e-06,\n",
       " 'тз': 6.093752380372023e-06,\n",
       " 'юж': 6.093752380372023e-06,\n",
       " 'фс': 6.093752380372023e-06,\n",
       " 'юх': 6.093752380372023e-06,\n",
       " 'ьф': 6.093752380372023e-06,\n",
       " 'вщ': 6.093752380372023e-06,\n",
       " 'уф': 6.093752380372023e-06,\n",
       " 'бю': 6.093752380372023e-06,\n",
       " 'кш': 6.093752380372023e-06,\n",
       " 'лё': 6.093752380372023e-06,\n",
       " 'мш': 6.093752380372023e-06,\n",
       " 'ао': 6.093752380372023e-06,\n",
       " 'бц': 6.093752380372023e-06,\n",
       " 'лз': 6.093752380372023e-06,\n",
       " 'юк': 4.570314285279018e-06,\n",
       " 'фф': 4.570314285279018e-06,\n",
       " 'ёр': 4.570314285279018e-06,\n",
       " 'дз': 4.570314285279018e-06,\n",
       " 'бж': 4.570314285279018e-06,\n",
       " 'бш': 4.570314285279018e-06,\n",
       " 'уу': 4.570314285279018e-06,\n",
       " 'ыу': 4.570314285279018e-06,\n",
       " 'цл': 4.570314285279018e-06,\n",
       " 'эх': 4.570314285279018e-06,\n",
       " 'шш': 4.570314285279018e-06,\n",
       " 'фм': 4.570314285279018e-06,\n",
       " 'нм': 3.0468761901860116e-06,\n",
       " 'хъ': 3.0468761901860116e-06,\n",
       " 'зц': 3.0468761901860116e-06,\n",
       " 'нл': 3.0468761901860116e-06,\n",
       " 'пэ': 3.0468761901860116e-06,\n",
       " 'нэ': 3.0468761901860116e-06,\n",
       " 'рэ': 3.0468761901860116e-06,\n",
       " 'цд': 3.0468761901860116e-06,\n",
       " 'мз': 3.0468761901860116e-06,\n",
       " 'пс': 3.0468761901860116e-06,\n",
       " 'мб': 3.0468761901860116e-06,\n",
       " 'яш': 3.0468761901860116e-06,\n",
       " 'кч': 3.0468761901860116e-06,\n",
       " 'кг': 3.0468761901860116e-06,\n",
       " 'гы': 3.0468761901860116e-06,\n",
       " 'цт': 3.0468761901860116e-06,\n",
       " 'иу': 3.0468761901860116e-06,\n",
       " 'шр': 3.0468761901860116e-06,\n",
       " 'йг': 3.0468761901860116e-06,\n",
       " 'ыо': 3.0468761901860116e-06,\n",
       " 'кх': 3.0468761901860116e-06,\n",
       " 'кё': 3.0468761901860116e-06,\n",
       " 'иэ': 1.5234380950930058e-06,\n",
       " 'тж': 1.5234380950930058e-06,\n",
       " 'мф': 1.5234380950930058e-06,\n",
       " ' ы': 1.5234380950930058e-06,\n",
       " 'яф': 1.5234380950930058e-06,\n",
       " 'тё': 1.5234380950930058e-06,\n",
       " ' ъ': 1.5234380950930058e-06,\n",
       " 'ъ ': 1.5234380950930058e-06,\n",
       " ' ь': 1.5234380950930058e-06,\n",
       " 'аэ': 1.5234380950930058e-06,\n",
       " 'фэ': 1.5234380950930058e-06,\n",
       " 'жэ': 1.5234380950930058e-06,\n",
       " 'бэ': 1.5234380950930058e-06,\n",
       " 'чэ': 1.5234380950930058e-06,\n",
       " 'щр': 1.5234380950930058e-06,\n",
       " 'лэ': 1.5234380950930058e-06,\n",
       " 'мэ': 1.5234380950930058e-06,\n",
       " 'сэ': 1.5234380950930058e-06,\n",
       " 'дэ': 1.5234380950930058e-06,\n",
       " 'ыщ': 1.5234380950930058e-06,\n",
       " 'щэ': 1.5234380950930058e-06,\n",
       " 'вэ': 1.5234380950930058e-06,\n",
       " 'жл': 1.5234380950930058e-06,\n",
       " 'ём': 1.5234380950930058e-06,\n",
       " 'лщ': 1.5234380950930058e-06,\n",
       " 'эз': 1.5234380950930058e-06,\n",
       " 'фь': 1.5234380950930058e-06,\n",
       " 'эд': 1.5234380950930058e-06,\n",
       " 'тш': 1.5234380950930058e-06,\n",
       " 'йй': 1.5234380950930058e-06,\n",
       " 'яа': 1.5234380950930058e-06,\n",
       " 'ёз': 1.5234380950930058e-06,\n",
       " 'кб': 1.5234380950930058e-06,\n",
       " 'мх': 1.5234380950930058e-06,\n",
       " 'гз': 1.5234380950930058e-06,\n",
       " 'цс': 1.5234380950930058e-06,\n",
       " 'мщ': 1.5234380950930058e-06,\n",
       " 'лш': 1.5234380950930058e-06,\n",
       " 'иь': 1.5234380950930058e-06,\n",
       " 'зй': 1.5234380950930058e-06,\n",
       " 'эц': 1.5234380950930058e-06,\n",
       " 'йа': 1.5234380950930058e-06,\n",
       " 'эш': 1.5234380950930058e-06,\n",
       " 'хп': 1.5234380950930058e-06,\n",
       " 'уц': 1.5234380950930058e-06,\n",
       " 'мд': 1.5234380950930058e-06,\n",
       " 'ёл': 1.5234380950930058e-06,\n",
       " 'пц': 1.5234380950930058e-06,\n",
       " 'бз': 1.5234380950930058e-06,\n",
       " 'йщ': 1.5234380950930058e-06,\n",
       " 'юг': 1.5234380950930058e-06,\n",
       " 'пф': 1.5234380950930058e-06,\n",
       " ' ё': 1.5234380950930058e-06,\n",
       " 'йю': 1.5234380950930058e-06,\n",
       " 'ыц': 1.5234380950930058e-06,\n",
       " 'шс': 1.5234380950930058e-06,\n",
       " 'км': 1.5234380950930058e-06}"
      ]
     },
     "execution_count": 567,
     "metadata": {},
     "output_type": "execute_result"
    }
   ],
   "source": [
    "decoder.original_freq_dict"
   ]
  },
  {
   "cell_type": "code",
   "execution_count": 568,
   "metadata": {},
   "outputs": [
    {
     "name": "stdout",
     "output_type": "stream",
     "text": [
      "----------------------------------------------------------------------------------------------------\n",
      "iteration 10000\n",
      "score -142460.96016706873\n",
      "Validation text: \n",
      "   анна казенина один ир самяц рнаменитяц зоманов льва толстого нажинаетсх ставфей аэозирмом эзарой все сжастливяе семьи поцоши дзуг на дзуга кашдах несжастливах семьх несжастлива посвоему что книга о вежняц щенностхц о любви о везе о семье о желовежеском достоинстве            лев толстойзоман физокого дяцаних  жасть пезвах   лев толстой  анна казенина     зоман физокого дяцаних     анна казенина позарила совземенников вседневностью содезшаних необяжайнах свобода заскованность повествованих удивительно сожетались в чтом зомане с щельностью цудошественного врглхда автоза на ширнь он вяступал рдесь как цудошник и мяслитель и нарнажение искусства видел не в том жтобя неоспозимо зарзефить вопзос а в том жтобя раставить любить ширнь в бесжисленняц никогда не истоъимяц всец ее пзохвленихц    в е годя один маститяй писатель повидимому гонжазов скарал достоевскому что веъь несляцаннах что веъь пезвах кто у нас ир писателей мошет позавнхтьсх с чтим а в евзопе  кто пзедставит цоть жтонибудь подобное эм достоевский нацодил в новом зомане толстого огзомную псицологижескую зарзаботку дуфи желовежеской стзафную глубину и силу и главное небяваляй доселе у нас зеалирм цудошественного иробзашених  вземх подтвездило чту вясокую ощенку ир статей и книг на всец хрякац миза посвхъенняц анне казениной мошно составить щелую библиотеку х бер колебаний нарвал анну казенину велижайфим сощиальням зоманом во всей мизовой литезатузе  писал томас манн  рнажение зомана толстого состоит не в чстетижеской щенности отдельняц казтин а в цудошественной равезфенности щелого         войну и миз толстой нарявал книгой о пзофлом в нажале  года он пзосил зедактоза шузнала зусский вестник мн каткова в оглавлении и даше в обыхвлении не нарявать его сожинение зоманом длх менх что ожень вашно и потому ожень пзофу вас об чтом   толстой мог бя обосновать свое опзеделение шанза книга ссялкой на гегелх котозого он внимательно пезежитявал в годя заботя над войной и мизом гегель нарявал книгой чпижеские пзоирведени\n",
      "----------------------------------------------------------------------------------------------------\n",
      "iteration 20000\n",
      "score -142460.96016706873\n",
      "Validation text: \n",
      "   анна каренина один из самяц знаменитяц романов лжва толстого наьинаетсх ставфей аэоризмом эразой все сьастливяе семжи поцоши друг на друга кашдах несьастливах семжх несьастлива посвоему что книга о веьняц щенностхц о любви о вере о семже о ьеловеьеском достоинстве            лев толстойроман фирокого дяцаних  ьастж первах   лев толстой  анна каренина     роман фирокого дяцаних     анна каренина поразила современников вседневностжю содершаних необяьайнах свобода раскованностж повествованих удивителжно соьеталисж в чтом романе с щелжностжю цудошественного взглхда автора на шизнж он вяступал здесж как цудошник и мяслителж и назнаьение искусства видел не в том ьтобя неоспоримо разрефитж вопрос а в том ьтобя заставитж любитж шизнж в бесьисленняц никогда не истоъимяц всец ее прохвленихц    в е годя один маститяй писателж повидимому гоньаров сказал достоевскому что веъж несляцаннах что веъж первах кто у нас из писателей мошет поравнхтжсх с чтим а в европе  кто представит цотж ьтонибудж подобное эм достоевский нацодил в новом романе толстого огромную псицологиьескую разработку дуфи ьеловеьеской страфную глубину и силу и главное небяваляй доселе у нас реализм цудошественного изобрашених  времх подтвердило чту вясокую ощенку из статей и книг на всец хзякац мира посвхъенняц анне карениной мошно составитж щелую библиотеку х без колебаний назвал анну каренину велиьайфим сощиалжням романом во всей мировой литературе  писал томас манн  знаьение романа толстого состоит не в чстетиьеской щенности отделжняц картин а в цудошественной заверфенности щелого         войну и мир толстой назявал книгой о профлом в наьале  года он просил редактора шурнала русский вестник мн каткова в оглавлении и даше в обыхвлении не назяватж его соьинение романом длх менх что оьенж вашно и потому оьенж профу вас об чтом   толстой мог бя обосноватж свое определение шанра книга ссялкой на гегелх которого он внимателжно переьитявал в годя работя над войной и миром гегелж назявал книгой чпиьеские произведени\n"
     ]
    }
   ],
   "source": [
    "decoder = MCMCSamplingDecoder()\n",
    "decoder.fit(\n",
    "    anna_karenina,\n",
    "    encode_text(anna_karenina[:2000]),\n",
    "    max_iter=20000,\n",
    "    validation_text=True,\n",
    ")"
   ]
  },
  {
   "cell_type": "markdown",
   "metadata": {},
   "source": [
    "Получается довольно читаемый текст:"
   ]
  },
  {
   "cell_type": "code",
   "execution_count": 574,
   "metadata": {},
   "outputs": [
    {
     "data": {
      "text/plain": [
       "'   анна каренина один из самяц знаменитяц романов льва толстого нажинаетсх ставфей аэоризмом эразой все сжастливяе семьи поцоши друг на друга кашдах несжастливах семьх несжастлива посвоему что книга о вежняц щенностхц о любви о вере о семье о желовежеском достоинстве            лев толстойроман фирокого дяцаних  жасть первах   лев толстой  анна каренина     роман фирокого дяцаних     анна каренина поразила современников вседневностью содершаних необяжайнах свобода раскованность повествованих удивительно сожетались в чтом романе с щельностью цудошественного взглхда автора на шизнь он вяступал здесь как цудошник и мяслитель и назнажение искусства видел не в том жтобя неоспоримо разрефить вопрос а в том жтобя заставить любить шизнь в бесжисленняц никогда не истоъимяц всец ее прохвленихц    в е годя один маститяй писатель повидимому гонжаров сказал достоевскому что веъь несляцаннах что веъь первах кто у нас из писателей мошет поравнхтьсх с чтим а в европе  кто представит цоть жтонибудь подобное эм достоевский нацодил в новом романе толстого огромную псицологижескую разработку дуфи желовежеской страфную глубину и силу и главное небяваляй доселе у нас реализм цудошественного изобрашених  времх подтвердило чту вясокую ощенку из статей и книг на всец хзякац мира посвхъенняц анне карениной мошно составить щелую библиотеку х без колебаний назвал анну каренину велижайфим сощиальням романом во всей мировой литературе  писал томас манн  знажение романа толстого состоит не в чстетижеской щенности отдельняц картин а в цудошественной заверфенности щелого         войну и мир толстой назявал книгой о профлом в нажале  года он просил редактора шурнала русский вестник мн каткова в оглавлении и даше в обыхвлении не назявать его сожинение романом длх менх что ожень вашно и потому ожень профу вас об чтом   толстой мог бя обосновать свое определение шанра книга ссялкой на гегелх которого он внимательно пережитявал в годя работя над войной и миром гегель назявал книгой чпижеские произведених свхзанняе с щелостням миром определенного народа и определенной чпоци книга или самобятнах чпопех дает картину нащионального самосознаних в нравственняц устохц семейной шизни в объественняц условихц состохних войня и мира курсив наф  чб в его потребностхц искусствац обяжахц интересац  анну каренину толстой назявал романом из современной шизни в  году только еъе нажинах работу он говорил нн страцову роман чтот  именно роман курсив наф  чб первяй в моей шизни ожень взхл менх за дуфу и х им увлежен весь    чпоца отежественной войня позволила толстому изобразить в войне и мире шизнь русского народа великой чпоци как щелостняй мир прекрасняй и возвяфенняй х цудошник  пифет толстой размяфлхх над собятихми  года  и всх шизнь мох процодит в том жтобя искать красоту   объественняй подыем ц годов когда в россии бяло унижтошено рабство крестьхн наполнхл и автора войня и мира жувством дуцовной бодрости и веря в будуъее в е ше годя в чпоцу глубокого сощиального кризиса когда написана анна каренина мирооъуъение толстого бяло иням все врознь  так определил суъность пореэорменной чпоци эм достоевский толстой видел перед собой раздробленняй мир лифенняй нравственного единства красотя нет  шаловалсх он  и нет руководителх в цаосе добра и зла    если в войне и мире преобладает нравственнах щелостность и красота или почзих то длх ання карениной становитсх царактерням раздробленность и цаос или проза после войня и мира с ее всеобъим содершанием и почтижеской простотой замясел ання карениной казалсх толстому жастням не простям и даше низменням    перецод от войня и мира к анне карениной имеет историжеское сощиальное и эилосоэское обоснование в романе в отлижие от книги как об чтом писал гегель отсутствует самобятное почтижеское состохние мира роман в современном знажении предполагает прозаижески упорхдоженную действительность однако здесь снова полностью вяступает богатство и разнообразие интересов состохний царактеров шизненняц отнофений фирокий эон щелостного мира равно почтижеское изобрашение собятий круги собятий в романе по сравнению с самобятной чпопеей ше но познание шизни мошет проникать глубше в действительность у романа как цудошественной эормя есть свои законя завхзка постохнно услошнхюъийсх интерес и сжастливах или несжастливах развхзка   нажав с того жто все смефалось в доме облонскиц толстой рассказявает о разруфении дома карениняц о смхтении левина и наконещ прицодит к тому жто во всей россии все переворотилось услошнхюъийсх интерес вяводит сюшет романа за пределя семейной истории  в анне карениной не бяло великиц историжескиц дехтелей или мировяц собятий не бяло здесь такше лирижескиц эилосоэскиц или публищистижескиц отступлений но споря вязванняе романом сразу ше вяфли за пределя жисто литературняц интересов как будто дело фло о вопросе кашдому лижно близком толки о романе толстого сливались с злободневнями политижескими известихми о вяцоде кашдой жасти карениной  отмежал нн страцов  в газетац извеъают так ше поспефно и толкуют так ше усердно как о '"
      ]
     },
     "execution_count": 574,
     "metadata": {},
     "output_type": "execute_result"
    }
   ],
   "source": [
    "decoder.predict(encode_text(anna_karenina[:5000]))"
   ]
  },
  {
   "cell_type": "code",
   "execution_count": 575,
   "metadata": {},
   "outputs": [
    {
     "data": {
      "text/plain": [
       "{'к': 'и',\n",
       " 'щ': 'ж',\n",
       " 'ы': 'а',\n",
       " 'ч': 'ф',\n",
       " 'н': 'й',\n",
       " 'ь': 'м',\n",
       " 'э': 'ъ',\n",
       " 'ю': 'д',\n",
       " 'б': 'э',\n",
       " 'в': 'у',\n",
       " 'з': 'х',\n",
       " 'х': 'в',\n",
       " 'л': 'я',\n",
       " 'я': 'ч',\n",
       " 'ъ': 'г',\n",
       " 'с': 'з',\n",
       " 'д': 'б',\n",
       " 'р': 'н',\n",
       " 'и': 'ш',\n",
       " 'ш': ' ',\n",
       " 'г': 'ц',\n",
       " ' ': 'ю',\n",
       " 'а': 'е',\n",
       " 'е': 'т',\n",
       " 'й': 'с',\n",
       " 'п': 'р',\n",
       " 'м': 'ь',\n",
       " 'о': 'к',\n",
       " 'ц': 'о',\n",
       " 'у': 'ы',\n",
       " 'т': 'п',\n",
       " 'ж': 'л',\n",
       " 'ф': 'щ'}"
      ]
     },
     "execution_count": 575,
     "metadata": {},
     "output_type": "execute_result"
    }
   ],
   "source": [
    "decoder.mapping"
   ]
  },
  {
   "cell_type": "markdown",
   "metadata": {},
   "source": [
    "Аналогичные манипуляции проделаем с войной и миром:"
   ]
  },
  {
   "cell_type": "code",
   "execution_count": 580,
   "metadata": {},
   "outputs": [
    {
     "name": "stdout",
     "output_type": "stream",
     "text": [
      "----------------------------------------------------------------------------------------------------\n",
      "iteration 10000\n",
      "score -240809.67518832593\n",
      "Validation text: \n",
      "   война и мир  ьамый извеьтный роман лсва николаевича тольтого как никакое другое произведение пиьателя отражает глубину его мироощущения и филоьофииэта книга из разряда вечных потому что она обо вьем  о жизни и ьмерти о любви и чеьти о мужеьтве и героизме о ьлаве и подвиге о войне и мирепервый том знакомит ь выьшим общеьтвом роььии  века показаны взаимоотношения между родителями и детсми в ьемсе роьтовых ьватовьтво у болконьких интриги у безуховых вечера в ьалоне фрейлины апшерер балы в моькве и петербурге            лев николаевич тольтойчаьтс первая  чаьтс орая  чаьтс трется              лев николаевич тольтой  война и мир  том      чаьтс первая          е              помеьтся                                                       мой верный раб    ну что князс генуа и лукка ьтали не болсше как помеьтсями фамилии бонапарте нет я ваь предупреждаю еьли вы мне не ькажете что у наь война еьли вы еще позволите ьебе защищатс вье гадоьти вье ужаьы этого антихриьта право я верю что он антихриьт  я ваь болсше не знаю вы уж не друг мой вы уж не мой верный раб как вы говорите ну здравьтвуйте здравьтвуйте        я вижу что я ваь пугаю ьадитеьс и раььказывайте  так говорила в июле  года извеьтная анна павловна шерер фрейлина и приближенная императрицы марии феодоровны вьтречая важного и чиновного князя ваьилия первого приехавшего на ее вечер анна павловна кашляла неьколско дней у нее был грипп как она говорила грипп был тогда новое ьлово употреблявшееья толско редкими в запиьочках разоьланных утром ь краьным лакеем было напиьано без различия во вьех             или                                    еьли  ваь граф или князс нет в виду ничего лучшего и еьли перьпектива вечера у бедной болсной не ьлишком ваь пугает то я буду оченс рада видетс ваь нынче у ьебя между ьемсю и деьятсю чаьами анна шерер       о какое жеьтокое нападение  отвечал ниьколско не ьмутяьс такою вьтречей вошедший князс в придворном шитом мундире в чулках башмаках при звездах ь ьветлым выражением плоького л\n",
      "----------------------------------------------------------------------------------------------------\n",
      "iteration 20000\n",
      "score -240809.67518832593\n",
      "Validation text: \n",
      "   война и мир  самый известный роман льва нишолаевича толстого шаш нишашое другое произведение писателя отражает глубину его мироощущения и философииэта шнига из разряда вечных потому что она обо всем  о жизни и смерти о любви и чести о мужестве и героизме о славе и подвиге о войне и мирепервый том знашомит с выским обществом россии  веша пошазаны взаимоотнокения между родителями и детьми в семье ростовых сватовство у болшонсших интриги у безуховых вечера в салоне фрейлины апкерер балы в мосшве и петербурге            лев нишолаевич толстойчасть первая  часть орая  часть третья              лев нишолаевич толстой  война и мир  том      часть первая          е              поместья                                                       мой верный раб    ну что шнязь генуа и лушша стали не больке шаш поместьями фамилии бонапарте нет я вас предупреждаю если вы мне не сшажете что у нас война если вы еще позволите себе защищать все гадости все ужасы этого антихриста право я верю что он антихрист  я вас больке не знаю вы уж не друг мой вы уж не мой верный раб шаш вы говорите ну здравствуйте здравствуйте        я вижу что я вас пугаю садитесь и рассшазывайте  таш говорила в июле  года известная анна павловна керер фрейлина и приближенная императрицы марии феодоровны встречая важного и чиновного шнязя василия первого приехавкего на ее вечер анна павловна шакляла несшольшо дней у нее был грипп шаш она говорила грипп был тогда новое слово употреблявкееся тольшо редшими в записочшах разосланных утром с шрасным лашеем было написано без различия во всех             или                                    если  вас граф или шнязь нет в виду ничего лучкего и если перспештива вечера у бедной больной не сликшом вас пугает то я буду очень рада видеть вас нынче у себя между семью и десятью часами анна керер       о шашое жестошое нападение  отвечал нисшольшо не смутясь ташою встречей вокедкий шнязь в придворном китом мундире в чулшах бакмашах при звездах с светлым выражением плосшого л\n"
     ]
    }
   ],
   "source": [
    "decoder = MCMCSamplingDecoder()\n",
    "decoder.fit(\n",
    "    war_peace_ru,\n",
    "    encode_text(war_peace_ru[:2000]),\n",
    "    max_iter=20000,\n",
    "    validation_text=True,\n",
    ")"
   ]
  },
  {
   "cell_type": "code",
   "execution_count": 594,
   "metadata": {},
   "outputs": [
    {
     "data": {
      "text/plain": [
       "'   война и мир  самый известный роман льва николаевича толстого как никакое другое произведение писателя отражает глубину его мироощущения и философииэта книга из разряда вечных потому что она обо всем  о жизни и смерти о любви и чести о мужестве и героизме о славе и подвиге о войне и мирепервый том знакомит с высшим обществом россии  века показаны взаимоотношения между родителями и детьми в семье ростовых сватовство у болконских интриги у безуховых вечера в салоне фрейлины апшерер балы в москве и петербурге            лев николаевич толстойчасть первая  часть орая  часть третья              лев николаевич толстой  война и мир  том      часть первая          е              поместья                                                       мой верный раб    ну что князь генуа и лукка стали не больше как поместьями фамилии бонапарте нет я вас предупреждаю если вы мне не скажете что у нас война если вы еще позволите себе защищать все гадости все ужасы этого антихриста право я верю что он антихрист  я вас больше не знаю вы уж не друг мой вы уж не мой верный раб как вы говорите ну здравствуйте здравствуйте        я вижу что я вас пугаю садитесь и рассказывайте  так говорила в июле  года известная анна павловна шерер фрейлина и приближенная императрицы марии феодоровны встречая важного и чиновного князя василия первого приехавшего на ее вечер анна павловна кашляла несколько дней у нее был грипп как она говорила грипп был тогда новое слово употреблявшееся только редкими в записочках разосланных утром с красным лакеем было написано без различия во всех             или                                    если  вас граф или князь нет в виду ничего лучшего и если перспектива вечера у бедной больной не слишком вас пугает то я буду очень рада видеть вас нынче у себя между семью и десятью часами анна шерер       о какое жестокое нападение  отвечал нисколько не смутясь такою встречей вошедший князь в придворном шитом мундире в чулках башмаках при звездах с светлым выражением плоского лица он говорил на том изысканном французском языке на котором не только говорили но и думали наши деды и с теми тихими покровительственными интонациями которые свойственны состаревшемуся в свете и при дворе значительному человеку он подошел к анне павловне поцеловал ее руку подставив ей свою надушенную и сияющую лысину и покойно уселся на диване            прежде всего скажите как ваше здоровье успокойте друга  сказал он не изменяя голоса и тоном в котором изза приличия и участия просвечивало равнодушие и даже насмешка   как можно быть здоровой когда нравственно страдаешь разве можно оставаться спокойною в наше время когда есть у человека чувство  сказала анна павловна  вы весь вечер у меня надеюсь   а праздник английского посланника нынче середа мне надо показаться там  сказал князь  дочь заедет за мной и повезет меня   я думала что нынешний праздник отменен                 признаюсь все эти праздники и фейерверки становятся несносны   ежели бы знали что вы этого хотите праздник бы от'"
      ]
     },
     "execution_count": 594,
     "metadata": {},
     "output_type": "execute_result"
    }
   ],
   "source": [
    "decoder.predict(encode_text(war_peace_ru[:3000]))"
   ]
  },
  {
   "cell_type": "markdown",
   "metadata": {},
   "source": [
    "## Расшифровка сообщения"
   ]
  },
  {
   "cell_type": "markdown",
   "metadata": {},
   "source": [
    "Чтобы расшифровать сообщение, пришлось прилично увеличить число итераций. Еще пришлось тренировать на войне и мире - на Анне Карениной тексты получились не осмысленные."
   ]
  },
  {
   "cell_type": "code",
   "execution_count": 604,
   "metadata": {},
   "outputs": [
    {
     "name": "stdout",
     "output_type": "stream",
     "text": [
      "----------------------------------------------------------------------------------------------------\n",
      "iteration 10000\n",
      "score -3279.9583414893596\n",
      "Validation text: \n",
      "исле бы бемери ньтполаный еле вьдре ньтполаный рикср у эрьзь сььжчинея кьрьтый лизкь втьдерора скьтии бсизь бы бси смилоле втобелань е вьлудери поксеполаный жолл го вьслимнии дирбитрьи гомонеи кутсо шьря кьниднь я недизь ни ьжичою\n",
      "----------------------------------------------------------------------------------------------------\n",
      "iteration 20000\n",
      "score -3173.0608659934637\n",
      "Validation text: \n",
      "если вы вимите чорзальчый или подти чорзальчый текст у этого сообщечия который легко продитать скорее всего вы все смелали правильчо и полудите заксизальчый балл на послемчее детвертое намачие курса хотя кочедчо я чидего че обещаж\n",
      "----------------------------------------------------------------------------------------------------\n",
      "iteration 30000\n",
      "score -3174.1161951469007\n",
      "Validation text: \n",
      "если вы вимите ноазрльный или подти ноазрльный текст у этого сообжения котоаый легко паодитрть скоаее всего вы все смелрли парвильно и полудите зрксизрльный брлл чр послемнее детвеатое чрмрние куаср хотя конедно я нидего не обежрш\n",
      "----------------------------------------------------------------------------------------------------\n",
      "iteration 40000\n",
      "score -3173.4908437565336\n",
      "Validation text: \n",
      "если бы бимите норзальный или подти норзальный текст у этого соовщения который легко продитать скорее бсего бы бсе смелали прабильно и полудите заксизальный валл ча послемнее детбертое чамание курса хотя конедно я нидего не овещаю\n",
      "----------------------------------------------------------------------------------------------------\n",
      "iteration 50000\n",
      "score -3175.946082419024\n",
      "Validation text: \n",
      "если вы вимихе норзальный или подхи норзальный хексх у эхого соожчения кохорый легко продихахь скорее всего вы все смелали правильно и полудихе заксизальный жалл ба послемнее дехверхое бамание курса тохя конедно я нидего не ожечаш\n",
      "----------------------------------------------------------------------------------------------------\n",
      "iteration 60000\n",
      "score -3176.301962126213\n",
      "Validation text: \n",
      "если вы вимите норзальный или подти норзальный текст у этого сооёщения который легко продитать скорее всего вы все смелали правильно и полудите заксизальный ёалл ча послемнее детвертое чамание курса цотя конедно я нидего не оёещах\n",
      "----------------------------------------------------------------------------------------------------\n",
      "iteration 70000\n",
      "score -3176.1796207635066\n",
      "Validation text: \n",
      "если ты тимиве норзальный или подви норзальный вексв у эвого сообжения коворый легко продивавь скорее тсего ты тсе смелали пратильно и полудиве заксизальный балл ча послемнее девтервое чамание курса шовя конедно я нидего не обежах\n",
      "----------------------------------------------------------------------------------------------------\n",
      "iteration 80000\n",
      "score -3173.2648872638424\n",
      "Validation text: \n",
      "есыи вл вимите норзаыьнлй иыи подти норзаыьнлй текст у этого сообщения которлй ыегко продитать скорее всего вл все смеыаыи правиыьно и поыудите заксизаыьнлй баыы ча посыемнее детвертое чамание курса хотя конедно я нидего не обещаш\n",
      "----------------------------------------------------------------------------------------------------\n",
      "iteration 90000\n",
      "score -3173.4908437565336\n",
      "Validation text: \n",
      "если вы вимите норзальный или подти норзальный текст у этого сообщения который легко продитать скорее всего вы все смелали правильно и полудите заксизальный балл ча послемнее детвертое чамание курса хотя конедно я нидего не обещаю\n",
      "----------------------------------------------------------------------------------------------------\n",
      "iteration 100000\n",
      "score -3173.0608659934637\n",
      "Validation text: \n",
      "еслн вы внмнте иорзальиый нлн подтн иорзальиый текст у этого сообщеиня который легко проднтать скорее всего вы все смелалн правнльио н полуднте закснзальиый балл ча послемиее детвертое чамаине курса хотя коиедио я индего ие обещаж\n",
      "----------------------------------------------------------------------------------------------------\n",
      "iteration 110000\n",
      "score -3174.1161951469007\n",
      "Validation text: \n",
      "если вы видите норзальный или помти норзальный текст у этого сообжения который легко промитать скорее всего вы все сделали правильно и полумите заксизальный балл ча последнее метвертое чадание курса хотя конемно я нимего не обежаш\n",
      "----------------------------------------------------------------------------------------------------\n",
      "iteration 120000\n",
      "score -3174.342151639592\n",
      "Validation text: \n",
      "еслд вы вдмдте норзальный длд поитд норзальный текст у этого сообжендя который легко проидтать скорее всего вы все смелалд правдльно д полуидте заксдзальный балл ча послемнее иетвертое чаманде курса хотя конеино я ндиего не обежаю\n",
      "----------------------------------------------------------------------------------------------------\n",
      "iteration 130000\n",
      "score -3174.6902569044028\n",
      "Validation text: \n",
      "если вы вимите норзальный или подти норзальный текст у этого сообшения который легко продитать скорее всего вы все смелали правильно и полудите заксизальный балл ца послемнее детвертое цамание курса хотя конедно я нидего не обешаж\n",
      "----------------------------------------------------------------------------------------------------\n",
      "iteration 140000\n",
      "score -3173.4908437565336\n",
      "Validation text: \n",
      "еслё вы вёмёте норзальный ёлё подтё норзальный текст у этого сообщенёя который легко продётать скорее всего вы все смелалё правёльно ё полудёте заксёзальный балл ча послемнее детвертое чаманёе курса хотя конедно я нёдего не обещаю\n",
      "----------------------------------------------------------------------------------------------------\n",
      "iteration 150000\n",
      "score -3173.2648872638424\n",
      "Validation text: \n",
      "если вы вимите норзальный или подти норзальный текст у этого сообщения который легко продитать скорее всего вы все смелали правильно и полудите заксизальный балл юа послемнее детвертое юамание курса хотя конедно я нидего не обещаш\n",
      "----------------------------------------------------------------------------------------------------\n",
      "iteration 160000\n",
      "score -3177.171407471735\n",
      "Validation text: \n",
      "если вы вимите норзальный или пофти норзальный текст у этого сообцения который легко профитать скорее всего вы все смелали правильно и полуфите заксизальный балл ча послемнее фетвертое чамание курса хотя конефно я нифего не обецаш\n",
      "----------------------------------------------------------------------------------------------------\n",
      "iteration 170000\n",
      "score -3173.2648872638424\n",
      "Validation text: \n",
      "чсли вы вимитч норзальный или подти норзальный тчкст у этого сообщчния который лчгко продитать скорчч всчго вы всч смчлали правильно и полудитч заксизальный балл еа послчмнчч дчтвчрточ еаманич курса хотя кончдно я нидчго нч обчщаш\n",
      "----------------------------------------------------------------------------------------------------\n",
      "iteration 180000\n",
      "score -3173.0608659934637\n",
      "Validation text: \n",
      "если вы вимите норзчльный или подти норзчльный текст у этого сообщения который легко продитчть скорее всего вы все смелчли прчвильно и полудите зчксизчльный бчлл ач послемнее детвертое ачмчние курсч хотя конедно я нидего не обещчж\n",
      "----------------------------------------------------------------------------------------------------\n",
      "iteration 190000\n",
      "score -3173.0608659934637\n",
      "Validation text: \n",
      "если вы вимипе норзальный или тодпи норзальный пексп у эпого сообщения копорый легко тродипапь скорее всего вы все смелали травильно и толудипе заксизальный балл ча тослемнее депверпое чамание курса хопя конедно я нидего не обещаж\n",
      "----------------------------------------------------------------------------------------------------\n",
      "iteration 200000\n",
      "score -3174.1161951469007\n",
      "Validation text: \n",
      "екли вы вимите норзальный или подти норзальный тескт у этого кообжения соторый легсо продитать ксорее вкего вы вке кмелали правильно и полудите заскизальный балл ча поклемнее детвертое чамание сурка хотя сонедно я нидего не обежаш\n",
      "----------------------------------------------------------------------------------------------------\n",
      "iteration 210000\n",
      "score -3175.3283128804483\n",
      "Validation text: \n",
      "если вы вимите норзальный или подти норзальный текст у этого сооъщения который легко продитать скорее всего вы все смелали правильно и полудите заксизальный ъалл ча послемнее детвертое чамание курса шотя конедно я нидего не оъещах\n"
     ]
    },
    {
     "name": "stdout",
     "output_type": "stream",
     "text": [
      "----------------------------------------------------------------------------------------------------\n",
      "iteration 220000\n",
      "score -3173.0608659934637\n",
      "Validation text: \n",
      "если вы вимите норзальный или подти норзальный текст у этого сообхения который легко продитать скорее всего вы все смелали правильно и полудите заксизальный балл ча послемнее детвертое чамание курса щотя конедно я нидего не обехаж\n",
      "----------------------------------------------------------------------------------------------------\n",
      "iteration 230000\n",
      "score -3173.4908437565336\n",
      "Validation text: \n",
      "если вы вимите норзальный или подти норзальный теуст к этого сообщения уоторый легуо продитать суорее всего вы все смелали правильно и полкдите заусизальный балл ча послемнее детвертое чамание укрса хотя уонедно я нидего не обещаю\n",
      "----------------------------------------------------------------------------------------------------\n",
      "iteration 240000\n",
      "score -3174.1161951469007\n",
      "Validation text: \n",
      "если вы вимите норзальный или кодти норзальный тепст у этого сообжения поторый легпо кродитать спорее всего вы все смелали кравильно и колудите запсизальный балл ча кослемнее детвертое чамание пурса хотя понедно я нидего не обежаш\n",
      "----------------------------------------------------------------------------------------------------\n",
      "iteration 250000\n",
      "score -3173.2648872638424\n",
      "Validation text: \n",
      "если вы вимите нарзольный или падти нарзольный текст у этага саабщения катарый легка прадитоть скарее всега вы все смелоли провильна и палудите зоксизольный болл чо паслемнее детвертае чомоние курсо хатя канедна я нидега не абещош\n",
      "----------------------------------------------------------------------------------------------------\n",
      "iteration 260000\n",
      "score -3173.0608659934637\n",
      "Validation text: \n",
      "если вы вимите норзальныф или подти норзальныф текст у этого сообщения которыф легко продитать скорее всего вы все смелали правильно и полудите заксизальныф балл ча послемнее детвертое чамание курса хотя конедно я нидего не обещаж\n",
      "----------------------------------------------------------------------------------------------------\n",
      "iteration 270000\n",
      "score -3173.2648872638424\n",
      "Validation text: \n",
      "если вы вимите норзалъный или подти норзалъный текст у этого сообщения который легко продитатъ скорее всего вы все смелали правилъно и полудите заксизалъный балл ча послемнее детвертое чамание курса хотя конедно я нидего не обещаш\n",
      "----------------------------------------------------------------------------------------------------\n",
      "iteration 280000\n",
      "score -3176.1720389117154\n",
      "Validation text: \n",
      "осли вы вимито нерзальный или педти нерзальный токст у этеге сеежчония кетерый логке предитать скероо всоге вы всо смолали правильне и пелудито заксизальный жалл ба песломноо дотвортео баманио курса хетя кенодне я нидоге но ежочаю\n",
      "----------------------------------------------------------------------------------------------------\n",
      "iteration 290000\n",
      "score -3173.0608659934637\n",
      "Validation text: \n",
      "если вы вимите нхрзальный или пхдти нхрзальный текст у этхгх сххбщения кхтхрый легкх прхдитать скхрее всегх вы все смелали правильнх и пхлудите заксизальный балл ча пхслемнее детвертхе чамание курса охтя кхнеднх я нидегх не хбещаж\n",
      "----------------------------------------------------------------------------------------------------\n",
      "iteration 300000\n",
      "score -3173.4908437565336\n",
      "Validation text: \n",
      "если вы вимите норуальный или подти норуальный текст з этого сообщения который легко продитать скорее всего вы все смелали правильно и полздите уаксиуальный балл ча послемнее детвертое чамание кзрса хотя конедно я нидего не обещаю\n",
      "----------------------------------------------------------------------------------------------------\n",
      "iteration 310000\n",
      "score -3174.6902569044028\n",
      "Validation text: \n",
      "есёи вы вимите норзаёьный иёи подти норзаёьный текст у этого сообшения который ёегко продитать скорее всего вы все смеёаёи правиёьно и поёудите заксизаёьный баёё ча посёемнее детвертое чамание курса хотя конедно я нидего не обешаж\n",
      "----------------------------------------------------------------------------------------------------\n",
      "iteration 320000\n",
      "score -3173.0608659934637\n",
      "Validation text: \n",
      "еслиыв ывимитеынорзальн йыилиыподтиынорзальн йытекстыуыэтогоысообщенияыкотор йылегкоыпродитатьыскорееывсегоыв ывсеысмелалиыправильноыиыполудитеызаксизальн йыбаллычаыпослемнееыдетвертоеычаманиеыкурсаыхотяыконедноыяынидегоынеыобещаж\n",
      "----------------------------------------------------------------------------------------------------\n",
      "iteration 330000\n",
      "score -3173.0608659934637\n",
      "Validation text: \n",
      "еслф вы вфмфте норзальный флф подтф норзальный текст у этого сообщенфя который легко продфтать скорее всего вы все смелалф правфльно ф полудфте заксфзальный балл ча послемнее детвертое чаманфе курса хотя конедно я нфдего не обещаж\n",
      "----------------------------------------------------------------------------------------------------\n",
      "iteration 340000\n",
      "score -3173.4908437565336\n",
      "Validation text: \n",
      "есви лы лимите норзавьный иви подти норзавьный текст у этого сообщения который вегко продитать скорее лсего лы лсе смевави праливьно и повудите заксизавьный бавв ча посвемнее детлертое чамание курса хотя конедно я нидего не обещаю\n",
      "----------------------------------------------------------------------------------------------------\n",
      "iteration 350000\n",
      "score -3173.0608659934637\n",
      "Validation text: \n",
      "если цы цимите норзальный или подти норзальный текст у этого сообщения который легко продитать скорее цсего цы цсе смелали працильно и полудите заксизальный балл ча послемнее детцертое чамание курса хотя конедно я нидего не обещаж\n",
      "----------------------------------------------------------------------------------------------------\n",
      "iteration 360000\n",
      "score -3175.5510539362854\n",
      "Validation text: \n",
      "если вы вимите норзальный или поъти норзальный текст у этого сообщения который легко проъитать скорее всего вы все смелали правильно и полуъите заксизальный балл ча послемнее ъетвертое чамание курса шотя конеъно я ниъего не обещаю\n",
      "----------------------------------------------------------------------------------------------------\n",
      "iteration 370000\n",
      "score -3177.0633999962547\n",
      "Validation text: \n",
      "если вы вичите нордальный или помти нордальный текст у этого сообщения который легко промитать скорее всего вы все счелали правильно и полумите даксидальный балл ха послечнее метвертое хачание курса цотя конемно я нимего не обещаз\n",
      "----------------------------------------------------------------------------------------------------\n",
      "iteration 380000\n",
      "score -3175.760371123579\n",
      "Validation text: \n",
      "есла вы важате нордильный ала помта нордильный текст у этого сообченая который легко проматить скорее всего вы все сжелила привально а полумате диксадильный билл зи послежнее метвертое зижинае курси хотя конемно я намего не обечиш\n",
      "----------------------------------------------------------------------------------------------------\n",
      "iteration 390000\n",
      "score -3180.96079629693\n",
      "Validation text: \n",
      "если ыв ыимите норзальнвй или подти норзальнвй текст у этого сообцения которвй легко продитать скорее ысего ыв ысе смелали праыильно и полудите заксизальнвй балл ча послемнее детыертое чамание курса жотя конедно я нидего не обецаш\n",
      "----------------------------------------------------------------------------------------------------\n",
      "iteration 400000\n",
      "score -3174.6902569044028\n",
      "Validation text: \n",
      "если вы вимите норзальный или подти норзальный текст у этого сообшения который легко продитать скорее всего вы все смелали правильно и полудите заксизальный балл ча послемнее детвертое чамание курса цотя конедно я нидего не обешаж\n",
      "----------------------------------------------------------------------------------------------------\n",
      "iteration 410000\n",
      "score -3175.5283543534\n",
      "Validation text: \n",
      "если вы вичите норзальный или помти норзальный текст у этого сообжения который легко промитать скорее всего вы все счелали правильно и полумите заксизальный балл да послечнее метвертое дачание курса хотя конемно я нимего не обежаф\n",
      "----------------------------------------------------------------------------------------------------\n",
      "iteration 420000\n",
      "score -3173.0608659934637\n",
      "Validation text: \n",
      "если вы вимите норпальный или зодти норпальный текст у этого сообщения который легко зродитать скорее всего вы все смелали зравильно и золудите паксипальный балл ча зослемнее детвертое чамание курса хотя конедно я нидего не обещаж\n"
     ]
    },
    {
     "name": "stdout",
     "output_type": "stream",
     "text": [
      "----------------------------------------------------------------------------------------------------\n",
      "iteration 430000\n",
      "score -3173.4908437565336\n",
      "Validation text: \n",
      "если вы вимите нэрзальный или пэдти нэрзальный текст у отэгэ сээбщения кэтэрый легкэ прэдитать скэрее всегэ вы все смелали правильнэ и пэлудите заксизальный балл ча пэслемнее детвертэе чамание курса хэтя кэнеднэ я нидегэ не эбещаю\n",
      "----------------------------------------------------------------------------------------------------\n",
      "iteration 440000\n",
      "score -3173.0608659934637\n",
      "Validation text: \n",
      "йсли вы вимитй норзальные или подти норзальные тйкст у этого сообщйния которые лйгко продитать скорйй всйго вы всй смйлали правильно и полудитй заксизальные балл ча послймнйй дйтвйртой чаманий курса хотя конйдно я нидйго нй обйщаж\n",
      "----------------------------------------------------------------------------------------------------\n",
      "iteration 450000\n",
      "score -3173.0608659934637\n",
      "Validation text: \n",
      "тсли вы вимиет норзальный или подеи норзальный етксе у эеого сообщтния коеорый лтгко продиеаеь скортт встго вы вст смтлали правильно и полудиет заксизальный балл ча послтмнтт дтевтреот чаманит курса хоея контдно я нидтго нт обтщаж\n",
      "----------------------------------------------------------------------------------------------------\n",
      "iteration 460000\n",
      "score -3173.2648872638424\n",
      "Validation text: \n",
      "если вы вимите норзальный или подти норзальный тещст у этого сообкения щоторый легщо продитать сщорее всего вы все смелали правильно и полудите защсизальный балл ча послемнее детвертое чамание щурса хотя щонедно я нидего не обекаш\n",
      "----------------------------------------------------------------------------------------------------\n",
      "iteration 470000\n",
      "score -3173.0608659934637\n",
      "Validation text: \n",
      "если вы вимите норзальный или покти норзальный тедст у этого сообщения доторый легдо прокитать сдорее всего вы все смелали правильно и полуките задсизальный балл ча послемнее кетвертое чамание дурса хотя донекно я никего не обещаж\n",
      "----------------------------------------------------------------------------------------------------\n",
      "iteration 480000\n",
      "score -3173.4908437565336\n",
      "Validation text: \n",
      "если вы вимите ноьзалрный или подти ноьзалрный текст у этого сообщения котоьый легко пьодитатр скоьее всего вы все смелали пьавилрно и полудите заксизалрный балл ча послемнее детвеьтое чамание куьса хотя конедно я нидего не обещаю\n",
      "----------------------------------------------------------------------------------------------------\n",
      "iteration 490000\n",
      "score -3173.0608659934637\n",
      "Validation text: \n",
      "если вы вимите нпрзальный или опдти нпрзальный текст у этпгп сппбщения кптпрый легкп орпдитать скпрее всегп вы все смелали оравильнп и оплудите заксизальный балл ча опслемнее детвертпе чамание курса хптя кпнеднп я нидегп не пбещаж\n",
      "----------------------------------------------------------------------------------------------------\n",
      "iteration 500000\n",
      "score -3176.4355199619367\n",
      "Validation text: \n",
      "есчи вы вилите нордачьный ичи помти нордачьный текст у этого сообщения который чегко промитать скорее всего вы все слечачи правичьно и почумите даксидачьный бачч за посчелнее метвертое залание курса хотя конемно я нимего не обещац\n",
      "----------------------------------------------------------------------------------------------------\n",
      "iteration 510000\n",
      "score -3173.8223038635056\n",
      "Validation text: \n",
      "если вы вичите нхрдальный или пхмти нхрдальный текст у этхгх сххбщения кхтхрый легкх прхмитать скхрее всегх вы все счелали правильнх и пхлумите даксидальный балл за пхслечнее метвертхе зачание курса охтя кхнемнх я нимегх не хбещаж\n",
      "----------------------------------------------------------------------------------------------------\n",
      "iteration 520000\n",
      "score -3175.1035895096334\n",
      "Validation text: \n",
      "если вы вичите нордульный или помти нордульный текст а этого сообжения который легко промитуть скорее всего вы все счелули прувильно и поламите дуксидульный булл зу послечнее метвертое зучуние карсу хотя конемно я нимего не обежую\n",
      "----------------------------------------------------------------------------------------------------\n",
      "iteration 530000\n",
      "score -3174.2522816265755\n",
      "Validation text: \n",
      "есыи вл вичите нордаыьнлй иыи помти нордаыьнлй текст у этого сообщения которлй ыегко промитать скорее всего вл все счеыаыи правиыьно и поыумите даксидаыьнлй баыы за посыечнее метвертое зачание курса хотя конемно я нимего не обещаю\n",
      "----------------------------------------------------------------------------------------------------\n",
      "iteration 540000\n",
      "score -3178.7715355167693\n",
      "Validation text: \n",
      "еслъ вы въжъте нордальный ълъ помтъ нордальный текст у этого соочшенъя который легко промътать скорее всего вы все сжелалъ правъльно ъ полумъте даксъдальный чалл за послежнее метвертое зажанъе курса хотя конемно я нъмего не очешаб\n",
      "----------------------------------------------------------------------------------------------------\n",
      "iteration 550000\n",
      "score -3177.77832399949\n",
      "Validation text: \n",
      "еслз вы взчзте нордальный злз помтз нордальный текст у штого сообщензя который легко промзтать скорее всего вы все счелалз правзльно з полумзте даксздальный балл иа послечнее метвертое иачанзе курса хотя конемно я нзмего не обещаю\n",
      "----------------------------------------------------------------------------------------------------\n",
      "iteration 560000\n",
      "score -3173.8223038635056\n",
      "Validation text: \n",
      "еслн вы внчнте иордальиый нлн помтн иордальиый текст у этого сообщеиня который легко промнтать скорее всего вы все счелалн правнльио н полумнте даксндальиый балл за послечиее метвертое зачаине курса хотя коиемио я инмего ие обещаж\n",
      "----------------------------------------------------------------------------------------------------\n",
      "iteration 570000\n",
      "score -3174.0263251338843\n",
      "Validation text: \n",
      "если вы вичите нордальный или погти нордальный текст у этомо сообщения который лемко прогитать скорее всемо вы все счелали правильно и полугите даксидальный балл за послечнее гетвертое зачание курса хотя конегно я нигемо не обещаш\n",
      "----------------------------------------------------------------------------------------------------\n",
      "iteration 580000\n",
      "score -3176.1696011589806\n",
      "Validation text: \n",
      "если вы вишите нордальный или помти нордальный текст у хтого сообщения который легко промитать скорее всего вы все сшелали правильно и полумите даксидальный балл за послешнее метвертое зашание курса чотя конемно я нимего не обещаж\n",
      "----------------------------------------------------------------------------------------------------\n",
      "iteration 590000\n",
      "score -3175.8825140432573\n",
      "Validation text: \n",
      "если вы вичите нордальный или помти нордальный текст у этого сообяенищ который легко промитать скорее всего вы все счелали правильно и полумите даксидальный балл за послечнее метвертое зачание курса шотщ конемно щ нимего не обеяаж\n",
      "----------------------------------------------------------------------------------------------------\n",
      "iteration 600000\n",
      "score -3181.540200522795\n",
      "Validation text: \n",
      "если вы видите норзальный или помти норзальный текст у ътого сообщения который легко промитать скорее всего вы все сделали правильно и полумите заксизальный балл ча последнее метвертое чадание курса жотя конемно я нимего не обещаф\n",
      "----------------------------------------------------------------------------------------------------\n",
      "iteration 610000\n",
      "score -3180.6429097159903\n",
      "Validation text: \n",
      "если вы вимите нордальный или пофти нордальный текст у этого соожбения который легко профитать скорее всего вы все смелали правильно и полуфите даксидальный жалл за послемнее фетвертое замание курса шотя конефно я нифего не ожебаю\n",
      "----------------------------------------------------------------------------------------------------\n",
      "iteration 620000\n",
      "score -3175.5334618288734\n",
      "Validation text: \n",
      "если вы вимите норзальный или подти норзальный текст у ятого сообжениэ который легко продитать скорее всего вы все смелали правильно и полудите заксизальный балл ча послемнее детвертое чамание курса хотэ конедно э нидего не обежащ\n",
      "----------------------------------------------------------------------------------------------------\n",
      "iteration 630000\n",
      "score -3173.4908437565336\n",
      "Validation text: \n",
      "если вы вимите норщальный или подти норщальный текст у этого сообзения который легко продитать скорее всего вы все смелали правильно и полудите щаксищальный балл ча послемнее детвертое чамание курса хотя конедно я нидего не обезаю\n"
     ]
    },
    {
     "name": "stdout",
     "output_type": "stream",
     "text": [
      "----------------------------------------------------------------------------------------------------\n",
      "iteration 640000\n",
      "score -3173.2648872638424\n",
      "Validation text: \n",
      "если вы вимите норщальный или подти норщальный текст у этого сообзения который легко продитать скорее всего вы все смелали правильно и полудите щаксищальный балл ча послемнее детвертое чамание курса хотя конедно я нидего не обезаш\n",
      "----------------------------------------------------------------------------------------------------\n",
      "iteration 650000\n",
      "score -3176.129547370229\n",
      "Validation text: \n",
      "есличвычвимитечнорзальныйчиличподтичнорзальныйчтекстчучэтогочсоо шениячкоторыйчлегкочпродитатьчскореечвсегочвычвсечсмелаличправильночичполудитечзаксизальныйч аллчбачпослемнеечдетвертоечбаманиечкурсачхотячконедночячнидегочнечо ешаю\n",
      "----------------------------------------------------------------------------------------------------\n",
      "iteration 660000\n",
      "score -3173.9156086003004\n",
      "Validation text: \n",
      "есль вы вьмьте норзалиный ьль подть норзалиный текст у этого сообщенья который легко продьтати скорее всего вы все смелаль правьлино ь полудьте заксьзалиный балл ча послемнее детвертое чаманье курса хотя конедно я ньдего не обещаф\n",
      "----------------------------------------------------------------------------------------------------\n",
      "iteration 670000\n",
      "score -3173.2648872638424\n",
      "Validation text: \n",
      "еслъ вы въмъте норзальный ълъ подтъ норзальный текст у этого сообщенъя который легко продътать скорее всего вы все смелалъ правъльно ъ полудъте заксъзальный балл ча послемнее детвертое чаманъе курса хотя конедно я нъдего не обещаш\n",
      "----------------------------------------------------------------------------------------------------\n",
      "iteration 680000\n",
      "score -3183.813389510705\n",
      "Validation text: \n",
      "если кы кижите норзальный или подти норзальный тевст у этого сообщения воторый легво продитать сворее ксего кы ксе сжелали пракильно и полудите завсизальный балл ма послежнее деткертое мажание вурса хотя вонедно я нидего не обещац\n",
      "----------------------------------------------------------------------------------------------------\n",
      "iteration 690000\n",
      "score -3173.0608659934637\n",
      "Validation text: \n",
      "если бы бимите норзальный или подти норзальный текст у этого соовщения который легко продитать скорее бсего бы бсе смелали прабильно и полудите заксизальный валл ча послемнее детбертое чамание курса хотя конедно я нидего не овещаж\n",
      "----------------------------------------------------------------------------------------------------\n",
      "iteration 700000\n",
      "score -3173.4908437565336\n",
      "Validation text: \n",
      "если вы вимите нокзальный или подти нокзальный терст у этого сообщения ротокый легро пкодитать срокее всего вы все смелали пкавильно и полудите зарсизальный балл ча послемнее детвектое чамание рукса хотя ронедно я нидего не обещаю\n",
      "----------------------------------------------------------------------------------------------------\n",
      "iteration 710000\n",
      "score -3175.5334618288734\n",
      "Validation text: \n",
      "если вы вимите норзальный или поэти норзальный текст у дтого сообжения который легко проэитать скорее всего вы все смелали правильно и полуэите заксизальный балл ча послемнее эетвертое чамание курса хотя конеэно я ниэего не обежащ\n",
      "----------------------------------------------------------------------------------------------------\n",
      "iteration 720000\n",
      "score -3173.0608659934637\n",
      "Validation text: \n",
      "если вы вимите нощзальный или подти нощзальный текст у этого сообрения котощый легко пщодитать скощее всего вы все смелали пщавильно и полудите заксизальный балл ча послемнее детвещтое чамание кущса хотя конедно я нидего не обераж\n",
      "----------------------------------------------------------------------------------------------------\n",
      "iteration 730000\n",
      "score -3174.342151639592\n",
      "Validation text: \n",
      "ецли вы вимите норзальный или подти норзальный текцт у этого цообжения который легко продитать цкорее вцего вы вце цмелали правильно и полудите закцизальный балл ча поцлемнее детвертое чамание курца хотя конедно я нидего не обежаю\n",
      "----------------------------------------------------------------------------------------------------\n",
      "iteration 740000\n",
      "score -3173.2648872638424\n",
      "Validation text: \n",
      "егли вы вимите норзальный или подти норзальный текгт у этосо гообщения который леско продитать гкорее вгесо вы вге гмелали правильно и полудите закгизальный балл ча поглемнее детвертое чамание курга хотя конедно я нидесо не обещаш\n",
      "----------------------------------------------------------------------------------------------------\n",
      "iteration 750000\n",
      "score -3173.2648872638424\n",
      "Validation text: \n",
      "если вы вимите норцальный или подти норцальный текст у этого сообщения который легко продитать скорее всего вы все смелали правильно и полудите цаксицальный балл ча послемнее детвертое чамание курса хотя конедно я нидего не обещаш\n",
      "----------------------------------------------------------------------------------------------------\n",
      "iteration 760000\n",
      "score -3173.2648872638424\n",
      "Validation text: \n",
      "ески вы вимите норзакьный ики подти норзакьный телст у этого сообщения лоторый кегло продитать слорее всего вы все смекаки правикьно и покудите залсизакьный бакк ча поскемнее детвертое чамание лурса хотя лонедно я нидего не обещаш\n",
      "----------------------------------------------------------------------------------------------------\n",
      "iteration 770000\n",
      "score -3177.2964068040283\n",
      "Validation text: \n",
      "если вы вимите норзальный или подти норзальный текст у этофо сообщения который лефко продитать скорее всефо вы все смелали правильно и полудите заксизальный балл ча послемнее детвертое чамание курса готя конедно я нидефо не обещаш\n",
      "----------------------------------------------------------------------------------------------------\n",
      "iteration 780000\n",
      "score -3173.0608659934637\n",
      "Validation text: \n",
      "ежли вы вимите норзальный или подти норзальный текжт у этого жообщения который легко продитать жкорее вжего вы вже жмелали правильно и полудите закжизальный балл ча пожлемнее детвертое чамание куржа хотя конедно я нидего не обещас\n",
      "----------------------------------------------------------------------------------------------------\n",
      "iteration 790000\n",
      "score -3173.2648872638424\n",
      "Validation text: \n",
      "если вы вимите норзальный или подти норзальный текст у этого сообщения который легко продитать скорее всего вы все смелали правильно и полудите заксизальный балл ча послемнее детвертое чамание курса хотя конедно я нидего не обещаш\n",
      "----------------------------------------------------------------------------------------------------\n",
      "iteration 800000\n",
      "score -3179.8280044991275\n",
      "Validation text: \n",
      "еслимвымви итемнорзальныймилимподтимнорзальныймтекстмумштогомсообщениямкоторыймлегкомпродитатьмскореемвсегомвымвсемс елалимправильномимполудитемзаксизальныймбаллмчампосле неемдетвертоемча аниемкурсамцотямконедномямнидегомнемобещах\n",
      "----------------------------------------------------------------------------------------------------\n",
      "iteration 810000\n",
      "score -3173.0608659934637\n",
      "Validation text: \n",
      "если вы вимите норзалщный или подти норзалщный текст у этого сообьения который легко продитатщ скорее всего вы все смелали правилщно и полудите заксизалщный балл ча послемнее детвертое чамание курса хотя конедно я нидего не обеьаж\n",
      "----------------------------------------------------------------------------------------------------\n",
      "iteration 820000\n",
      "score -3175.5449995112394\n",
      "Validation text: \n",
      "если вы вимите нарзольный или падти нарзольный текст у этага саабшения катарый легка прадитоть скарее всега вы все смелоли провильна и палудите зоксизольный болл чо паслемнее детвертае чомоние курсо хатя канедна я нидега не абешоф\n",
      "----------------------------------------------------------------------------------------------------\n",
      "iteration 830000\n",
      "score -3173.2648872638424\n",
      "Validation text: \n",
      "еэли вы вимите норзальный или подти норзальный текэт у стого эообщения который легко продитать экорее вэего вы вэе эмелали правильно и полудите закэизальный балл ча поэлемнее детвертое чамание курэа хотя конедно я нидего не обещаш\n",
      "----------------------------------------------------------------------------------------------------\n",
      "iteration 840000\n",
      "score -3173.8223038635056\n",
      "Validation text: \n",
      "если вы вичите нордпльный или аомти нордпльный текст у этого сообщения который легко аромитпть скорее всего вы все счелпли арпвильно и аолумите дпксидпльный бплл зп аослечнее метвертое зпчпние курсп хотя конемно я нимего не обещпж\n"
     ]
    },
    {
     "name": "stdout",
     "output_type": "stream",
     "text": [
      "----------------------------------------------------------------------------------------------------\n",
      "iteration 850000\n",
      "score -3174.6770464703422\n",
      "Validation text: \n",
      "еслидвыдвичитеднор альныйдилидпомтиднор альныйдтекстдудэтогодсообщениядкоторыйдлегкодпромитатьдскореедвсегодвыдвседсчелалидправильнодидполумитед акси альныйдбаллдзадпослечнеедметвертоедзачаниедкурсадхотядконемнодяднимегоднедобещаф\n",
      "----------------------------------------------------------------------------------------------------\n",
      "iteration 860000\n",
      "score -3174.0263251338843\n",
      "Validation text: \n",
      "еслицвыцвичитецнордальныйцилицпомтицнордальныйцтекстцуцэтогоцсообщенияцкоторыйцлегкоцпромитатьцскореецвсегоцвыцвсецсчелалицправильноцицполумитецдаксидальныйцбаллцзацпослечнеецметвертоецзачаниецкурсацхотяцконемноцяцнимегоцнецобещаш\n",
      "----------------------------------------------------------------------------------------------------\n",
      "iteration 870000\n",
      "score -3177.7109058958586\n",
      "Validation text: \n",
      "если вы вичите нордальныъ или помти нордальныъ текст у этого сообщения которыъ легко промитать скорее всего вы все счелали правильно и полумите даксидальныъ балл за послечнее метвертое зачание курса цотя конемно я нимего не обещаф\n",
      "----------------------------------------------------------------------------------------------------\n",
      "iteration 880000\n",
      "score -3179.274829063315\n",
      "Validation text: \n",
      "если вы вичите нормальный или подти нормальный текст у этого сообфения который легко продитать скорее всего вы все счелали правильно и полудите максимальный балл за послечнее детвертое зачание курса хотя конедно я нидего не обефаж\n",
      "----------------------------------------------------------------------------------------------------\n",
      "iteration 890000\n",
      "score -3174.1161951469007\n",
      "Validation text: \n",
      "если вы вимите норзальный или подти норзальный текст у этого сообжениё который легко продитать скорее всего вы все смелали правильно и полудите заксизальный балл ча послемнее детвертое чамание курса хотё конедно ё нидего не обежаш\n",
      "----------------------------------------------------------------------------------------------------\n",
      "iteration 900000\n",
      "score -3174.6902569044028\n",
      "Validation text: \n",
      "если вы вимите норзалдный или поьти норзалдный текст у этого сообшения который легко проьитатд скорее всего вы все смелали правилдно и полуьите заксизалдный балл ча послемнее ьетвертое чамание курса хотя конеьно я ниьего не обешаж\n",
      "----------------------------------------------------------------------------------------------------\n",
      "iteration 910000\n",
      "score -3174.2522816265755\n",
      "Validation text: \n",
      "если вы вичите норйальныд или помти норйальныд текст у этого сообщения которыд легко промитать скорее всего вы все счелали правильно и полумите йаксийальныд балл за послечнее метвертое зачание курса хотя конемно я нимего не обещаю\n",
      "----------------------------------------------------------------------------------------------------\n",
      "iteration 920000\n",
      "score -3175.4516947744446\n",
      "Validation text: \n",
      "лсеи вы вичитл нордаеьный иеи помти нордаеьный тлкст у этого сообшлния который елгко промитать скорлл вслго вы всл счлеаеи правиеьно и поеумитл даксидаеьный баее за поселчнлл млтвлртол зачанил курса хотя конлмно я нимлго нл облшаж\n",
      "----------------------------------------------------------------------------------------------------\n",
      "iteration 930000\n",
      "score -3174.2522816265755\n",
      "Validation text: \n",
      "если вы вичите нордальный или помти нордальный текст у этого сообщениф который легко промитать скорее всего вы все счелали правильно и полумите даксидальный балл за послечнее метвертое зачание курса хотф конемно ф нимего не обещаю\n",
      "----------------------------------------------------------------------------------------------------\n",
      "iteration 940000\n",
      "score -3177.3547837844476\n",
      "Validation text: \n",
      "если вы вишите нордалцный или помти нордалцный текст у этого сообщения который легко промитатц скорее всего вы все сшелали правилцно и полумите даксидалцный балл за послешнее метвертое зашание курса хотя конемно я нимего не обещаж\n",
      "----------------------------------------------------------------------------------------------------\n",
      "iteration 950000\n",
      "score -3176.1256123982016\n",
      "Validation text: \n",
      "еслиыв ывимитеынордальн йыилиыпочтиынордальн йытекстыуыэтогоысообщенияыкотор йылегкоыпрочитатьыскорееывсегоыв ывсеысмелалиыправильноыиыполучитеыдаксидальн йыбаллызаыпослемнееычетвертоеызаманиеыкурсаыхотяыконечноыяыничегоынеыобещаю\n",
      "----------------------------------------------------------------------------------------------------\n",
      "iteration 960000\n",
      "score -3176.411092460037\n",
      "Validation text: \n",
      "если вы вижите норьалдный или помти норьалдный текст у этого сообчения который легко промитатд скорее всего вы все сжелали правилдно и полумите ьаксиьалдный балл за послежнее метвертое зажание курса хотя конемно я нимего не обечаф\n",
      "----------------------------------------------------------------------------------------------------\n",
      "iteration 970000\n",
      "score -3174.877633016942\n",
      "Validation text: \n",
      "если вы вичите нордальныц или помти нордальныц текст у этого сообжения которыц легко промитать скорее всего вы все счелали правильно и полумите даксидальныц балл за послечнее метвертое зачание курса хотя конемно я нимего не обежаш\n",
      "----------------------------------------------------------------------------------------------------\n",
      "iteration 980000\n",
      "score -3177.1826344354436\n",
      "Validation text: \n",
      "ясли вы вижитя нордальный или помти нордальный тякст у этого соочшяние который лягко промитать скоряя всяго вы вся сжялали правильно и полумитя даксидальный чалл за посляжняя мятвяртоя зажания курса боте конямно е нимяго ня очяшаф\n",
      "----------------------------------------------------------------------------------------------------\n",
      "iteration 990000\n",
      "score -3177.7558448148834\n",
      "Validation text: \n",
      "если вы вимите нордальный или почти нордальный текст у этого сообщения который легко прочитать скорее всего вы все смелали правильно и получите даксидальный балл за послемнее четвертое замание курса шотя конечно я ничего не обещаф\n",
      "----------------------------------------------------------------------------------------------------\n",
      "iteration 1000000\n",
      "score -3173.2648872638424\n",
      "Validation text: \n",
      "еслирвырвимитерно зальныйрилирподтирно зальныйртекструрэтогорсообщенияркото ыйрлегкорп одитатьрско еервсегорвырвсерсмелалирп авильнорирполудитерзаксизальныйрбаллрчарпослемнеердетве тоерчаманиерку сархотярконеднорярнидегорнеробещаш\n"
     ]
    }
   ],
   "source": [
    "encoded_text = \"\"\"←⇠⇒↟↹↷⇊↹↷↟↤↟↨←↹↝⇛⇯↳⇴⇒⇈↝⇊↾↹↟⇒↟↹⇷⇛⇞↨↟↹↝⇛⇯↳⇴⇒⇈↝⇊↾↹↨←⇌⇠↨↹⇙↹⇸↨⇛↙⇛↹⇠⇛⇛↲⇆←↝↟↞↹⇌⇛↨⇛⇯⇊↾↹⇒←↙⇌⇛↹⇷⇯⇛⇞↟↨⇴↨⇈↹⇠⇌⇛⇯←←↹↷⇠←↙⇛↹↷⇊↹↷⇠←↹⇠↤←⇒⇴⇒↟↹⇷⇯⇴↷↟⇒⇈↝⇛↹↟↹⇷⇛⇒⇙⇞↟↨←↹↳⇴⇌⇠↟↳⇴⇒⇈↝⇊↾↹↲⇴⇒⇒↹⇰⇴↹⇷⇛⇠⇒←↤↝←←↹⇞←↨↷←⇯↨⇛←↹⇰⇴↤⇴↝↟←↹⇌⇙⇯⇠⇴↹↘⇛↨↞↹⇌⇛↝←⇞↝⇛↹↞↹↝↟⇞←↙⇛↹↝←↹⇛↲←⇆⇴⇏\"\"\"\n",
    "\n",
    "decoder = MCMCSamplingDecoder()\n",
    "decoder.fit(\n",
    "    war_peace_ru,\n",
    "    encoded_text,\n",
    "    max_iter=1000000,\n",
    "    validation_text=True,\n",
    ")"
   ]
  },
  {
   "cell_type": "code",
   "execution_count": 605,
   "metadata": {},
   "outputs": [
    {
     "data": {
      "text/plain": [
       "'если вы вимите норзальный или подти норзальный текст у этого сообщения который легко продитать скорее всего вы все смелали правильно и полудите заксизальный балл ча послемнее детвертое чамание курса хотя конедно я нидего не обещаш'"
      ]
     },
     "execution_count": 605,
     "metadata": {},
     "output_type": "execute_result"
    }
   ],
   "source": [
    "decoder.predict(encoded_text)"
   ]
  },
  {
   "cell_type": "code",
   "execution_count": null,
   "metadata": {},
   "outputs": [],
   "source": []
  }
 ],
 "metadata": {
  "kernelspec": {
   "display_name": "tensorflow37",
   "language": "python",
   "name": "tensorflow37"
  },
  "language_info": {
   "codemirror_mode": {
    "name": "ipython",
    "version": 3
   },
   "file_extension": ".py",
   "mimetype": "text/x-python",
   "name": "python",
   "nbconvert_exporter": "python",
   "pygments_lexer": "ipython3",
   "version": "3.7.6"
  }
 },
 "nbformat": 4,
 "nbformat_minor": 4
}
